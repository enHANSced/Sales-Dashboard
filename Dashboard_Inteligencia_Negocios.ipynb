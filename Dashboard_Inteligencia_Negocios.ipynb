{
 "cells": [
  {
   "cell_type": "markdown",
   "id": "7f0ca11a",
   "metadata": {},
   "source": [
    "# 📊 Dashboard de Inteligencia de Negocios - Análisis de Ventas Honduras 2025\n",
    "\n",
    "## Objetivo\n",
    "Crear un panel de control interactivo que permita visualizar la salud del negocio de un vistazo en el contexto hondureño, respondiendo preguntas clave como:\n",
    "- ¿Cuánto hemos vendido este mes/trimestre/año? (en Lempiras)\n",
    "- ¿Cuáles son nuestros 5 productos más vendidos?\n",
    "- ¿Quiénes son nuestros clientes más valiosos?\n",
    "- ¿Qué días de la semana se vende más en Honduras?\n",
    "\n",
    "---"
   ]
  },
  {
   "cell_type": "markdown",
   "id": "d81783d0",
   "metadata": {},
   "source": [
    "## 1. Cargar y Configurar Librerías"
   ]
  },
  {
   "cell_type": "code",
   "execution_count": 1,
   "id": "3ea8ecb2",
   "metadata": {},
   "outputs": [
    {
     "name": "stdout",
     "output_type": "stream",
     "text": [
      "✅ Librerías cargadas exitosamente!\n"
     ]
    }
   ],
   "source": [
    "# Importar librerías necesarias para análisis de datos y visualización\n",
    "import pandas as pd\n",
    "import numpy as np\n",
    "import matplotlib.pyplot as plt\n",
    "import seaborn as sns\n",
    "import plotly.express as px\n",
    "import plotly.graph_objects as go\n",
    "from plotly.subplots import make_subplots\n",
    "import plotly.figure_factory as ff\n",
    "from datetime import datetime, timedelta\n",
    "import warnings\n",
    "\n",
    "# Configuración de visualización\n",
    "warnings.filterwarnings('ignore')\n",
    "plt.style.use('default')\n",
    "sns.set_palette(\"husl\")\n",
    "\n",
    "# Configuración de pandas para mostrar más columnas\n",
    "pd.set_option('display.max_columns', None)\n",
    "pd.set_option('display.width', 1000)\n",
    "\n",
    "print(\"✅ Librerías cargadas exitosamente!\")"
   ]
  },
  {
   "cell_type": "markdown",
   "id": "c8dc8e00",
   "metadata": {},
   "source": [
    "## 2. Cargar y Explorar Datos"
   ]
  },
  {
   "cell_type": "code",
   "execution_count": 3,
   "id": "0c207f8c",
   "metadata": {},
   "outputs": [
    {
     "name": "stdout",
     "output_type": "stream",
     "text": [
      "✅ Archivo cargado exitosamente con encoding latin-1: 32768 filas\n",
      "📊 Columnas disponibles: ['Unnamed: 0', 'Type', 'Date', 'Num', 'Memo', 'Name', 'Item', 'Qty', 'Sales Price', 'Amount', 'Balance']\n",
      "\n",
      "==================================================\n",
      "🔍 EXPLORACIÓN INICIAL DE DATOS\n",
      "==================================================\n",
      "\n",
      "📋 Información general del dataset:\n",
      "<class 'pandas.core.frame.DataFrame'>\n",
      "RangeIndex: 32768 entries, 0 to 32767\n",
      "Data columns (total 11 columns):\n",
      " #   Column       Non-Null Count  Dtype  \n",
      "---  ------       --------------  -----  \n",
      " 0   Unnamed: 0   1357 non-null   object \n",
      " 1   Type         31411 non-null  object \n",
      " 2   Date         31411 non-null  object \n",
      " 3   Num          31411 non-null  float64\n",
      " 4   Memo         31411 non-null  object \n",
      " 5   Name         31411 non-null  object \n",
      " 6   Item         31411 non-null  object \n",
      " 7   Qty          32089 non-null  float64\n",
      " 8   Sales Price  31410 non-null  float64\n",
      " 9   Amount       32089 non-null  float64\n",
      " 10  Balance      32089 non-null  float64\n",
      "dtypes: float64(5), object(6)\n",
      "memory usage: 2.8+ MB\n",
      "\n",
      "📈 Primeras 10 filas:\n"
     ]
    },
    {
     "data": {
      "application/vnd.microsoft.datawrangler.viewer.v0+json": {
       "columns": [
        {
         "name": "index",
         "rawType": "int64",
         "type": "integer"
        },
        {
         "name": "Unnamed: 0",
         "rawType": "object",
         "type": "unknown"
        },
        {
         "name": "Type",
         "rawType": "object",
         "type": "unknown"
        },
        {
         "name": "Date",
         "rawType": "object",
         "type": "unknown"
        },
        {
         "name": "Num",
         "rawType": "float64",
         "type": "float"
        },
        {
         "name": "Memo",
         "rawType": "object",
         "type": "unknown"
        },
        {
         "name": "Name",
         "rawType": "object",
         "type": "unknown"
        },
        {
         "name": "Item",
         "rawType": "object",
         "type": "unknown"
        },
        {
         "name": "Qty",
         "rawType": "float64",
         "type": "float"
        },
        {
         "name": "Sales Price",
         "rawType": "float64",
         "type": "float"
        },
        {
         "name": "Amount",
         "rawType": "float64",
         "type": "float"
        },
        {
         "name": "Balance",
         "rawType": "float64",
         "type": "float"
        }
       ],
       "ref": "92367adf-c00c-4fed-94c2-7188bda491bc",
       "rows": [
        [
         "0",
         "ELLAS VELASQUEZ",
         null,
         null,
         null,
         null,
         null,
         null,
         null,
         null,
         null,
         null
        ],
        [
         "1",
         null,
         "Invoice",
         "8/9/2025",
         "19669.0",
         "PAQUETE DE BOTECITOS 1  Litro",
         "ELLAS VELASQUEZ",
         "02 BOTECITOS PAQUETES:BOTE 1 L PAQ",
         "10.0",
         "85.2",
         "852.0",
         "852.0"
        ],
        [
         "2",
         null,
         "Invoice",
         "8/9/2025",
         "19669.0",
         "PAQUETE BOTECITOS 1/2 LITRO",
         "ELLAS VELASQUEZ",
         "02 BOTECITOS PAQUETES:BOTE 0.5 L PAQ",
         "6.0",
         "75.0",
         "450.0",
         "1302.0"
        ],
        [
         "3",
         null,
         "Invoice",
         "8/9/2025",
         "19669.0",
         "PAQUETE BOTECITOS 1.5 LITRO",
         "ELLAS VELASQUEZ",
         "02 BOTECITOS PAQUETES:BOTE 1.5 L PAQ",
         "6.0",
         "95.4",
         "572.4",
         "1874.4"
        ],
        [
         "4",
         null,
         "Invoice",
         "8/9/2025",
         "19669.0",
         "IMPUESTO SOBRE VENTAS",
         "ELLAS VELASQUEZ",
         "ISV-15%",
         "1.0",
         "281.16",
         "281.16",
         "2155.56"
        ],
        [
         "5",
         "Total ELLAS VELASQUEZ",
         null,
         null,
         null,
         null,
         null,
         null,
         "23.0",
         null,
         "2155.56",
         "2155.56"
        ],
        [
         "6",
         "DELVIN LOZANO ROMERO",
         null,
         null,
         null,
         null,
         null,
         null,
         null,
         null,
         null,
         null
        ],
        [
         "7",
         null,
         "Sales Receipt",
         "27/8/2025",
         "19717.0",
         "AGUA EN BOLSA 1/2",
         "DELVIN LOZANO ROMERO",
         "01 AGUA EN BOLSA:PaqAgua 1/2",
         "80.0",
         "12.0",
         "960.0",
         "960.0"
        ],
        [
         "8",
         null,
         "Sales Receipt",
         "27/8/2025",
         "19717.0",
         "SACO HIELO VACIO",
         "DELVIN LOZANO ROMERO",
         "04 HIELO:SacoVacio",
         "8.0",
         "12.0",
         "96.0",
         "1056.0"
        ],
        [
         "9",
         null,
         "Sales Receipt",
         "27/8/2025",
         "19717.0",
         "IMPUESTO SOBRE VENTAS",
         "DELVIN LOZANO ROMERO",
         "ISV-15%",
         "1.0",
         "0.0",
         "0.0",
         "1056.0"
        ]
       ],
       "shape": {
        "columns": 11,
        "rows": 10
       }
      },
      "text/html": [
       "<div>\n",
       "<style scoped>\n",
       "    .dataframe tbody tr th:only-of-type {\n",
       "        vertical-align: middle;\n",
       "    }\n",
       "\n",
       "    .dataframe tbody tr th {\n",
       "        vertical-align: top;\n",
       "    }\n",
       "\n",
       "    .dataframe thead th {\n",
       "        text-align: right;\n",
       "    }\n",
       "</style>\n",
       "<table border=\"1\" class=\"dataframe\">\n",
       "  <thead>\n",
       "    <tr style=\"text-align: right;\">\n",
       "      <th></th>\n",
       "      <th>Unnamed: 0</th>\n",
       "      <th>Type</th>\n",
       "      <th>Date</th>\n",
       "      <th>Num</th>\n",
       "      <th>Memo</th>\n",
       "      <th>Name</th>\n",
       "      <th>Item</th>\n",
       "      <th>Qty</th>\n",
       "      <th>Sales Price</th>\n",
       "      <th>Amount</th>\n",
       "      <th>Balance</th>\n",
       "    </tr>\n",
       "  </thead>\n",
       "  <tbody>\n",
       "    <tr>\n",
       "      <th>0</th>\n",
       "      <td>ELLAS VELASQUEZ</td>\n",
       "      <td>NaN</td>\n",
       "      <td>NaN</td>\n",
       "      <td>NaN</td>\n",
       "      <td>NaN</td>\n",
       "      <td>NaN</td>\n",
       "      <td>NaN</td>\n",
       "      <td>NaN</td>\n",
       "      <td>NaN</td>\n",
       "      <td>NaN</td>\n",
       "      <td>NaN</td>\n",
       "    </tr>\n",
       "    <tr>\n",
       "      <th>1</th>\n",
       "      <td>NaN</td>\n",
       "      <td>Invoice</td>\n",
       "      <td>8/9/2025</td>\n",
       "      <td>19669.0</td>\n",
       "      <td>PAQUETE DE BOTECITOS 1  Litro</td>\n",
       "      <td>ELLAS VELASQUEZ</td>\n",
       "      <td>02 BOTECITOS PAQUETES:BOTE 1 L PAQ</td>\n",
       "      <td>10.0</td>\n",
       "      <td>85.20</td>\n",
       "      <td>852.00</td>\n",
       "      <td>852.00</td>\n",
       "    </tr>\n",
       "    <tr>\n",
       "      <th>2</th>\n",
       "      <td>NaN</td>\n",
       "      <td>Invoice</td>\n",
       "      <td>8/9/2025</td>\n",
       "      <td>19669.0</td>\n",
       "      <td>PAQUETE BOTECITOS 1/2 LITRO</td>\n",
       "      <td>ELLAS VELASQUEZ</td>\n",
       "      <td>02 BOTECITOS PAQUETES:BOTE 0.5 L PAQ</td>\n",
       "      <td>6.0</td>\n",
       "      <td>75.00</td>\n",
       "      <td>450.00</td>\n",
       "      <td>1302.00</td>\n",
       "    </tr>\n",
       "    <tr>\n",
       "      <th>3</th>\n",
       "      <td>NaN</td>\n",
       "      <td>Invoice</td>\n",
       "      <td>8/9/2025</td>\n",
       "      <td>19669.0</td>\n",
       "      <td>PAQUETE BOTECITOS 1.5 LITRO</td>\n",
       "      <td>ELLAS VELASQUEZ</td>\n",
       "      <td>02 BOTECITOS PAQUETES:BOTE 1.5 L PAQ</td>\n",
       "      <td>6.0</td>\n",
       "      <td>95.40</td>\n",
       "      <td>572.40</td>\n",
       "      <td>1874.40</td>\n",
       "    </tr>\n",
       "    <tr>\n",
       "      <th>4</th>\n",
       "      <td>NaN</td>\n",
       "      <td>Invoice</td>\n",
       "      <td>8/9/2025</td>\n",
       "      <td>19669.0</td>\n",
       "      <td>IMPUESTO SOBRE VENTAS</td>\n",
       "      <td>ELLAS VELASQUEZ</td>\n",
       "      <td>ISV-15%</td>\n",
       "      <td>1.0</td>\n",
       "      <td>281.16</td>\n",
       "      <td>281.16</td>\n",
       "      <td>2155.56</td>\n",
       "    </tr>\n",
       "    <tr>\n",
       "      <th>5</th>\n",
       "      <td>Total ELLAS VELASQUEZ</td>\n",
       "      <td>NaN</td>\n",
       "      <td>NaN</td>\n",
       "      <td>NaN</td>\n",
       "      <td>NaN</td>\n",
       "      <td>NaN</td>\n",
       "      <td>NaN</td>\n",
       "      <td>23.0</td>\n",
       "      <td>NaN</td>\n",
       "      <td>2155.56</td>\n",
       "      <td>2155.56</td>\n",
       "    </tr>\n",
       "    <tr>\n",
       "      <th>6</th>\n",
       "      <td>DELVIN LOZANO ROMERO</td>\n",
       "      <td>NaN</td>\n",
       "      <td>NaN</td>\n",
       "      <td>NaN</td>\n",
       "      <td>NaN</td>\n",
       "      <td>NaN</td>\n",
       "      <td>NaN</td>\n",
       "      <td>NaN</td>\n",
       "      <td>NaN</td>\n",
       "      <td>NaN</td>\n",
       "      <td>NaN</td>\n",
       "    </tr>\n",
       "    <tr>\n",
       "      <th>7</th>\n",
       "      <td>NaN</td>\n",
       "      <td>Sales Receipt</td>\n",
       "      <td>27/8/2025</td>\n",
       "      <td>19717.0</td>\n",
       "      <td>AGUA EN BOLSA 1/2</td>\n",
       "      <td>DELVIN LOZANO ROMERO</td>\n",
       "      <td>01 AGUA EN BOLSA:PaqAgua 1/2</td>\n",
       "      <td>80.0</td>\n",
       "      <td>12.00</td>\n",
       "      <td>960.00</td>\n",
       "      <td>960.00</td>\n",
       "    </tr>\n",
       "    <tr>\n",
       "      <th>8</th>\n",
       "      <td>NaN</td>\n",
       "      <td>Sales Receipt</td>\n",
       "      <td>27/8/2025</td>\n",
       "      <td>19717.0</td>\n",
       "      <td>SACO HIELO VACIO</td>\n",
       "      <td>DELVIN LOZANO ROMERO</td>\n",
       "      <td>04 HIELO:SacoVacio</td>\n",
       "      <td>8.0</td>\n",
       "      <td>12.00</td>\n",
       "      <td>96.00</td>\n",
       "      <td>1056.00</td>\n",
       "    </tr>\n",
       "    <tr>\n",
       "      <th>9</th>\n",
       "      <td>NaN</td>\n",
       "      <td>Sales Receipt</td>\n",
       "      <td>27/8/2025</td>\n",
       "      <td>19717.0</td>\n",
       "      <td>IMPUESTO SOBRE VENTAS</td>\n",
       "      <td>DELVIN LOZANO ROMERO</td>\n",
       "      <td>ISV-15%</td>\n",
       "      <td>1.0</td>\n",
       "      <td>0.00</td>\n",
       "      <td>0.00</td>\n",
       "      <td>1056.00</td>\n",
       "    </tr>\n",
       "  </tbody>\n",
       "</table>\n",
       "</div>"
      ],
      "text/plain": [
       "              Unnamed: 0           Type       Date      Num                           Memo                  Name                                  Item   Qty  Sales Price   Amount  Balance\n",
       "0        ELLAS VELASQUEZ            NaN        NaN      NaN                            NaN                   NaN                                   NaN   NaN          NaN      NaN      NaN\n",
       "1                    NaN        Invoice   8/9/2025  19669.0  PAQUETE DE BOTECITOS 1  Litro       ELLAS VELASQUEZ    02 BOTECITOS PAQUETES:BOTE 1 L PAQ  10.0        85.20   852.00   852.00\n",
       "2                    NaN        Invoice   8/9/2025  19669.0    PAQUETE BOTECITOS 1/2 LITRO       ELLAS VELASQUEZ  02 BOTECITOS PAQUETES:BOTE 0.5 L PAQ   6.0        75.00   450.00  1302.00\n",
       "3                    NaN        Invoice   8/9/2025  19669.0    PAQUETE BOTECITOS 1.5 LITRO       ELLAS VELASQUEZ  02 BOTECITOS PAQUETES:BOTE 1.5 L PAQ   6.0        95.40   572.40  1874.40\n",
       "4                    NaN        Invoice   8/9/2025  19669.0          IMPUESTO SOBRE VENTAS       ELLAS VELASQUEZ                               ISV-15%   1.0       281.16   281.16  2155.56\n",
       "5  Total ELLAS VELASQUEZ            NaN        NaN      NaN                            NaN                   NaN                                   NaN  23.0          NaN  2155.56  2155.56\n",
       "6   DELVIN LOZANO ROMERO            NaN        NaN      NaN                            NaN                   NaN                                   NaN   NaN          NaN      NaN      NaN\n",
       "7                    NaN  Sales Receipt  27/8/2025  19717.0              AGUA EN BOLSA 1/2  DELVIN LOZANO ROMERO          01 AGUA EN BOLSA:PaqAgua 1/2  80.0        12.00   960.00   960.00\n",
       "8                    NaN  Sales Receipt  27/8/2025  19717.0               SACO HIELO VACIO  DELVIN LOZANO ROMERO                    04 HIELO:SacoVacio   8.0        12.00    96.00  1056.00\n",
       "9                    NaN  Sales Receipt  27/8/2025  19717.0          IMPUESTO SOBRE VENTAS  DELVIN LOZANO ROMERO                               ISV-15%   1.0         0.00     0.00  1056.00"
      ]
     },
     "execution_count": 3,
     "metadata": {},
     "output_type": "execute_result"
    }
   ],
   "source": [
    "# Cargar el archivo CSV de ventas\n",
    "try:\n",
    "    # Intentar diferentes encodings para manejar caracteres especiales\n",
    "    encodings = ['utf-8', 'latin-1', 'iso-8859-1', 'cp1252']\n",
    "    df = None\n",
    "    \n",
    "    for encoding in encodings:\n",
    "        try:\n",
    "            df = pd.read_csv('VENTAS 2025.CSV', encoding=encoding)\n",
    "            print(f\"✅ Archivo cargado exitosamente con encoding {encoding}: {len(df)} filas\")\n",
    "            break\n",
    "        except UnicodeDecodeError:\n",
    "            continue\n",
    "    \n",
    "    if df is None:\n",
    "        raise ValueError(\"No se pudo cargar el archivo con ninguna codificación\")\n",
    "    \n",
    "    print(f\"📊 Columnas disponibles: {list(df.columns)}\")\n",
    "    print(\"\\n\" + \"=\"*50)\n",
    "    print(\"🔍 EXPLORACIÓN INICIAL DE DATOS\")\n",
    "    print(\"=\"*50)\n",
    "except FileNotFoundError:\n",
    "    print(\"❌ Error: No se pudo encontrar el archivo 'VENTAS 2025.CSV'\")\n",
    "    print(\"Asegúrate de que el archivo esté en el directorio correcto.\")\n",
    "except Exception as e:\n",
    "    print(f\"❌ Error al cargar el archivo: {e}\")\n",
    "    print(\"Intentando con encoding alternativo...\")\n",
    "\n",
    "# Mostrar información básica del dataset\n",
    "print(\"\\n📋 Información general del dataset:\")\n",
    "df.info()\n",
    "\n",
    "print(\"\\n📈 Primeras 10 filas:\")\n",
    "df.head(10)"
   ]
  },
  {
   "cell_type": "code",
   "execution_count": 4,
   "id": "a3691914",
   "metadata": {},
   "outputs": [
    {
     "name": "stdout",
     "output_type": "stream",
     "text": [
      "🔎 ANÁLISIS DETALLADO DE LA ESTRUCTURA\n",
      "==================================================\n",
      "\n",
      "📊 Tipos de transacciones: {'Sales Receipt': 23037, 'Invoice': 8374}\n",
      "\n",
      "👥 Número de clientes únicos: 664\n",
      "\n",
      "🛒 Número de productos únicos: 27\n",
      "\n",
      "💰 Estadísticas de montos:\n",
      "count     32089.000000\n",
      "mean        488.220664\n",
      "std        6678.086023\n",
      "min           0.000000\n",
      "25%          19.570000\n",
      "50%          60.000000\n",
      "75%         165.000000\n",
      "max      742650.000000\n",
      "Name: Amount, dtype: float64\n",
      "\n",
      "📦 Estadísticas de cantidades:\n",
      "count    32089.000000\n",
      "mean        15.746053\n",
      "std        184.692683\n",
      "min          0.000000\n",
      "25%          1.000000\n",
      "50%          1.000000\n",
      "75%          5.000000\n",
      "max      14963.000000\n",
      "Name: Qty, dtype: float64\n",
      "\n",
      "❓ Valores nulos por columna:\n",
      "Unnamed: 0     31411\n",
      "Type            1357\n",
      "Date            1357\n",
      "Num             1357\n",
      "Memo            1357\n",
      "Name            1357\n",
      "Item            1357\n",
      "Qty              679\n",
      "Sales Price     1358\n",
      "Amount           679\n",
      "Balance          679\n",
      "dtype: int64\n",
      "\n",
      "🛍️ Ejemplos de productos:\n",
      "1. 02 BOTECITOS PAQUETES:BOTE 1 L PAQ\n",
      "2. 02 BOTECITOS PAQUETES:BOTE 0.5 L PAQ\n",
      "3. 02 BOTECITOS PAQUETES:BOTE 1.5 L PAQ\n",
      "4. ISV-15%\n",
      "5. 01 AGUA EN BOLSA:PaqAgua 1/2\n",
      "6. 04 HIELO:SacoVacio\n",
      "7. 04 HIELO:SacoCubo\n",
      "8. 04 HIELO:SacoEsc\n",
      "9. 04 HIELO:Bolsa 5.5 Lbs\n",
      "10. 04 HIELO:BaldeCubo\n",
      "\n",
      "👤 Ejemplos de clientes:\n",
      "1. ELLAS VELASQUEZ\n",
      "2. DELVIN LOZANO ROMERO\n",
      "3. ACADEMIA NAVAL\n",
      "4. CIVIL TEC\n",
      "5. MINI MARKET HOTEL LAS CABAÑAS\n",
      "6. IDHC\n",
      "7. NELSON HERNAN MATUTE GARCIA\n",
      "8. JENIFER CERRATO\n",
      "9. JULIO ROMERO\n",
      "10. ASAMBLEA ESPIRITUAL NACIONAL\n"
     ]
    }
   ],
   "source": [
    "# Análisis más detallado de la estructura\n",
    "print(\"🔎 ANÁLISIS DETALLADO DE LA ESTRUCTURA\")\n",
    "print(\"=\"*50)\n",
    "\n",
    "# Verificar valores únicos en columnas clave\n",
    "print(f\"\\n📊 Tipos de transacciones: {df['Type'].value_counts().to_dict()}\")\n",
    "print(f\"\\n👥 Número de clientes únicos: {df['Name'].nunique()}\")\n",
    "print(f\"\\n🛒 Número de productos únicos: {df['Item'].nunique()}\")\n",
    "\n",
    "# Mostrar algunos ejemplos de datos\n",
    "print(f\"\\n💰 Estadísticas de montos:\")\n",
    "print(df['Amount'].describe())\n",
    "\n",
    "print(f\"\\n📦 Estadísticas de cantidades:\")\n",
    "print(df['Qty'].describe())\n",
    "\n",
    "# Verificar datos nulos\n",
    "print(f\"\\n❓ Valores nulos por columna:\")\n",
    "print(df.isnull().sum())\n",
    "\n",
    "# Mostrar algunos productos únicos\n",
    "print(f\"\\n🛍️ Ejemplos de productos:\")\n",
    "productos_unicos = df['Item'].dropna().unique()[:10]\n",
    "for i, producto in enumerate(productos_unicos, 1):\n",
    "    print(f\"{i}. {producto}\")\n",
    "\n",
    "# Mostrar algunos clientes únicos\n",
    "print(f\"\\n👤 Ejemplos de clientes:\")\n",
    "clientes_unicos = df['Name'].dropna().unique()[:10]\n",
    "for i, cliente in enumerate(clientes_unicos, 1):\n",
    "    print(f\"{i}. {cliente}\")"
   ]
  },
  {
   "cell_type": "markdown",
   "id": "110bfe36",
   "metadata": {},
   "source": [
    "## 3. Limpieza y Preprocesamiento de Datos"
   ]
  },
  {
   "cell_type": "code",
   "execution_count": null,
   "id": "3a0338e4",
   "metadata": {},
   "outputs": [
    {
     "name": "stdout",
     "output_type": "stream",
     "text": [
      "🧹 LIMPIEZA Y PREPROCESAMIENTO DE DATOS\n",
      "==================================================\n",
      "📋 Datos originales: 32768 filas\n",
      "✅ Datos filtrados: 31411 filas\n",
      "📉 Filas removidas: 1357 (4.1%)\n",
      "\n",
      "🔧 Convirtiendo tipos de datos...\n",
      "📊 Después de remover filas con datos críticos faltantes: 31411 filas\n",
      "🗑️ Filas removidas en limpieza final: 0\n",
      "\n",
      "✅ LIMPIEZA COMPLETADA\n",
      "📈 Dataset final: 31411 filas x 16 columnas\n",
      "📅 Rango de fechas: 2025-01-01 00:00:00 a 2025-09-11 00:00:00\n",
      "💰 Rango de montos: $0.00 a $48,699.00\n",
      "\n",
      "📋 Muestra de datos limpios:\n"
     ]
    },
    {
     "data": {
      "application/vnd.microsoft.datawrangler.viewer.v0+json": {
       "columns": [
        {
         "name": "index",
         "rawType": "int64",
         "type": "integer"
        },
        {
         "name": "Unnamed: 0",
         "rawType": "object",
         "type": "unknown"
        },
        {
         "name": "Type",
         "rawType": "object",
         "type": "string"
        },
        {
         "name": "Date",
         "rawType": "datetime64[ns]",
         "type": "datetime"
        },
        {
         "name": "Num",
         "rawType": "float64",
         "type": "float"
        },
        {
         "name": "Memo",
         "rawType": "object",
         "type": "string"
        },
        {
         "name": "Name",
         "rawType": "object",
         "type": "string"
        },
        {
         "name": "Item",
         "rawType": "object",
         "type": "string"
        },
        {
         "name": "Qty",
         "rawType": "float64",
         "type": "float"
        },
        {
         "name": "Sales Price",
         "rawType": "float64",
         "type": "float"
        },
        {
         "name": "Amount",
         "rawType": "float64",
         "type": "float"
        },
        {
         "name": "Balance",
         "rawType": "float64",
         "type": "float"
        },
        {
         "name": "Year",
         "rawType": "int32",
         "type": "integer"
        },
        {
         "name": "Month",
         "rawType": "int32",
         "type": "integer"
        },
        {
         "name": "Day",
         "rawType": "int32",
         "type": "integer"
        },
        {
         "name": "Weekday",
         "rawType": "object",
         "type": "string"
        },
        {
         "name": "Week",
         "rawType": "UInt32",
         "type": "integer"
        }
       ],
       "ref": "7c12be48-8f52-47a7-8136-96b271bc6264",
       "rows": [
        [
         "1",
         null,
         "Invoice",
         "2025-09-08 00:00:00",
         "19669.0",
         "PAQUETE DE BOTECITOS 1  Litro",
         "ELLAS VELASQUEZ",
         "02 BOTECITOS PAQUETES:BOTE 1 L PAQ",
         "10.0",
         "85.2",
         "852.0",
         "852.0",
         "2025",
         "9",
         "8",
         "Monday",
         "37"
        ],
        [
         "2",
         null,
         "Invoice",
         "2025-09-08 00:00:00",
         "19669.0",
         "PAQUETE BOTECITOS 1/2 LITRO",
         "ELLAS VELASQUEZ",
         "02 BOTECITOS PAQUETES:BOTE 0.5 L PAQ",
         "6.0",
         "75.0",
         "450.0",
         "1302.0",
         "2025",
         "9",
         "8",
         "Monday",
         "37"
        ],
        [
         "3",
         null,
         "Invoice",
         "2025-09-08 00:00:00",
         "19669.0",
         "PAQUETE BOTECITOS 1.5 LITRO",
         "ELLAS VELASQUEZ",
         "02 BOTECITOS PAQUETES:BOTE 1.5 L PAQ",
         "6.0",
         "95.4",
         "572.4",
         "1874.4",
         "2025",
         "9",
         "8",
         "Monday",
         "37"
        ],
        [
         "4",
         null,
         "Invoice",
         "2025-09-08 00:00:00",
         "19669.0",
         "IMPUESTO SOBRE VENTAS",
         "ELLAS VELASQUEZ",
         "ISV-15%",
         "1.0",
         "281.16",
         "281.16",
         "2155.56",
         "2025",
         "9",
         "8",
         "Monday",
         "37"
        ],
        [
         "7",
         null,
         "Sales Receipt",
         "2025-08-27 00:00:00",
         "19717.0",
         "AGUA EN BOLSA 1/2",
         "DELVIN LOZANO ROMERO",
         "01 AGUA EN BOLSA:PaqAgua 1/2",
         "80.0",
         "12.0",
         "960.0",
         "960.0",
         "2025",
         "8",
         "27",
         "Wednesday",
         "35"
        ]
       ],
       "shape": {
        "columns": 16,
        "rows": 5
       }
      },
      "text/html": [
       "<div>\n",
       "<style scoped>\n",
       "    .dataframe tbody tr th:only-of-type {\n",
       "        vertical-align: middle;\n",
       "    }\n",
       "\n",
       "    .dataframe tbody tr th {\n",
       "        vertical-align: top;\n",
       "    }\n",
       "\n",
       "    .dataframe thead th {\n",
       "        text-align: right;\n",
       "    }\n",
       "</style>\n",
       "<table border=\"1\" class=\"dataframe\">\n",
       "  <thead>\n",
       "    <tr style=\"text-align: right;\">\n",
       "      <th></th>\n",
       "      <th>Unnamed: 0</th>\n",
       "      <th>Type</th>\n",
       "      <th>Date</th>\n",
       "      <th>Num</th>\n",
       "      <th>Memo</th>\n",
       "      <th>Name</th>\n",
       "      <th>Item</th>\n",
       "      <th>Qty</th>\n",
       "      <th>Sales Price</th>\n",
       "      <th>Amount</th>\n",
       "      <th>Balance</th>\n",
       "      <th>Year</th>\n",
       "      <th>Month</th>\n",
       "      <th>Day</th>\n",
       "      <th>Weekday</th>\n",
       "      <th>Week</th>\n",
       "    </tr>\n",
       "  </thead>\n",
       "  <tbody>\n",
       "    <tr>\n",
       "      <th>1</th>\n",
       "      <td>NaN</td>\n",
       "      <td>Invoice</td>\n",
       "      <td>2025-09-08</td>\n",
       "      <td>19669.0</td>\n",
       "      <td>PAQUETE DE BOTECITOS 1  Litro</td>\n",
       "      <td>ELLAS VELASQUEZ</td>\n",
       "      <td>02 BOTECITOS PAQUETES:BOTE 1 L PAQ</td>\n",
       "      <td>10.0</td>\n",
       "      <td>85.20</td>\n",
       "      <td>852.00</td>\n",
       "      <td>852.00</td>\n",
       "      <td>2025</td>\n",
       "      <td>9</td>\n",
       "      <td>8</td>\n",
       "      <td>Monday</td>\n",
       "      <td>37</td>\n",
       "    </tr>\n",
       "    <tr>\n",
       "      <th>2</th>\n",
       "      <td>NaN</td>\n",
       "      <td>Invoice</td>\n",
       "      <td>2025-09-08</td>\n",
       "      <td>19669.0</td>\n",
       "      <td>PAQUETE BOTECITOS 1/2 LITRO</td>\n",
       "      <td>ELLAS VELASQUEZ</td>\n",
       "      <td>02 BOTECITOS PAQUETES:BOTE 0.5 L PAQ</td>\n",
       "      <td>6.0</td>\n",
       "      <td>75.00</td>\n",
       "      <td>450.00</td>\n",
       "      <td>1302.00</td>\n",
       "      <td>2025</td>\n",
       "      <td>9</td>\n",
       "      <td>8</td>\n",
       "      <td>Monday</td>\n",
       "      <td>37</td>\n",
       "    </tr>\n",
       "    <tr>\n",
       "      <th>3</th>\n",
       "      <td>NaN</td>\n",
       "      <td>Invoice</td>\n",
       "      <td>2025-09-08</td>\n",
       "      <td>19669.0</td>\n",
       "      <td>PAQUETE BOTECITOS 1.5 LITRO</td>\n",
       "      <td>ELLAS VELASQUEZ</td>\n",
       "      <td>02 BOTECITOS PAQUETES:BOTE 1.5 L PAQ</td>\n",
       "      <td>6.0</td>\n",
       "      <td>95.40</td>\n",
       "      <td>572.40</td>\n",
       "      <td>1874.40</td>\n",
       "      <td>2025</td>\n",
       "      <td>9</td>\n",
       "      <td>8</td>\n",
       "      <td>Monday</td>\n",
       "      <td>37</td>\n",
       "    </tr>\n",
       "    <tr>\n",
       "      <th>4</th>\n",
       "      <td>NaN</td>\n",
       "      <td>Invoice</td>\n",
       "      <td>2025-09-08</td>\n",
       "      <td>19669.0</td>\n",
       "      <td>IMPUESTO SOBRE VENTAS</td>\n",
       "      <td>ELLAS VELASQUEZ</td>\n",
       "      <td>ISV-15%</td>\n",
       "      <td>1.0</td>\n",
       "      <td>281.16</td>\n",
       "      <td>281.16</td>\n",
       "      <td>2155.56</td>\n",
       "      <td>2025</td>\n",
       "      <td>9</td>\n",
       "      <td>8</td>\n",
       "      <td>Monday</td>\n",
       "      <td>37</td>\n",
       "    </tr>\n",
       "    <tr>\n",
       "      <th>7</th>\n",
       "      <td>NaN</td>\n",
       "      <td>Sales Receipt</td>\n",
       "      <td>2025-08-27</td>\n",
       "      <td>19717.0</td>\n",
       "      <td>AGUA EN BOLSA 1/2</td>\n",
       "      <td>DELVIN LOZANO ROMERO</td>\n",
       "      <td>01 AGUA EN BOLSA:PaqAgua 1/2</td>\n",
       "      <td>80.0</td>\n",
       "      <td>12.00</td>\n",
       "      <td>960.00</td>\n",
       "      <td>960.00</td>\n",
       "      <td>2025</td>\n",
       "      <td>8</td>\n",
       "      <td>27</td>\n",
       "      <td>Wednesday</td>\n",
       "      <td>35</td>\n",
       "    </tr>\n",
       "  </tbody>\n",
       "</table>\n",
       "</div>"
      ],
      "text/plain": [
       "  Unnamed: 0           Type       Date      Num                           Memo                  Name                                  Item   Qty  Sales Price  Amount  Balance  Year  Month  Day    Weekday  Week\n",
       "1        NaN        Invoice 2025-09-08  19669.0  PAQUETE DE BOTECITOS 1  Litro       ELLAS VELASQUEZ    02 BOTECITOS PAQUETES:BOTE 1 L PAQ  10.0        85.20  852.00   852.00  2025      9    8     Monday    37\n",
       "2        NaN        Invoice 2025-09-08  19669.0    PAQUETE BOTECITOS 1/2 LITRO       ELLAS VELASQUEZ  02 BOTECITOS PAQUETES:BOTE 0.5 L PAQ   6.0        75.00  450.00  1302.00  2025      9    8     Monday    37\n",
       "3        NaN        Invoice 2025-09-08  19669.0    PAQUETE BOTECITOS 1.5 LITRO       ELLAS VELASQUEZ  02 BOTECITOS PAQUETES:BOTE 1.5 L PAQ   6.0        95.40  572.40  1874.40  2025      9    8     Monday    37\n",
       "4        NaN        Invoice 2025-09-08  19669.0          IMPUESTO SOBRE VENTAS       ELLAS VELASQUEZ                               ISV-15%   1.0       281.16  281.16  2155.56  2025      9    8     Monday    37\n",
       "7        NaN  Sales Receipt 2025-08-27  19717.0              AGUA EN BOLSA 1/2  DELVIN LOZANO ROMERO          01 AGUA EN BOLSA:PaqAgua 1/2  80.0        12.00  960.00   960.00  2025      8   27  Wednesday    35"
      ]
     },
     "execution_count": 5,
     "metadata": {},
     "output_type": "execute_result"
    }
   ],
   "source": [
    "# Limpieza y preprocesamiento de datos\n",
    "print(\"🧹 LIMPIEZA Y PREPROCESAMIENTO DE DATOS\")\n",
    "print(\"=\"*50)\n",
    "\n",
    "# Crear una copia del dataframe original\n",
    "df_original = df.copy()\n",
    "print(f\"📋 Datos originales: {len(df_original)} filas\")\n",
    "\n",
    "# 1. Filtrar solo las filas que corresponden a ventas reales (no totales ni encabezados)\n",
    "# Las filas de ventas tienen Type no nulo y no son filas de totales\n",
    "df_clean = df[\n",
    "    (df['Type'].notna()) &  # Tiene tipo de transacción\n",
    "    (~df['Type'].str.contains('Total', na=False)) &  # No es fila de total\n",
    "    (df['Name'].notna()) &  # Tiene nombre de cliente\n",
    "    (df['Item'].notna()) &  # Tiene producto\n",
    "    (df['Amount'].notna())  # Tiene monto\n",
    "].copy()\n",
    "\n",
    "print(f\"✅ Datos filtrados: {len(df_clean)} filas\")\n",
    "print(f\"📉 Filas removidas: {len(df_original) - len(df_clean)} ({((len(df_original) - len(df_clean))/len(df_original)*100):.1f}%)\")\n",
    "\n",
    "# 2. Limpiar y convertir tipos de datos\n",
    "print(\"\\n🔧 Convirtiendo tipos de datos...\")\n",
    "\n",
    "# Convertir fechas\n",
    "df_clean['Date'] = pd.to_datetime(df_clean['Date'], format='%d/%m/%Y', errors='coerce')\n",
    "\n",
    "# Limpiar y convertir columnas numéricas\n",
    "df_clean['Qty'] = pd.to_numeric(df_clean['Qty'], errors='coerce')\n",
    "df_clean['Sales Price'] = pd.to_numeric(df_clean['Sales Price'], errors='coerce')\n",
    "df_clean['Amount'] = pd.to_numeric(df_clean['Amount'], errors='coerce')\n",
    "df_clean['Balance'] = pd.to_numeric(df_clean['Balance'], errors='coerce')\n",
    "\n",
    "# Limpiar nombres de clientes y productos\n",
    "df_clean['Name'] = df_clean['Name'].str.strip().str.upper()\n",
    "df_clean['Item'] = df_clean['Item'].str.strip()\n",
    "\n",
    "# 3. Remover filas con problemas en datos críticos\n",
    "before_final_clean = len(df_clean)\n",
    "df_clean = df_clean.dropna(subset=['Date', 'Amount', 'Name'])\n",
    "print(f\"📊 Después de remover filas con datos críticos faltantes: {len(df_clean)} filas\")\n",
    "print(f\"🗑️ Filas removidas en limpieza final: {before_final_clean - len(df_clean)}\")\n",
    "\n",
    "# 4. Agregar columnas derivadas útiles\n",
    "df_clean['Year'] = df_clean['Date'].dt.year\n",
    "df_clean['Month'] = df_clean['Date'].dt.month\n",
    "df_clean['Day'] = df_clean['Date'].dt.day\n",
    "df_clean['Weekday'] = df_clean['Date'].dt.day_name()\n",
    "df_clean['Week'] = df_clean['Date'].dt.isocalendar().week\n",
    "\n",
    "print(f\"\\n✅ LIMPIEZA COMPLETADA\")\n",
    "print(f\"📈 Dataset final: {len(df_clean)} filas x {len(df_clean.columns)} columnas\")\n",
    "print(f\"📅 Rango de fechas: {df_clean['Date'].min()} a {df_clean['Date'].max()}\")\n",
    "print(f\"💰 Rango de montos: L {df_clean['Amount'].min():,.2f} a L {df_clean['Amount'].max():,.2f}\")\n",
    "\n",
    "# Mostrar una muestra de los datos limpios\n",
    "print(f\"\\n📋 Muestra de datos limpios:\")\n",
    "df_clean.head()"
   ]
  },
  {
   "cell_type": "markdown",
   "id": "ea0f0a73",
   "metadata": {},
   "source": [
    "## 4. Métricas Clave de Negocio"
   ]
  },
  {
   "cell_type": "code",
   "execution_count": null,
   "id": "4c5de621",
   "metadata": {},
   "outputs": [
    {
     "name": "stdout",
     "output_type": "stream",
     "text": [
      "📊 MÉTRICAS CLAVE DE NEGOCIO\n",
      "==================================================\n",
      "💰 VENTAS TOTALES: $7,173,828.55\n",
      "🛒 TOTAL TRANSACCIONES: 31,411\n",
      "🎯 TICKET PROMEDIO: $228.39\n",
      "👥 CLIENTES ÚNICOS: 664\n",
      "📦 PRODUCTOS ÚNICOS: 27\n",
      "\n",
      "📅 ANÁLISIS POR PERÍODO:\n",
      "📈 Ventas por mes:\n",
      "   2025-01: $756,616.14\n",
      "   2025-02: $704,859.60\n",
      "   2025-03: $806,289.49\n",
      "   2025-04: $889,062.33\n",
      "   2025-05: $964,247.79\n",
      "   2025-06: $693,447.43\n",
      "   2025-07: $814,829.26\n",
      "   2025-08: $1,022,417.67\n",
      "   2025-09: $522,058.84\n",
      "\n",
      "👑 TOP 5 CLIENTES POR VALOR:\n",
      "1. DURACRETO SA DE CV: $742,650.00\n",
      "2. IDALIA ZELAYA: $276,835.16\n",
      "3. NORTH OCEANICA S DE RL:INVERSIONES CANGREJAL: $248,447.50\n",
      "4. DENNIE BUSH: $245,378.65\n",
      "5. AZUL INTEREXPORT: $209,481.50\n",
      "\n",
      "🏆 TOP 5 PRODUCTOS POR INGRESOS:\n",
      "1. 03 BOTELLONES:Botellon Liquido: $1,281,869.00\n",
      "2. 04 HIELO:Bolsa 5.5 Lbs: $1,091,645.10\n",
      "3. 04 HIELO:Tonelada Escarcha: $974,495.34\n",
      "4. ISV-15%: $723,076.65\n",
      "5. 02 BOTECITOS PAQUETES:BOTE 1 L PAQ: $634,996.72\n",
      "\n",
      "📦 TOP 5 PRODUCTOS POR CANTIDAD:\n",
      "1. 04 HIELO:Bolsa 5.5 Lbs: 98,665 unidades\n",
      "2. 03 BOTELLONES:Botellon Liquido: 59,454 unidades\n",
      "3. 01 AGUA EN BOLSA:PaqAgua 1/2: 14,177 unidades\n",
      "4. ISV-15%: 13,547 unidades\n",
      "5. 01 AGUA EN BOLSA:PagAgua 1/4: 9,610 unidades\n",
      "\n",
      "📅 VENTAS POR DÍA DE LA SEMANA:\n",
      "   Monday: $1,346,573.59\n",
      "   Thursday: $1,225,871.95\n",
      "   Saturday: $1,218,778.33\n",
      "   Tuesday: $1,125,585.58\n",
      "   Wednesday: $1,026,968.54\n",
      "   Friday: $760,692.06\n",
      "   Sunday: $469,358.50\n",
      "\n",
      "📊 ESTADÍSTICAS ADICIONALES:\n",
      "🔄 Transacciones por cliente promedio: 47.3\n",
      "📊 Valor promedio por cliente: $10803.96\n",
      "🎯 Días con ventas: 254\n",
      "📈 Ventas promedio por día: $28243.42\n"
     ]
    }
   ],
   "source": [
    "# Calcular métricas clave de negocio\n",
    "print(\"📊 MÉTRICAS CLAVE DE NEGOCIO\")\n",
    "print(\"=\"*50)\n",
    "\n",
    "# KPIs principales\n",
    "total_ventas = df_clean['Amount'].sum()\n",
    "total_transacciones = len(df_clean)\n",
    "ticket_promedio = df_clean['Amount'].mean()\n",
    "clientes_unicos = df_clean['Name'].nunique()\n",
    "productos_unicos = df_clean['Item'].nunique()\n",
    "\n",
    "print(f\"💰 VENTAS TOTALES: L {total_ventas:,.2f}\")\n",
    "print(f\"🛒 TOTAL TRANSACCIONES: {total_transacciones:,}\")\n",
    "print(f\"🎯 TICKET PROMEDIO: L {ticket_promedio:.2f}\")\n",
    "print(f\"👥 CLIENTES ÚNICOS: {clientes_unicos}\")\n",
    "print(f\"📦 PRODUCTOS ÚNICOS: {productos_unicos}\")\n",
    "\n",
    "# Métricas por período\n",
    "print(f\"\\n📅 ANÁLISIS POR PERÍODO:\")\n",
    "ventas_por_mes = df_clean.groupby(['Year', 'Month'])['Amount'].sum().reset_index()\n",
    "ventas_por_mes['Periodo'] = ventas_por_mes['Year'].astype(str) + '-' + ventas_por_mes['Month'].astype(str).str.zfill(2)\n",
    "\n",
    "print(f\"📈 Ventas por mes:\")\n",
    "for _, row in ventas_por_mes.iterrows():\n",
    "    print(f\"   {row['Periodo']}: L {row['Amount']:,.2f}\")\n",
    "\n",
    "# Top clientes por valor\n",
    "print(f\"\\n👑 TOP 5 CLIENTES POR VALOR:\")\n",
    "top_clientes = df_clean.groupby('Name')['Amount'].sum().sort_values(ascending=False).head()\n",
    "for i, (cliente, valor) in enumerate(top_clientes.items(), 1):\n",
    "    print(f\"{i}. {cliente}: L {valor:,.2f}\")\n",
    "\n",
    "# Top productos por ventas\n",
    "print(f\"\\n🏆 TOP 5 PRODUCTOS POR INGRESOS:\")\n",
    "top_productos_valor = df_clean.groupby('Item')['Amount'].sum().sort_values(ascending=False).head()\n",
    "for i, (producto, valor) in enumerate(top_productos_valor.items(), 1):\n",
    "    print(f\"{i}. {producto}: L {valor:,.2f}\")\n",
    "\n",
    "print(f\"\\n📦 TOP 5 PRODUCTOS POR CANTIDAD:\")\n",
    "top_productos_qty = df_clean.groupby('Item')['Qty'].sum().sort_values(ascending=False).head()\n",
    "for i, (producto, qty) in enumerate(top_productos_qty.items(), 1):\n",
    "    print(f\"{i}. {producto}: {qty:,.0f} unidades\")\n",
    "\n",
    "# Análisis por día de la semana\n",
    "print(f\"\\n📅 VENTAS POR DÍA DE LA SEMANA:\")\n",
    "ventas_weekday = df_clean.groupby('Weekday')['Amount'].sum().sort_values(ascending=False)\n",
    "for dia, valor in ventas_weekday.items():\n",
    "    print(f\"   {dia}: L {valor:,.2f}\")\n",
    "\n",
    "# Estadísticas adicionales\n",
    "print(f\"\\n📊 ESTADÍSTICAS ADICIONALES:\")\n",
    "print(f\"🔄 Transacciones por cliente promedio: {total_transacciones/clientes_unicos:.1f}\")\n",
    "print(f\"📊 Valor promedio por cliente: L {total_ventas/clientes_unicos:.2f}\")\n",
    "print(f\"🎯 Días con ventas: {df_clean['Date'].nunique()}\")\n",
    "print(f\"📈 Ventas promedio por día: L {total_ventas/df_clean['Date'].nunique():.2f}\")"
   ]
  },
  {
   "cell_type": "markdown",
   "id": "df0b92dd",
   "metadata": {},
   "source": [
    "## 5. Análisis de Ventas por Tiempo"
   ]
  },
  {
   "cell_type": "code",
   "execution_count": null,
   "id": "176d37a4",
   "metadata": {},
   "outputs": [
    {
     "name": "stdout",
     "output_type": "stream",
     "text": [
      "📈 CREANDO VISUALIZACIONES DE VENTAS POR TIEMPO\n",
      "==================================================\n"
     ]
    },
    {
     "data": {
      "application/vnd.plotly.v1+json": {
       "config": {
        "plotlyServerURL": "https://plot.ly"
       },
       "data": [
        {
         "hovertemplate": "Fecha=%{x}<br>Ventas ($)=%{y}<extra></extra>",
         "legendgroup": "",
         "line": {
          "color": "#636efa",
          "dash": "solid",
          "shape": "spline"
         },
         "marker": {
          "symbol": "circle"
         },
         "mode": "lines",
         "name": "",
         "orientation": "v",
         "showlegend": false,
         "type": "scatter",
         "x": [
          "2025-01-01T00:00:00.000000000",
          "2025-01-02T00:00:00.000000000",
          "2025-01-03T00:00:00.000000000",
          "2025-01-04T00:00:00.000000000",
          "2025-01-05T00:00:00.000000000",
          "2025-01-06T00:00:00.000000000",
          "2025-01-07T00:00:00.000000000",
          "2025-01-08T00:00:00.000000000",
          "2025-01-09T00:00:00.000000000",
          "2025-01-10T00:00:00.000000000",
          "2025-01-11T00:00:00.000000000",
          "2025-01-12T00:00:00.000000000",
          "2025-01-13T00:00:00.000000000",
          "2025-01-14T00:00:00.000000000",
          "2025-01-15T00:00:00.000000000",
          "2025-01-16T00:00:00.000000000",
          "2025-01-17T00:00:00.000000000",
          "2025-01-18T00:00:00.000000000",
          "2025-01-19T00:00:00.000000000",
          "2025-01-20T00:00:00.000000000",
          "2025-01-21T00:00:00.000000000",
          "2025-01-22T00:00:00.000000000",
          "2025-01-23T00:00:00.000000000",
          "2025-01-24T00:00:00.000000000",
          "2025-01-25T00:00:00.000000000",
          "2025-01-26T00:00:00.000000000",
          "2025-01-27T00:00:00.000000000",
          "2025-01-28T00:00:00.000000000",
          "2025-01-29T00:00:00.000000000",
          "2025-01-30T00:00:00.000000000",
          "2025-01-31T00:00:00.000000000",
          "2025-02-01T00:00:00.000000000",
          "2025-02-02T00:00:00.000000000",
          "2025-02-03T00:00:00.000000000",
          "2025-02-04T00:00:00.000000000",
          "2025-02-05T00:00:00.000000000",
          "2025-02-06T00:00:00.000000000",
          "2025-02-07T00:00:00.000000000",
          "2025-02-08T00:00:00.000000000",
          "2025-02-09T00:00:00.000000000",
          "2025-02-10T00:00:00.000000000",
          "2025-02-11T00:00:00.000000000",
          "2025-02-12T00:00:00.000000000",
          "2025-02-13T00:00:00.000000000",
          "2025-02-14T00:00:00.000000000",
          "2025-02-15T00:00:00.000000000",
          "2025-02-16T00:00:00.000000000",
          "2025-02-17T00:00:00.000000000",
          "2025-02-18T00:00:00.000000000",
          "2025-02-19T00:00:00.000000000",
          "2025-02-20T00:00:00.000000000",
          "2025-02-21T00:00:00.000000000",
          "2025-02-22T00:00:00.000000000",
          "2025-02-23T00:00:00.000000000",
          "2025-02-24T00:00:00.000000000",
          "2025-02-25T00:00:00.000000000",
          "2025-02-26T00:00:00.000000000",
          "2025-02-27T00:00:00.000000000",
          "2025-02-28T00:00:00.000000000",
          "2025-03-01T00:00:00.000000000",
          "2025-03-02T00:00:00.000000000",
          "2025-03-03T00:00:00.000000000",
          "2025-03-04T00:00:00.000000000",
          "2025-03-05T00:00:00.000000000",
          "2025-03-06T00:00:00.000000000",
          "2025-03-07T00:00:00.000000000",
          "2025-03-08T00:00:00.000000000",
          "2025-03-09T00:00:00.000000000",
          "2025-03-10T00:00:00.000000000",
          "2025-03-11T00:00:00.000000000",
          "2025-03-12T00:00:00.000000000",
          "2025-03-13T00:00:00.000000000",
          "2025-03-14T00:00:00.000000000",
          "2025-03-15T00:00:00.000000000",
          "2025-03-16T00:00:00.000000000",
          "2025-03-17T00:00:00.000000000",
          "2025-03-18T00:00:00.000000000",
          "2025-03-19T00:00:00.000000000",
          "2025-03-20T00:00:00.000000000",
          "2025-03-21T00:00:00.000000000",
          "2025-03-22T00:00:00.000000000",
          "2025-03-23T00:00:00.000000000",
          "2025-03-24T00:00:00.000000000",
          "2025-03-25T00:00:00.000000000",
          "2025-03-26T00:00:00.000000000",
          "2025-03-27T00:00:00.000000000",
          "2025-03-28T00:00:00.000000000",
          "2025-03-29T00:00:00.000000000",
          "2025-03-30T00:00:00.000000000",
          "2025-03-31T00:00:00.000000000",
          "2025-04-01T00:00:00.000000000",
          "2025-04-02T00:00:00.000000000",
          "2025-04-03T00:00:00.000000000",
          "2025-04-04T00:00:00.000000000",
          "2025-04-05T00:00:00.000000000",
          "2025-04-06T00:00:00.000000000",
          "2025-04-07T00:00:00.000000000",
          "2025-04-08T00:00:00.000000000",
          "2025-04-09T00:00:00.000000000",
          "2025-04-10T00:00:00.000000000",
          "2025-04-11T00:00:00.000000000",
          "2025-04-12T00:00:00.000000000",
          "2025-04-13T00:00:00.000000000",
          "2025-04-14T00:00:00.000000000",
          "2025-04-15T00:00:00.000000000",
          "2025-04-16T00:00:00.000000000",
          "2025-04-17T00:00:00.000000000",
          "2025-04-18T00:00:00.000000000",
          "2025-04-19T00:00:00.000000000",
          "2025-04-20T00:00:00.000000000",
          "2025-04-21T00:00:00.000000000",
          "2025-04-22T00:00:00.000000000",
          "2025-04-23T00:00:00.000000000",
          "2025-04-24T00:00:00.000000000",
          "2025-04-25T00:00:00.000000000",
          "2025-04-26T00:00:00.000000000",
          "2025-04-27T00:00:00.000000000",
          "2025-04-28T00:00:00.000000000",
          "2025-04-29T00:00:00.000000000",
          "2025-04-30T00:00:00.000000000",
          "2025-05-01T00:00:00.000000000",
          "2025-05-02T00:00:00.000000000",
          "2025-05-03T00:00:00.000000000",
          "2025-05-04T00:00:00.000000000",
          "2025-05-05T00:00:00.000000000",
          "2025-05-06T00:00:00.000000000",
          "2025-05-07T00:00:00.000000000",
          "2025-05-08T00:00:00.000000000",
          "2025-05-09T00:00:00.000000000",
          "2025-05-10T00:00:00.000000000",
          "2025-05-11T00:00:00.000000000",
          "2025-05-12T00:00:00.000000000",
          "2025-05-13T00:00:00.000000000",
          "2025-05-14T00:00:00.000000000",
          "2025-05-15T00:00:00.000000000",
          "2025-05-16T00:00:00.000000000",
          "2025-05-17T00:00:00.000000000",
          "2025-05-18T00:00:00.000000000",
          "2025-05-19T00:00:00.000000000",
          "2025-05-20T00:00:00.000000000",
          "2025-05-21T00:00:00.000000000",
          "2025-05-22T00:00:00.000000000",
          "2025-05-23T00:00:00.000000000",
          "2025-05-24T00:00:00.000000000",
          "2025-05-25T00:00:00.000000000",
          "2025-05-26T00:00:00.000000000",
          "2025-05-27T00:00:00.000000000",
          "2025-05-28T00:00:00.000000000",
          "2025-05-29T00:00:00.000000000",
          "2025-05-30T00:00:00.000000000",
          "2025-05-31T00:00:00.000000000",
          "2025-06-01T00:00:00.000000000",
          "2025-06-02T00:00:00.000000000",
          "2025-06-03T00:00:00.000000000",
          "2025-06-04T00:00:00.000000000",
          "2025-06-05T00:00:00.000000000",
          "2025-06-06T00:00:00.000000000",
          "2025-06-07T00:00:00.000000000",
          "2025-06-08T00:00:00.000000000",
          "2025-06-09T00:00:00.000000000",
          "2025-06-10T00:00:00.000000000",
          "2025-06-11T00:00:00.000000000",
          "2025-06-12T00:00:00.000000000",
          "2025-06-13T00:00:00.000000000",
          "2025-06-14T00:00:00.000000000",
          "2025-06-15T00:00:00.000000000",
          "2025-06-16T00:00:00.000000000",
          "2025-06-17T00:00:00.000000000",
          "2025-06-18T00:00:00.000000000",
          "2025-06-19T00:00:00.000000000",
          "2025-06-20T00:00:00.000000000",
          "2025-06-21T00:00:00.000000000",
          "2025-06-22T00:00:00.000000000",
          "2025-06-23T00:00:00.000000000",
          "2025-06-24T00:00:00.000000000",
          "2025-06-25T00:00:00.000000000",
          "2025-06-26T00:00:00.000000000",
          "2025-06-27T00:00:00.000000000",
          "2025-06-28T00:00:00.000000000",
          "2025-06-29T00:00:00.000000000",
          "2025-06-30T00:00:00.000000000",
          "2025-07-01T00:00:00.000000000",
          "2025-07-02T00:00:00.000000000",
          "2025-07-03T00:00:00.000000000",
          "2025-07-04T00:00:00.000000000",
          "2025-07-05T00:00:00.000000000",
          "2025-07-06T00:00:00.000000000",
          "2025-07-07T00:00:00.000000000",
          "2025-07-08T00:00:00.000000000",
          "2025-07-09T00:00:00.000000000",
          "2025-07-10T00:00:00.000000000",
          "2025-07-11T00:00:00.000000000",
          "2025-07-12T00:00:00.000000000",
          "2025-07-13T00:00:00.000000000",
          "2025-07-14T00:00:00.000000000",
          "2025-07-15T00:00:00.000000000",
          "2025-07-16T00:00:00.000000000",
          "2025-07-17T00:00:00.000000000",
          "2025-07-18T00:00:00.000000000",
          "2025-07-19T00:00:00.000000000",
          "2025-07-20T00:00:00.000000000",
          "2025-07-21T00:00:00.000000000",
          "2025-07-22T00:00:00.000000000",
          "2025-07-23T00:00:00.000000000",
          "2025-07-24T00:00:00.000000000",
          "2025-07-25T00:00:00.000000000",
          "2025-07-26T00:00:00.000000000",
          "2025-07-27T00:00:00.000000000",
          "2025-07-28T00:00:00.000000000",
          "2025-07-29T00:00:00.000000000",
          "2025-07-30T00:00:00.000000000",
          "2025-07-31T00:00:00.000000000",
          "2025-08-01T00:00:00.000000000",
          "2025-08-02T00:00:00.000000000",
          "2025-08-03T00:00:00.000000000",
          "2025-08-04T00:00:00.000000000",
          "2025-08-05T00:00:00.000000000",
          "2025-08-06T00:00:00.000000000",
          "2025-08-07T00:00:00.000000000",
          "2025-08-08T00:00:00.000000000",
          "2025-08-09T00:00:00.000000000",
          "2025-08-10T00:00:00.000000000",
          "2025-08-11T00:00:00.000000000",
          "2025-08-12T00:00:00.000000000",
          "2025-08-13T00:00:00.000000000",
          "2025-08-14T00:00:00.000000000",
          "2025-08-15T00:00:00.000000000",
          "2025-08-16T00:00:00.000000000",
          "2025-08-17T00:00:00.000000000",
          "2025-08-18T00:00:00.000000000",
          "2025-08-19T00:00:00.000000000",
          "2025-08-20T00:00:00.000000000",
          "2025-08-21T00:00:00.000000000",
          "2025-08-22T00:00:00.000000000",
          "2025-08-23T00:00:00.000000000",
          "2025-08-24T00:00:00.000000000",
          "2025-08-25T00:00:00.000000000",
          "2025-08-26T00:00:00.000000000",
          "2025-08-27T00:00:00.000000000",
          "2025-08-28T00:00:00.000000000",
          "2025-08-29T00:00:00.000000000",
          "2025-08-30T00:00:00.000000000",
          "2025-08-31T00:00:00.000000000",
          "2025-09-01T00:00:00.000000000",
          "2025-09-02T00:00:00.000000000",
          "2025-09-03T00:00:00.000000000",
          "2025-09-04T00:00:00.000000000",
          "2025-09-05T00:00:00.000000000",
          "2025-09-06T00:00:00.000000000",
          "2025-09-07T00:00:00.000000000",
          "2025-09-08T00:00:00.000000000",
          "2025-09-09T00:00:00.000000000",
          "2025-09-10T00:00:00.000000000",
          "2025-09-11T00:00:00.000000000"
         ],
         "xaxis": "x",
         "y": {
          "bdata": "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",
          "dtype": "f8"
         },
         "yaxis": "y"
        }
       ],
       "layout": {
        "height": 400,
        "hovermode": "x unified",
        "legend": {
         "tracegroupgap": 0
        },
        "template": {
         "data": {
          "bar": [
           {
            "error_x": {
             "color": "#2a3f5f"
            },
            "error_y": {
             "color": "#2a3f5f"
            },
            "marker": {
             "line": {
              "color": "#E5ECF6",
              "width": 0.5
             },
             "pattern": {
              "fillmode": "overlay",
              "size": 10,
              "solidity": 0.2
             }
            },
            "type": "bar"
           }
          ],
          "barpolar": [
           {
            "marker": {
             "line": {
              "color": "#E5ECF6",
              "width": 0.5
             },
             "pattern": {
              "fillmode": "overlay",
              "size": 10,
              "solidity": 0.2
             }
            },
            "type": "barpolar"
           }
          ],
          "carpet": [
           {
            "aaxis": {
             "endlinecolor": "#2a3f5f",
             "gridcolor": "white",
             "linecolor": "white",
             "minorgridcolor": "white",
             "startlinecolor": "#2a3f5f"
            },
            "baxis": {
             "endlinecolor": "#2a3f5f",
             "gridcolor": "white",
             "linecolor": "white",
             "minorgridcolor": "white",
             "startlinecolor": "#2a3f5f"
            },
            "type": "carpet"
           }
          ],
          "choropleth": [
           {
            "colorbar": {
             "outlinewidth": 0,
             "ticks": ""
            },
            "type": "choropleth"
           }
          ],
          "contour": [
           {
            "colorbar": {
             "outlinewidth": 0,
             "ticks": ""
            },
            "colorscale": [
             [
              0,
              "#0d0887"
             ],
             [
              0.1111111111111111,
              "#46039f"
             ],
             [
              0.2222222222222222,
              "#7201a8"
             ],
             [
              0.3333333333333333,
              "#9c179e"
             ],
             [
              0.4444444444444444,
              "#bd3786"
             ],
             [
              0.5555555555555556,
              "#d8576b"
             ],
             [
              0.6666666666666666,
              "#ed7953"
             ],
             [
              0.7777777777777778,
              "#fb9f3a"
             ],
             [
              0.8888888888888888,
              "#fdca26"
             ],
             [
              1,
              "#f0f921"
             ]
            ],
            "type": "contour"
           }
          ],
          "contourcarpet": [
           {
            "colorbar": {
             "outlinewidth": 0,
             "ticks": ""
            },
            "type": "contourcarpet"
           }
          ],
          "heatmap": [
           {
            "colorbar": {
             "outlinewidth": 0,
             "ticks": ""
            },
            "colorscale": [
             [
              0,
              "#0d0887"
             ],
             [
              0.1111111111111111,
              "#46039f"
             ],
             [
              0.2222222222222222,
              "#7201a8"
             ],
             [
              0.3333333333333333,
              "#9c179e"
             ],
             [
              0.4444444444444444,
              "#bd3786"
             ],
             [
              0.5555555555555556,
              "#d8576b"
             ],
             [
              0.6666666666666666,
              "#ed7953"
             ],
             [
              0.7777777777777778,
              "#fb9f3a"
             ],
             [
              0.8888888888888888,
              "#fdca26"
             ],
             [
              1,
              "#f0f921"
             ]
            ],
            "type": "heatmap"
           }
          ],
          "histogram": [
           {
            "marker": {
             "pattern": {
              "fillmode": "overlay",
              "size": 10,
              "solidity": 0.2
             }
            },
            "type": "histogram"
           }
          ],
          "histogram2d": [
           {
            "colorbar": {
             "outlinewidth": 0,
             "ticks": ""
            },
            "colorscale": [
             [
              0,
              "#0d0887"
             ],
             [
              0.1111111111111111,
              "#46039f"
             ],
             [
              0.2222222222222222,
              "#7201a8"
             ],
             [
              0.3333333333333333,
              "#9c179e"
             ],
             [
              0.4444444444444444,
              "#bd3786"
             ],
             [
              0.5555555555555556,
              "#d8576b"
             ],
             [
              0.6666666666666666,
              "#ed7953"
             ],
             [
              0.7777777777777778,
              "#fb9f3a"
             ],
             [
              0.8888888888888888,
              "#fdca26"
             ],
             [
              1,
              "#f0f921"
             ]
            ],
            "type": "histogram2d"
           }
          ],
          "histogram2dcontour": [
           {
            "colorbar": {
             "outlinewidth": 0,
             "ticks": ""
            },
            "colorscale": [
             [
              0,
              "#0d0887"
             ],
             [
              0.1111111111111111,
              "#46039f"
             ],
             [
              0.2222222222222222,
              "#7201a8"
             ],
             [
              0.3333333333333333,
              "#9c179e"
             ],
             [
              0.4444444444444444,
              "#bd3786"
             ],
             [
              0.5555555555555556,
              "#d8576b"
             ],
             [
              0.6666666666666666,
              "#ed7953"
             ],
             [
              0.7777777777777778,
              "#fb9f3a"
             ],
             [
              0.8888888888888888,
              "#fdca26"
             ],
             [
              1,
              "#f0f921"
             ]
            ],
            "type": "histogram2dcontour"
           }
          ],
          "mesh3d": [
           {
            "colorbar": {
             "outlinewidth": 0,
             "ticks": ""
            },
            "type": "mesh3d"
           }
          ],
          "parcoords": [
           {
            "line": {
             "colorbar": {
              "outlinewidth": 0,
              "ticks": ""
             }
            },
            "type": "parcoords"
           }
          ],
          "pie": [
           {
            "automargin": true,
            "type": "pie"
           }
          ],
          "scatter": [
           {
            "fillpattern": {
             "fillmode": "overlay",
             "size": 10,
             "solidity": 0.2
            },
            "type": "scatter"
           }
          ],
          "scatter3d": [
           {
            "line": {
             "colorbar": {
              "outlinewidth": 0,
              "ticks": ""
             }
            },
            "marker": {
             "colorbar": {
              "outlinewidth": 0,
              "ticks": ""
             }
            },
            "type": "scatter3d"
           }
          ],
          "scattercarpet": [
           {
            "marker": {
             "colorbar": {
              "outlinewidth": 0,
              "ticks": ""
             }
            },
            "type": "scattercarpet"
           }
          ],
          "scattergeo": [
           {
            "marker": {
             "colorbar": {
              "outlinewidth": 0,
              "ticks": ""
             }
            },
            "type": "scattergeo"
           }
          ],
          "scattergl": [
           {
            "marker": {
             "colorbar": {
              "outlinewidth": 0,
              "ticks": ""
             }
            },
            "type": "scattergl"
           }
          ],
          "scattermap": [
           {
            "marker": {
             "colorbar": {
              "outlinewidth": 0,
              "ticks": ""
             }
            },
            "type": "scattermap"
           }
          ],
          "scattermapbox": [
           {
            "marker": {
             "colorbar": {
              "outlinewidth": 0,
              "ticks": ""
             }
            },
            "type": "scattermapbox"
           }
          ],
          "scatterpolar": [
           {
            "marker": {
             "colorbar": {
              "outlinewidth": 0,
              "ticks": ""
             }
            },
            "type": "scatterpolar"
           }
          ],
          "scatterpolargl": [
           {
            "marker": {
             "colorbar": {
              "outlinewidth": 0,
              "ticks": ""
             }
            },
            "type": "scatterpolargl"
           }
          ],
          "scatterternary": [
           {
            "marker": {
             "colorbar": {
              "outlinewidth": 0,
              "ticks": ""
             }
            },
            "type": "scatterternary"
           }
          ],
          "surface": [
           {
            "colorbar": {
             "outlinewidth": 0,
             "ticks": ""
            },
            "colorscale": [
             [
              0,
              "#0d0887"
             ],
             [
              0.1111111111111111,
              "#46039f"
             ],
             [
              0.2222222222222222,
              "#7201a8"
             ],
             [
              0.3333333333333333,
              "#9c179e"
             ],
             [
              0.4444444444444444,
              "#bd3786"
             ],
             [
              0.5555555555555556,
              "#d8576b"
             ],
             [
              0.6666666666666666,
              "#ed7953"
             ],
             [
              0.7777777777777778,
              "#fb9f3a"
             ],
             [
              0.8888888888888888,
              "#fdca26"
             ],
             [
              1,
              "#f0f921"
             ]
            ],
            "type": "surface"
           }
          ],
          "table": [
           {
            "cells": {
             "fill": {
              "color": "#EBF0F8"
             },
             "line": {
              "color": "white"
             }
            },
            "header": {
             "fill": {
              "color": "#C8D4E3"
             },
             "line": {
              "color": "white"
             }
            },
            "type": "table"
           }
          ]
         },
         "layout": {
          "annotationdefaults": {
           "arrowcolor": "#2a3f5f",
           "arrowhead": 0,
           "arrowwidth": 1
          },
          "autotypenumbers": "strict",
          "coloraxis": {
           "colorbar": {
            "outlinewidth": 0,
            "ticks": ""
           }
          },
          "colorscale": {
           "diverging": [
            [
             0,
             "#8e0152"
            ],
            [
             0.1,
             "#c51b7d"
            ],
            [
             0.2,
             "#de77ae"
            ],
            [
             0.3,
             "#f1b6da"
            ],
            [
             0.4,
             "#fde0ef"
            ],
            [
             0.5,
             "#f7f7f7"
            ],
            [
             0.6,
             "#e6f5d0"
            ],
            [
             0.7,
             "#b8e186"
            ],
            [
             0.8,
             "#7fbc41"
            ],
            [
             0.9,
             "#4d9221"
            ],
            [
             1,
             "#276419"
            ]
           ],
           "sequential": [
            [
             0,
             "#0d0887"
            ],
            [
             0.1111111111111111,
             "#46039f"
            ],
            [
             0.2222222222222222,
             "#7201a8"
            ],
            [
             0.3333333333333333,
             "#9c179e"
            ],
            [
             0.4444444444444444,
             "#bd3786"
            ],
            [
             0.5555555555555556,
             "#d8576b"
            ],
            [
             0.6666666666666666,
             "#ed7953"
            ],
            [
             0.7777777777777778,
             "#fb9f3a"
            ],
            [
             0.8888888888888888,
             "#fdca26"
            ],
            [
             1,
             "#f0f921"
            ]
           ],
           "sequentialminus": [
            [
             0,
             "#0d0887"
            ],
            [
             0.1111111111111111,
             "#46039f"
            ],
            [
             0.2222222222222222,
             "#7201a8"
            ],
            [
             0.3333333333333333,
             "#9c179e"
            ],
            [
             0.4444444444444444,
             "#bd3786"
            ],
            [
             0.5555555555555556,
             "#d8576b"
            ],
            [
             0.6666666666666666,
             "#ed7953"
            ],
            [
             0.7777777777777778,
             "#fb9f3a"
            ],
            [
             0.8888888888888888,
             "#fdca26"
            ],
            [
             1,
             "#f0f921"
            ]
           ]
          },
          "colorway": [
           "#636efa",
           "#EF553B",
           "#00cc96",
           "#ab63fa",
           "#FFA15A",
           "#19d3f3",
           "#FF6692",
           "#B6E880",
           "#FF97FF",
           "#FECB52"
          ],
          "font": {
           "color": "#2a3f5f"
          },
          "geo": {
           "bgcolor": "white",
           "lakecolor": "white",
           "landcolor": "#E5ECF6",
           "showlakes": true,
           "showland": true,
           "subunitcolor": "white"
          },
          "hoverlabel": {
           "align": "left"
          },
          "hovermode": "closest",
          "mapbox": {
           "style": "light"
          },
          "paper_bgcolor": "white",
          "plot_bgcolor": "#E5ECF6",
          "polar": {
           "angularaxis": {
            "gridcolor": "white",
            "linecolor": "white",
            "ticks": ""
           },
           "bgcolor": "#E5ECF6",
           "radialaxis": {
            "gridcolor": "white",
            "linecolor": "white",
            "ticks": ""
           }
          },
          "scene": {
           "xaxis": {
            "backgroundcolor": "#E5ECF6",
            "gridcolor": "white",
            "gridwidth": 2,
            "linecolor": "white",
            "showbackground": true,
            "ticks": "",
            "zerolinecolor": "white"
           },
           "yaxis": {
            "backgroundcolor": "#E5ECF6",
            "gridcolor": "white",
            "gridwidth": 2,
            "linecolor": "white",
            "showbackground": true,
            "ticks": "",
            "zerolinecolor": "white"
           },
           "zaxis": {
            "backgroundcolor": "#E5ECF6",
            "gridcolor": "white",
            "gridwidth": 2,
            "linecolor": "white",
            "showbackground": true,
            "ticks": "",
            "zerolinecolor": "white"
           }
          },
          "shapedefaults": {
           "line": {
            "color": "#2a3f5f"
           }
          },
          "ternary": {
           "aaxis": {
            "gridcolor": "white",
            "linecolor": "white",
            "ticks": ""
           },
           "baxis": {
            "gridcolor": "white",
            "linecolor": "white",
            "ticks": ""
           },
           "bgcolor": "#E5ECF6",
           "caxis": {
            "gridcolor": "white",
            "linecolor": "white",
            "ticks": ""
           }
          },
          "title": {
           "x": 0.05
          },
          "xaxis": {
           "automargin": true,
           "gridcolor": "white",
           "linecolor": "white",
           "ticks": "",
           "title": {
            "standoff": 15
           },
           "zerolinecolor": "white",
           "zerolinewidth": 2
          },
          "yaxis": {
           "automargin": true,
           "gridcolor": "white",
           "linecolor": "white",
           "ticks": "",
           "title": {
            "standoff": 15
           },
           "zerolinecolor": "white",
           "zerolinewidth": 2
          }
         }
        },
        "title": {
         "text": "💰 Evolución de Ventas Diarias"
        },
        "xaxis": {
         "anchor": "y",
         "domain": [
          0,
          1
         ],
         "title": {
          "text": "Fecha"
         }
        },
        "yaxis": {
         "anchor": "x",
         "domain": [
          0,
          1
         ],
         "title": {
          "text": "Ventas ($)"
         }
        }
       }
      }
     },
     "metadata": {},
     "output_type": "display_data"
    },
    {
     "data": {
      "application/vnd.plotly.v1+json": {
       "config": {
        "plotlyServerURL": "https://plot.ly"
       },
       "data": [
        {
         "hovertemplate": "Día de la Semana=%{x}<br>Ventas ($)=%{marker.color}<extra></extra>",
         "legendgroup": "",
         "marker": {
          "color": {
           "bdata": "cT0Klw2MNEFI4XqU0SwxQUjhehQxVy9BMzMz84+0MkHrUbge6DYnQUjhelTamDJBAAAAALqlHEE=",
           "dtype": "f8"
          },
          "coloraxis": "coloraxis",
          "pattern": {
           "shape": ""
          }
         },
         "name": "",
         "orientation": "v",
         "showlegend": false,
         "textposition": "auto",
         "type": "bar",
         "x": [
          "Monday",
          "Tuesday",
          "Wednesday",
          "Thursday",
          "Friday",
          "Saturday",
          "Sunday"
         ],
         "xaxis": "x",
         "y": {
          "bdata": "cT0Klw2MNEFI4XqU0SwxQUjhehQxVy9BMzMz84+0MkHrUbge6DYnQUjhelTamDJBAAAAALqlHEE=",
          "dtype": "f8"
         },
         "yaxis": "y"
        }
       ],
       "layout": {
        "barmode": "relative",
        "coloraxis": {
         "colorbar": {
          "title": {
           "text": "Ventas ($)"
          }
         },
         "colorscale": [
          [
           0,
           "#440154"
          ],
          [
           0.1111111111111111,
           "#482878"
          ],
          [
           0.2222222222222222,
           "#3e4989"
          ],
          [
           0.3333333333333333,
           "#31688e"
          ],
          [
           0.4444444444444444,
           "#26828e"
          ],
          [
           0.5555555555555556,
           "#1f9e89"
          ],
          [
           0.6666666666666666,
           "#35b779"
          ],
          [
           0.7777777777777778,
           "#6ece58"
          ],
          [
           0.8888888888888888,
           "#b5de2b"
          ],
          [
           1,
           "#fde725"
          ]
         ]
        },
        "height": 400,
        "legend": {
         "tracegroupgap": 0
        },
        "template": {
         "data": {
          "bar": [
           {
            "error_x": {
             "color": "#2a3f5f"
            },
            "error_y": {
             "color": "#2a3f5f"
            },
            "marker": {
             "line": {
              "color": "#E5ECF6",
              "width": 0.5
             },
             "pattern": {
              "fillmode": "overlay",
              "size": 10,
              "solidity": 0.2
             }
            },
            "type": "bar"
           }
          ],
          "barpolar": [
           {
            "marker": {
             "line": {
              "color": "#E5ECF6",
              "width": 0.5
             },
             "pattern": {
              "fillmode": "overlay",
              "size": 10,
              "solidity": 0.2
             }
            },
            "type": "barpolar"
           }
          ],
          "carpet": [
           {
            "aaxis": {
             "endlinecolor": "#2a3f5f",
             "gridcolor": "white",
             "linecolor": "white",
             "minorgridcolor": "white",
             "startlinecolor": "#2a3f5f"
            },
            "baxis": {
             "endlinecolor": "#2a3f5f",
             "gridcolor": "white",
             "linecolor": "white",
             "minorgridcolor": "white",
             "startlinecolor": "#2a3f5f"
            },
            "type": "carpet"
           }
          ],
          "choropleth": [
           {
            "colorbar": {
             "outlinewidth": 0,
             "ticks": ""
            },
            "type": "choropleth"
           }
          ],
          "contour": [
           {
            "colorbar": {
             "outlinewidth": 0,
             "ticks": ""
            },
            "colorscale": [
             [
              0,
              "#0d0887"
             ],
             [
              0.1111111111111111,
              "#46039f"
             ],
             [
              0.2222222222222222,
              "#7201a8"
             ],
             [
              0.3333333333333333,
              "#9c179e"
             ],
             [
              0.4444444444444444,
              "#bd3786"
             ],
             [
              0.5555555555555556,
              "#d8576b"
             ],
             [
              0.6666666666666666,
              "#ed7953"
             ],
             [
              0.7777777777777778,
              "#fb9f3a"
             ],
             [
              0.8888888888888888,
              "#fdca26"
             ],
             [
              1,
              "#f0f921"
             ]
            ],
            "type": "contour"
           }
          ],
          "contourcarpet": [
           {
            "colorbar": {
             "outlinewidth": 0,
             "ticks": ""
            },
            "type": "contourcarpet"
           }
          ],
          "heatmap": [
           {
            "colorbar": {
             "outlinewidth": 0,
             "ticks": ""
            },
            "colorscale": [
             [
              0,
              "#0d0887"
             ],
             [
              0.1111111111111111,
              "#46039f"
             ],
             [
              0.2222222222222222,
              "#7201a8"
             ],
             [
              0.3333333333333333,
              "#9c179e"
             ],
             [
              0.4444444444444444,
              "#bd3786"
             ],
             [
              0.5555555555555556,
              "#d8576b"
             ],
             [
              0.6666666666666666,
              "#ed7953"
             ],
             [
              0.7777777777777778,
              "#fb9f3a"
             ],
             [
              0.8888888888888888,
              "#fdca26"
             ],
             [
              1,
              "#f0f921"
             ]
            ],
            "type": "heatmap"
           }
          ],
          "histogram": [
           {
            "marker": {
             "pattern": {
              "fillmode": "overlay",
              "size": 10,
              "solidity": 0.2
             }
            },
            "type": "histogram"
           }
          ],
          "histogram2d": [
           {
            "colorbar": {
             "outlinewidth": 0,
             "ticks": ""
            },
            "colorscale": [
             [
              0,
              "#0d0887"
             ],
             [
              0.1111111111111111,
              "#46039f"
             ],
             [
              0.2222222222222222,
              "#7201a8"
             ],
             [
              0.3333333333333333,
              "#9c179e"
             ],
             [
              0.4444444444444444,
              "#bd3786"
             ],
             [
              0.5555555555555556,
              "#d8576b"
             ],
             [
              0.6666666666666666,
              "#ed7953"
             ],
             [
              0.7777777777777778,
              "#fb9f3a"
             ],
             [
              0.8888888888888888,
              "#fdca26"
             ],
             [
              1,
              "#f0f921"
             ]
            ],
            "type": "histogram2d"
           }
          ],
          "histogram2dcontour": [
           {
            "colorbar": {
             "outlinewidth": 0,
             "ticks": ""
            },
            "colorscale": [
             [
              0,
              "#0d0887"
             ],
             [
              0.1111111111111111,
              "#46039f"
             ],
             [
              0.2222222222222222,
              "#7201a8"
             ],
             [
              0.3333333333333333,
              "#9c179e"
             ],
             [
              0.4444444444444444,
              "#bd3786"
             ],
             [
              0.5555555555555556,
              "#d8576b"
             ],
             [
              0.6666666666666666,
              "#ed7953"
             ],
             [
              0.7777777777777778,
              "#fb9f3a"
             ],
             [
              0.8888888888888888,
              "#fdca26"
             ],
             [
              1,
              "#f0f921"
             ]
            ],
            "type": "histogram2dcontour"
           }
          ],
          "mesh3d": [
           {
            "colorbar": {
             "outlinewidth": 0,
             "ticks": ""
            },
            "type": "mesh3d"
           }
          ],
          "parcoords": [
           {
            "line": {
             "colorbar": {
              "outlinewidth": 0,
              "ticks": ""
             }
            },
            "type": "parcoords"
           }
          ],
          "pie": [
           {
            "automargin": true,
            "type": "pie"
           }
          ],
          "scatter": [
           {
            "fillpattern": {
             "fillmode": "overlay",
             "size": 10,
             "solidity": 0.2
            },
            "type": "scatter"
           }
          ],
          "scatter3d": [
           {
            "line": {
             "colorbar": {
              "outlinewidth": 0,
              "ticks": ""
             }
            },
            "marker": {
             "colorbar": {
              "outlinewidth": 0,
              "ticks": ""
             }
            },
            "type": "scatter3d"
           }
          ],
          "scattercarpet": [
           {
            "marker": {
             "colorbar": {
              "outlinewidth": 0,
              "ticks": ""
             }
            },
            "type": "scattercarpet"
           }
          ],
          "scattergeo": [
           {
            "marker": {
             "colorbar": {
              "outlinewidth": 0,
              "ticks": ""
             }
            },
            "type": "scattergeo"
           }
          ],
          "scattergl": [
           {
            "marker": {
             "colorbar": {
              "outlinewidth": 0,
              "ticks": ""
             }
            },
            "type": "scattergl"
           }
          ],
          "scattermap": [
           {
            "marker": {
             "colorbar": {
              "outlinewidth": 0,
              "ticks": ""
             }
            },
            "type": "scattermap"
           }
          ],
          "scattermapbox": [
           {
            "marker": {
             "colorbar": {
              "outlinewidth": 0,
              "ticks": ""
             }
            },
            "type": "scattermapbox"
           }
          ],
          "scatterpolar": [
           {
            "marker": {
             "colorbar": {
              "outlinewidth": 0,
              "ticks": ""
             }
            },
            "type": "scatterpolar"
           }
          ],
          "scatterpolargl": [
           {
            "marker": {
             "colorbar": {
              "outlinewidth": 0,
              "ticks": ""
             }
            },
            "type": "scatterpolargl"
           }
          ],
          "scatterternary": [
           {
            "marker": {
             "colorbar": {
              "outlinewidth": 0,
              "ticks": ""
             }
            },
            "type": "scatterternary"
           }
          ],
          "surface": [
           {
            "colorbar": {
             "outlinewidth": 0,
             "ticks": ""
            },
            "colorscale": [
             [
              0,
              "#0d0887"
             ],
             [
              0.1111111111111111,
              "#46039f"
             ],
             [
              0.2222222222222222,
              "#7201a8"
             ],
             [
              0.3333333333333333,
              "#9c179e"
             ],
             [
              0.4444444444444444,
              "#bd3786"
             ],
             [
              0.5555555555555556,
              "#d8576b"
             ],
             [
              0.6666666666666666,
              "#ed7953"
             ],
             [
              0.7777777777777778,
              "#fb9f3a"
             ],
             [
              0.8888888888888888,
              "#fdca26"
             ],
             [
              1,
              "#f0f921"
             ]
            ],
            "type": "surface"
           }
          ],
          "table": [
           {
            "cells": {
             "fill": {
              "color": "#EBF0F8"
             },
             "line": {
              "color": "white"
             }
            },
            "header": {
             "fill": {
              "color": "#C8D4E3"
             },
             "line": {
              "color": "white"
             }
            },
            "type": "table"
           }
          ]
         },
         "layout": {
          "annotationdefaults": {
           "arrowcolor": "#2a3f5f",
           "arrowhead": 0,
           "arrowwidth": 1
          },
          "autotypenumbers": "strict",
          "coloraxis": {
           "colorbar": {
            "outlinewidth": 0,
            "ticks": ""
           }
          },
          "colorscale": {
           "diverging": [
            [
             0,
             "#8e0152"
            ],
            [
             0.1,
             "#c51b7d"
            ],
            [
             0.2,
             "#de77ae"
            ],
            [
             0.3,
             "#f1b6da"
            ],
            [
             0.4,
             "#fde0ef"
            ],
            [
             0.5,
             "#f7f7f7"
            ],
            [
             0.6,
             "#e6f5d0"
            ],
            [
             0.7,
             "#b8e186"
            ],
            [
             0.8,
             "#7fbc41"
            ],
            [
             0.9,
             "#4d9221"
            ],
            [
             1,
             "#276419"
            ]
           ],
           "sequential": [
            [
             0,
             "#0d0887"
            ],
            [
             0.1111111111111111,
             "#46039f"
            ],
            [
             0.2222222222222222,
             "#7201a8"
            ],
            [
             0.3333333333333333,
             "#9c179e"
            ],
            [
             0.4444444444444444,
             "#bd3786"
            ],
            [
             0.5555555555555556,
             "#d8576b"
            ],
            [
             0.6666666666666666,
             "#ed7953"
            ],
            [
             0.7777777777777778,
             "#fb9f3a"
            ],
            [
             0.8888888888888888,
             "#fdca26"
            ],
            [
             1,
             "#f0f921"
            ]
           ],
           "sequentialminus": [
            [
             0,
             "#0d0887"
            ],
            [
             0.1111111111111111,
             "#46039f"
            ],
            [
             0.2222222222222222,
             "#7201a8"
            ],
            [
             0.3333333333333333,
             "#9c179e"
            ],
            [
             0.4444444444444444,
             "#bd3786"
            ],
            [
             0.5555555555555556,
             "#d8576b"
            ],
            [
             0.6666666666666666,
             "#ed7953"
            ],
            [
             0.7777777777777778,
             "#fb9f3a"
            ],
            [
             0.8888888888888888,
             "#fdca26"
            ],
            [
             1,
             "#f0f921"
            ]
           ]
          },
          "colorway": [
           "#636efa",
           "#EF553B",
           "#00cc96",
           "#ab63fa",
           "#FFA15A",
           "#19d3f3",
           "#FF6692",
           "#B6E880",
           "#FF97FF",
           "#FECB52"
          ],
          "font": {
           "color": "#2a3f5f"
          },
          "geo": {
           "bgcolor": "white",
           "lakecolor": "white",
           "landcolor": "#E5ECF6",
           "showlakes": true,
           "showland": true,
           "subunitcolor": "white"
          },
          "hoverlabel": {
           "align": "left"
          },
          "hovermode": "closest",
          "mapbox": {
           "style": "light"
          },
          "paper_bgcolor": "white",
          "plot_bgcolor": "#E5ECF6",
          "polar": {
           "angularaxis": {
            "gridcolor": "white",
            "linecolor": "white",
            "ticks": ""
           },
           "bgcolor": "#E5ECF6",
           "radialaxis": {
            "gridcolor": "white",
            "linecolor": "white",
            "ticks": ""
           }
          },
          "scene": {
           "xaxis": {
            "backgroundcolor": "#E5ECF6",
            "gridcolor": "white",
            "gridwidth": 2,
            "linecolor": "white",
            "showbackground": true,
            "ticks": "",
            "zerolinecolor": "white"
           },
           "yaxis": {
            "backgroundcolor": "#E5ECF6",
            "gridcolor": "white",
            "gridwidth": 2,
            "linecolor": "white",
            "showbackground": true,
            "ticks": "",
            "zerolinecolor": "white"
           },
           "zaxis": {
            "backgroundcolor": "#E5ECF6",
            "gridcolor": "white",
            "gridwidth": 2,
            "linecolor": "white",
            "showbackground": true,
            "ticks": "",
            "zerolinecolor": "white"
           }
          },
          "shapedefaults": {
           "line": {
            "color": "#2a3f5f"
           }
          },
          "ternary": {
           "aaxis": {
            "gridcolor": "white",
            "linecolor": "white",
            "ticks": ""
           },
           "baxis": {
            "gridcolor": "white",
            "linecolor": "white",
            "ticks": ""
           },
           "bgcolor": "#E5ECF6",
           "caxis": {
            "gridcolor": "white",
            "linecolor": "white",
            "ticks": ""
           }
          },
          "title": {
           "x": 0.05
          },
          "xaxis": {
           "automargin": true,
           "gridcolor": "white",
           "linecolor": "white",
           "ticks": "",
           "title": {
            "standoff": 15
           },
           "zerolinecolor": "white",
           "zerolinewidth": 2
          },
          "yaxis": {
           "automargin": true,
           "gridcolor": "white",
           "linecolor": "white",
           "ticks": "",
           "title": {
            "standoff": 15
           },
           "zerolinecolor": "white",
           "zerolinewidth": 2
          }
         }
        },
        "title": {
         "text": "📅 Ventas por Día de la Semana"
        },
        "xaxis": {
         "anchor": "y",
         "domain": [
          0,
          1
         ],
         "title": {
          "text": "Día de la Semana"
         }
        },
        "yaxis": {
         "anchor": "x",
         "domain": [
          0,
          1
         ],
         "title": {
          "text": "Ventas ($)"
         }
        }
       }
      }
     },
     "metadata": {},
     "output_type": "display_data"
    },
    {
     "data": {
      "application/vnd.plotly.v1+json": {
       "config": {
        "plotlyServerURL": "https://plot.ly"
       },
       "data": [
        {
         "coloraxis": "coloraxis",
         "hovertemplate": "Día del Mes: %{x}<br>Día de la Semana: %{y}<br>Ventas ($): %{z}<extra></extra>",
         "name": "0",
         "type": "heatmap",
         "x": {
          "bdata": "AQAAAAIAAAADAAAABAAAAAUAAAAGAAAABwAAAAgAAAAJAAAACgAAAAsAAAAMAAAADQAAAA4AAAAPAAAAEAAAABEAAAASAAAAEwAAABQAAAAVAAAAFgAAABcAAAAYAAAAGQAAABoAAAAbAAAAHAAAAB0AAAAeAAAAHwAAAA==",
          "dtype": "i4"
         },
         "xaxis": "x",
         "y": [
          "Monday",
          "Tuesday",
          "Wednesday",
          "Thursday",
          "Friday",
          "Saturday",
          "Sunday"
         ],
         "yaxis": "y",
         "z": {
          "bdata": "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",
          "dtype": "f8",
          "shape": "7, 31"
         }
        }
       ],
       "layout": {
        "coloraxis": {
         "colorbar": {
          "title": {
           "text": "Ventas ($)"
          }
         },
         "colorscale": [
          [
           0,
           "#440154"
          ],
          [
           0.1111111111111111,
           "#482878"
          ],
          [
           0.2222222222222222,
           "#3e4989"
          ],
          [
           0.3333333333333333,
           "#31688e"
          ],
          [
           0.4444444444444444,
           "#26828e"
          ],
          [
           0.5555555555555556,
           "#1f9e89"
          ],
          [
           0.6666666666666666,
           "#35b779"
          ],
          [
           0.7777777777777778,
           "#6ece58"
          ],
          [
           0.8888888888888888,
           "#b5de2b"
          ],
          [
           1,
           "#fde725"
          ]
         ]
        },
        "height": 400,
        "template": {
         "data": {
          "bar": [
           {
            "error_x": {
             "color": "#2a3f5f"
            },
            "error_y": {
             "color": "#2a3f5f"
            },
            "marker": {
             "line": {
              "color": "#E5ECF6",
              "width": 0.5
             },
             "pattern": {
              "fillmode": "overlay",
              "size": 10,
              "solidity": 0.2
             }
            },
            "type": "bar"
           }
          ],
          "barpolar": [
           {
            "marker": {
             "line": {
              "color": "#E5ECF6",
              "width": 0.5
             },
             "pattern": {
              "fillmode": "overlay",
              "size": 10,
              "solidity": 0.2
             }
            },
            "type": "barpolar"
           }
          ],
          "carpet": [
           {
            "aaxis": {
             "endlinecolor": "#2a3f5f",
             "gridcolor": "white",
             "linecolor": "white",
             "minorgridcolor": "white",
             "startlinecolor": "#2a3f5f"
            },
            "baxis": {
             "endlinecolor": "#2a3f5f",
             "gridcolor": "white",
             "linecolor": "white",
             "minorgridcolor": "white",
             "startlinecolor": "#2a3f5f"
            },
            "type": "carpet"
           }
          ],
          "choropleth": [
           {
            "colorbar": {
             "outlinewidth": 0,
             "ticks": ""
            },
            "type": "choropleth"
           }
          ],
          "contour": [
           {
            "colorbar": {
             "outlinewidth": 0,
             "ticks": ""
            },
            "colorscale": [
             [
              0,
              "#0d0887"
             ],
             [
              0.1111111111111111,
              "#46039f"
             ],
             [
              0.2222222222222222,
              "#7201a8"
             ],
             [
              0.3333333333333333,
              "#9c179e"
             ],
             [
              0.4444444444444444,
              "#bd3786"
             ],
             [
              0.5555555555555556,
              "#d8576b"
             ],
             [
              0.6666666666666666,
              "#ed7953"
             ],
             [
              0.7777777777777778,
              "#fb9f3a"
             ],
             [
              0.8888888888888888,
              "#fdca26"
             ],
             [
              1,
              "#f0f921"
             ]
            ],
            "type": "contour"
           }
          ],
          "contourcarpet": [
           {
            "colorbar": {
             "outlinewidth": 0,
             "ticks": ""
            },
            "type": "contourcarpet"
           }
          ],
          "heatmap": [
           {
            "colorbar": {
             "outlinewidth": 0,
             "ticks": ""
            },
            "colorscale": [
             [
              0,
              "#0d0887"
             ],
             [
              0.1111111111111111,
              "#46039f"
             ],
             [
              0.2222222222222222,
              "#7201a8"
             ],
             [
              0.3333333333333333,
              "#9c179e"
             ],
             [
              0.4444444444444444,
              "#bd3786"
             ],
             [
              0.5555555555555556,
              "#d8576b"
             ],
             [
              0.6666666666666666,
              "#ed7953"
             ],
             [
              0.7777777777777778,
              "#fb9f3a"
             ],
             [
              0.8888888888888888,
              "#fdca26"
             ],
             [
              1,
              "#f0f921"
             ]
            ],
            "type": "heatmap"
           }
          ],
          "histogram": [
           {
            "marker": {
             "pattern": {
              "fillmode": "overlay",
              "size": 10,
              "solidity": 0.2
             }
            },
            "type": "histogram"
           }
          ],
          "histogram2d": [
           {
            "colorbar": {
             "outlinewidth": 0,
             "ticks": ""
            },
            "colorscale": [
             [
              0,
              "#0d0887"
             ],
             [
              0.1111111111111111,
              "#46039f"
             ],
             [
              0.2222222222222222,
              "#7201a8"
             ],
             [
              0.3333333333333333,
              "#9c179e"
             ],
             [
              0.4444444444444444,
              "#bd3786"
             ],
             [
              0.5555555555555556,
              "#d8576b"
             ],
             [
              0.6666666666666666,
              "#ed7953"
             ],
             [
              0.7777777777777778,
              "#fb9f3a"
             ],
             [
              0.8888888888888888,
              "#fdca26"
             ],
             [
              1,
              "#f0f921"
             ]
            ],
            "type": "histogram2d"
           }
          ],
          "histogram2dcontour": [
           {
            "colorbar": {
             "outlinewidth": 0,
             "ticks": ""
            },
            "colorscale": [
             [
              0,
              "#0d0887"
             ],
             [
              0.1111111111111111,
              "#46039f"
             ],
             [
              0.2222222222222222,
              "#7201a8"
             ],
             [
              0.3333333333333333,
              "#9c179e"
             ],
             [
              0.4444444444444444,
              "#bd3786"
             ],
             [
              0.5555555555555556,
              "#d8576b"
             ],
             [
              0.6666666666666666,
              "#ed7953"
             ],
             [
              0.7777777777777778,
              "#fb9f3a"
             ],
             [
              0.8888888888888888,
              "#fdca26"
             ],
             [
              1,
              "#f0f921"
             ]
            ],
            "type": "histogram2dcontour"
           }
          ],
          "mesh3d": [
           {
            "colorbar": {
             "outlinewidth": 0,
             "ticks": ""
            },
            "type": "mesh3d"
           }
          ],
          "parcoords": [
           {
            "line": {
             "colorbar": {
              "outlinewidth": 0,
              "ticks": ""
             }
            },
            "type": "parcoords"
           }
          ],
          "pie": [
           {
            "automargin": true,
            "type": "pie"
           }
          ],
          "scatter": [
           {
            "fillpattern": {
             "fillmode": "overlay",
             "size": 10,
             "solidity": 0.2
            },
            "type": "scatter"
           }
          ],
          "scatter3d": [
           {
            "line": {
             "colorbar": {
              "outlinewidth": 0,
              "ticks": ""
             }
            },
            "marker": {
             "colorbar": {
              "outlinewidth": 0,
              "ticks": ""
             }
            },
            "type": "scatter3d"
           }
          ],
          "scattercarpet": [
           {
            "marker": {
             "colorbar": {
              "outlinewidth": 0,
              "ticks": ""
             }
            },
            "type": "scattercarpet"
           }
          ],
          "scattergeo": [
           {
            "marker": {
             "colorbar": {
              "outlinewidth": 0,
              "ticks": ""
             }
            },
            "type": "scattergeo"
           }
          ],
          "scattergl": [
           {
            "marker": {
             "colorbar": {
              "outlinewidth": 0,
              "ticks": ""
             }
            },
            "type": "scattergl"
           }
          ],
          "scattermap": [
           {
            "marker": {
             "colorbar": {
              "outlinewidth": 0,
              "ticks": ""
             }
            },
            "type": "scattermap"
           }
          ],
          "scattermapbox": [
           {
            "marker": {
             "colorbar": {
              "outlinewidth": 0,
              "ticks": ""
             }
            },
            "type": "scattermapbox"
           }
          ],
          "scatterpolar": [
           {
            "marker": {
             "colorbar": {
              "outlinewidth": 0,
              "ticks": ""
             }
            },
            "type": "scatterpolar"
           }
          ],
          "scatterpolargl": [
           {
            "marker": {
             "colorbar": {
              "outlinewidth": 0,
              "ticks": ""
             }
            },
            "type": "scatterpolargl"
           }
          ],
          "scatterternary": [
           {
            "marker": {
             "colorbar": {
              "outlinewidth": 0,
              "ticks": ""
             }
            },
            "type": "scatterternary"
           }
          ],
          "surface": [
           {
            "colorbar": {
             "outlinewidth": 0,
             "ticks": ""
            },
            "colorscale": [
             [
              0,
              "#0d0887"
             ],
             [
              0.1111111111111111,
              "#46039f"
             ],
             [
              0.2222222222222222,
              "#7201a8"
             ],
             [
              0.3333333333333333,
              "#9c179e"
             ],
             [
              0.4444444444444444,
              "#bd3786"
             ],
             [
              0.5555555555555556,
              "#d8576b"
             ],
             [
              0.6666666666666666,
              "#ed7953"
             ],
             [
              0.7777777777777778,
              "#fb9f3a"
             ],
             [
              0.8888888888888888,
              "#fdca26"
             ],
             [
              1,
              "#f0f921"
             ]
            ],
            "type": "surface"
           }
          ],
          "table": [
           {
            "cells": {
             "fill": {
              "color": "#EBF0F8"
             },
             "line": {
              "color": "white"
             }
            },
            "header": {
             "fill": {
              "color": "#C8D4E3"
             },
             "line": {
              "color": "white"
             }
            },
            "type": "table"
           }
          ]
         },
         "layout": {
          "annotationdefaults": {
           "arrowcolor": "#2a3f5f",
           "arrowhead": 0,
           "arrowwidth": 1
          },
          "autotypenumbers": "strict",
          "coloraxis": {
           "colorbar": {
            "outlinewidth": 0,
            "ticks": ""
           }
          },
          "colorscale": {
           "diverging": [
            [
             0,
             "#8e0152"
            ],
            [
             0.1,
             "#c51b7d"
            ],
            [
             0.2,
             "#de77ae"
            ],
            [
             0.3,
             "#f1b6da"
            ],
            [
             0.4,
             "#fde0ef"
            ],
            [
             0.5,
             "#f7f7f7"
            ],
            [
             0.6,
             "#e6f5d0"
            ],
            [
             0.7,
             "#b8e186"
            ],
            [
             0.8,
             "#7fbc41"
            ],
            [
             0.9,
             "#4d9221"
            ],
            [
             1,
             "#276419"
            ]
           ],
           "sequential": [
            [
             0,
             "#0d0887"
            ],
            [
             0.1111111111111111,
             "#46039f"
            ],
            [
             0.2222222222222222,
             "#7201a8"
            ],
            [
             0.3333333333333333,
             "#9c179e"
            ],
            [
             0.4444444444444444,
             "#bd3786"
            ],
            [
             0.5555555555555556,
             "#d8576b"
            ],
            [
             0.6666666666666666,
             "#ed7953"
            ],
            [
             0.7777777777777778,
             "#fb9f3a"
            ],
            [
             0.8888888888888888,
             "#fdca26"
            ],
            [
             1,
             "#f0f921"
            ]
           ],
           "sequentialminus": [
            [
             0,
             "#0d0887"
            ],
            [
             0.1111111111111111,
             "#46039f"
            ],
            [
             0.2222222222222222,
             "#7201a8"
            ],
            [
             0.3333333333333333,
             "#9c179e"
            ],
            [
             0.4444444444444444,
             "#bd3786"
            ],
            [
             0.5555555555555556,
             "#d8576b"
            ],
            [
             0.6666666666666666,
             "#ed7953"
            ],
            [
             0.7777777777777778,
             "#fb9f3a"
            ],
            [
             0.8888888888888888,
             "#fdca26"
            ],
            [
             1,
             "#f0f921"
            ]
           ]
          },
          "colorway": [
           "#636efa",
           "#EF553B",
           "#00cc96",
           "#ab63fa",
           "#FFA15A",
           "#19d3f3",
           "#FF6692",
           "#B6E880",
           "#FF97FF",
           "#FECB52"
          ],
          "font": {
           "color": "#2a3f5f"
          },
          "geo": {
           "bgcolor": "white",
           "lakecolor": "white",
           "landcolor": "#E5ECF6",
           "showlakes": true,
           "showland": true,
           "subunitcolor": "white"
          },
          "hoverlabel": {
           "align": "left"
          },
          "hovermode": "closest",
          "mapbox": {
           "style": "light"
          },
          "paper_bgcolor": "white",
          "plot_bgcolor": "#E5ECF6",
          "polar": {
           "angularaxis": {
            "gridcolor": "white",
            "linecolor": "white",
            "ticks": ""
           },
           "bgcolor": "#E5ECF6",
           "radialaxis": {
            "gridcolor": "white",
            "linecolor": "white",
            "ticks": ""
           }
          },
          "scene": {
           "xaxis": {
            "backgroundcolor": "#E5ECF6",
            "gridcolor": "white",
            "gridwidth": 2,
            "linecolor": "white",
            "showbackground": true,
            "ticks": "",
            "zerolinecolor": "white"
           },
           "yaxis": {
            "backgroundcolor": "#E5ECF6",
            "gridcolor": "white",
            "gridwidth": 2,
            "linecolor": "white",
            "showbackground": true,
            "ticks": "",
            "zerolinecolor": "white"
           },
           "zaxis": {
            "backgroundcolor": "#E5ECF6",
            "gridcolor": "white",
            "gridwidth": 2,
            "linecolor": "white",
            "showbackground": true,
            "ticks": "",
            "zerolinecolor": "white"
           }
          },
          "shapedefaults": {
           "line": {
            "color": "#2a3f5f"
           }
          },
          "ternary": {
           "aaxis": {
            "gridcolor": "white",
            "linecolor": "white",
            "ticks": ""
           },
           "baxis": {
            "gridcolor": "white",
            "linecolor": "white",
            "ticks": ""
           },
           "bgcolor": "#E5ECF6",
           "caxis": {
            "gridcolor": "white",
            "linecolor": "white",
            "ticks": ""
           }
          },
          "title": {
           "x": 0.05
          },
          "xaxis": {
           "automargin": true,
           "gridcolor": "white",
           "linecolor": "white",
           "ticks": "",
           "title": {
            "standoff": 15
           },
           "zerolinecolor": "white",
           "zerolinewidth": 2
          },
          "yaxis": {
           "automargin": true,
           "gridcolor": "white",
           "linecolor": "white",
           "ticks": "",
           "title": {
            "standoff": 15
           },
           "zerolinecolor": "white",
           "zerolinewidth": 2
          }
         }
        },
        "title": {
         "text": "🗓️ Mapa de Calor: Ventas por Día del Mes y Día de la Semana"
        },
        "xaxis": {
         "anchor": "y",
         "domain": [
          0,
          1
         ],
         "title": {
          "text": "Día del Mes"
         }
        },
        "yaxis": {
         "anchor": "x",
         "autorange": "reversed",
         "domain": [
          0,
          1
         ],
         "title": {
          "text": "Día de la Semana"
         }
        }
       }
      }
     },
     "metadata": {},
     "output_type": "display_data"
    },
    {
     "name": "stdout",
     "output_type": "stream",
     "text": [
      "✅ Visualizaciones de tiempo creadas exitosamente!\n"
     ]
    }
   ],
   "source": [
    "# Crear visualizaciones de series temporales\n",
    "print(\"📈 CREANDO VISUALIZACIONES DE VENTAS POR TIEMPO\")\n",
    "print(\"=\"*50)\n",
    "\n",
    "# 1. Ventas diarias\n",
    "ventas_diarias = df_clean.groupby('Date').agg({\n",
    "    'Amount': 'sum',\n",
    "    'Qty': 'sum',\n",
    "    'Name': 'nunique'  # Clientes únicos por día\n",
    "}).reset_index()\n",
    "ventas_diarias.columns = ['Fecha', 'Ventas', 'Cantidad', 'Clientes_Unicos']\n",
    "\n",
    "# Gráfico de líneas de ventas diarias\n",
    "fig_ventas_tiempo = px.line(\n",
    "    ventas_diarias, \n",
    "    x='Fecha', \n",
    "    y='Ventas',\n",
    "    title='💰 Evolución de Ventas Diarias - Honduras',\n",
    "    labels={'Ventas': 'Ventas (L)', 'Fecha': 'Fecha'},\n",
    "    line_shape='spline'\n",
    ")\n",
    "fig_ventas_tiempo.update_layout(\n",
    "    xaxis_title=\"Fecha\",\n",
    "    yaxis_title=\"Ventas (L)\",\n",
    "    hovermode='x unified',\n",
    "    height=400\n",
    ")\n",
    "fig_ventas_tiempo.show()\n",
    "\n",
    "# 2. Ventas por día de la semana (gráfico de barras)\n",
    "ventas_weekday_df = df_clean.groupby('Weekday')['Amount'].sum().reset_index()\n",
    "# Ordenar por días de la semana\n",
    "dias_orden = ['Monday', 'Tuesday', 'Wednesday', 'Thursday', 'Friday', 'Saturday', 'Sunday']\n",
    "ventas_weekday_df['Weekday'] = pd.Categorical(ventas_weekday_df['Weekday'], categories=dias_orden, ordered=True)\n",
    "ventas_weekday_df = ventas_weekday_df.sort_values('Weekday')\n",
    "\n",
    "fig_weekday = px.bar(\n",
    "    ventas_weekday_df,\n",
    "    x='Weekday',\n",
    "    y='Amount',\n",
    "    title='📅 Ventas por Día de la Semana - Honduras',\n",
    "    labels={'Amount': 'Ventas (L)', 'Weekday': 'Día de la Semana'},\n",
    "    color='Amount',\n",
    "    color_continuous_scale='viridis'\n",
    ")\n",
    "fig_weekday.update_layout(height=400)\n",
    "fig_weekday.show()\n",
    "\n",
    "# 3. Mapa de calor por día del mes y día de la semana\n",
    "df_clean['Day_of_Month'] = df_clean['Date'].dt.day\n",
    "heatmap_data = df_clean.groupby(['Weekday', 'Day_of_Month'])['Amount'].sum().reset_index()\n",
    "heatmap_pivot = heatmap_data.pivot(index='Weekday', columns='Day_of_Month', values='Amount').fillna(0)\n",
    "\n",
    "# Reordenar filas por días de la semana\n",
    "heatmap_pivot = heatmap_pivot.reindex(dias_orden)\n",
    "\n",
    "fig_heatmap = px.imshow(\n",
    "    heatmap_pivot,\n",
    "    title='🗓️ Mapa de Calor: Ventas por Día del Mes - Honduras',\n",
    "    labels=dict(x=\"Día del Mes\", y=\"Día de la Semana\", color=\"Ventas (L)\"),\n",
    "    aspect=\"auto\",\n",
    "    color_continuous_scale='viridis'\n",
    ")\n",
    "fig_heatmap.update_layout(height=400)\n",
    "fig_heatmap.show()\n",
    "\n",
    "print(\"✅ Visualizaciones de tiempo creadas exitosamente!\")"
   ]
  },
  {
   "cell_type": "markdown",
   "id": "92a4429d",
   "metadata": {},
   "source": [
    "## 6. Análisis de Productos Top"
   ]
  },
  {
   "cell_type": "code",
   "execution_count": null,
   "id": "5f103525",
   "metadata": {},
   "outputs": [
    {
     "name": "stdout",
     "output_type": "stream",
     "text": [
      "🏆 ANÁLISIS DE PRODUCTOS TOP\n",
      "==================================================\n"
     ]
    },
    {
     "data": {
      "application/vnd.plotly.v1+json": {
       "config": {
        "plotlyServerURL": "https://plot.ly"
       },
       "data": [
        {
         "hovertemplate": "Ingresos ($)=%{marker.color}<br>Producto=%{y}<extra></extra>",
         "legendgroup": "",
         "marker": {
          "color": {
           "bdata": "AAAAAE2PM0GamZkZPagwQeF6FK4+vS1BzczMTAkRJkEK16Nw6WAjQc3MzMxK8BlBhetRuHw8FEGuR+F6np0TQfYoXI8ybRBBwvUoXJoyEEE=",
           "dtype": "f8"
          },
          "coloraxis": "coloraxis",
          "pattern": {
           "shape": ""
          }
         },
         "name": "",
         "orientation": "h",
         "showlegend": false,
         "textposition": "auto",
         "type": "bar",
         "x": {
          "bdata": "AAAAAE2PM0GamZkZPagwQeF6FK4+vS1BzczMTAkRJkEK16Nw6WAjQc3MzMxK8BlBhetRuHw8FEGuR+F6np0TQfYoXI8ybRBBwvUoXJoyEEE=",
          "dtype": "f8"
         },
         "xaxis": "x",
         "y": [
          "03 BOTELLONES:Botellon Liquido",
          "04 HIELO:Bolsa 5.5 Lbs",
          "04 HIELO:Tonelada Escarcha",
          "ISV-15%",
          "02 BOTECITOS PAQUETES:BOTE 1 L PAQ",
          "04 HIELO:SacoEsc",
          "04 HIELO:SacoEsc50LB",
          "04 HIELO:SacoCubo",
          "04 HIELO:BaldeCubo",
          "04 HIELO:SacoCubo50LB"
         ],
         "yaxis": "y"
        }
       ],
       "layout": {
        "barmode": "relative",
        "coloraxis": {
         "colorbar": {
          "title": {
           "text": "Ingresos ($)"
          }
         },
         "colorscale": [
          [
           0,
           "#440154"
          ],
          [
           0.1111111111111111,
           "#482878"
          ],
          [
           0.2222222222222222,
           "#3e4989"
          ],
          [
           0.3333333333333333,
           "#31688e"
          ],
          [
           0.4444444444444444,
           "#26828e"
          ],
          [
           0.5555555555555556,
           "#1f9e89"
          ],
          [
           0.6666666666666666,
           "#35b779"
          ],
          [
           0.7777777777777778,
           "#6ece58"
          ],
          [
           0.8888888888888888,
           "#b5de2b"
          ],
          [
           1,
           "#fde725"
          ]
         ]
        },
        "height": 500,
        "legend": {
         "tracegroupgap": 0
        },
        "template": {
         "data": {
          "bar": [
           {
            "error_x": {
             "color": "#2a3f5f"
            },
            "error_y": {
             "color": "#2a3f5f"
            },
            "marker": {
             "line": {
              "color": "#E5ECF6",
              "width": 0.5
             },
             "pattern": {
              "fillmode": "overlay",
              "size": 10,
              "solidity": 0.2
             }
            },
            "type": "bar"
           }
          ],
          "barpolar": [
           {
            "marker": {
             "line": {
              "color": "#E5ECF6",
              "width": 0.5
             },
             "pattern": {
              "fillmode": "overlay",
              "size": 10,
              "solidity": 0.2
             }
            },
            "type": "barpolar"
           }
          ],
          "carpet": [
           {
            "aaxis": {
             "endlinecolor": "#2a3f5f",
             "gridcolor": "white",
             "linecolor": "white",
             "minorgridcolor": "white",
             "startlinecolor": "#2a3f5f"
            },
            "baxis": {
             "endlinecolor": "#2a3f5f",
             "gridcolor": "white",
             "linecolor": "white",
             "minorgridcolor": "white",
             "startlinecolor": "#2a3f5f"
            },
            "type": "carpet"
           }
          ],
          "choropleth": [
           {
            "colorbar": {
             "outlinewidth": 0,
             "ticks": ""
            },
            "type": "choropleth"
           }
          ],
          "contour": [
           {
            "colorbar": {
             "outlinewidth": 0,
             "ticks": ""
            },
            "colorscale": [
             [
              0,
              "#0d0887"
             ],
             [
              0.1111111111111111,
              "#46039f"
             ],
             [
              0.2222222222222222,
              "#7201a8"
             ],
             [
              0.3333333333333333,
              "#9c179e"
             ],
             [
              0.4444444444444444,
              "#bd3786"
             ],
             [
              0.5555555555555556,
              "#d8576b"
             ],
             [
              0.6666666666666666,
              "#ed7953"
             ],
             [
              0.7777777777777778,
              "#fb9f3a"
             ],
             [
              0.8888888888888888,
              "#fdca26"
             ],
             [
              1,
              "#f0f921"
             ]
            ],
            "type": "contour"
           }
          ],
          "contourcarpet": [
           {
            "colorbar": {
             "outlinewidth": 0,
             "ticks": ""
            },
            "type": "contourcarpet"
           }
          ],
          "heatmap": [
           {
            "colorbar": {
             "outlinewidth": 0,
             "ticks": ""
            },
            "colorscale": [
             [
              0,
              "#0d0887"
             ],
             [
              0.1111111111111111,
              "#46039f"
             ],
             [
              0.2222222222222222,
              "#7201a8"
             ],
             [
              0.3333333333333333,
              "#9c179e"
             ],
             [
              0.4444444444444444,
              "#bd3786"
             ],
             [
              0.5555555555555556,
              "#d8576b"
             ],
             [
              0.6666666666666666,
              "#ed7953"
             ],
             [
              0.7777777777777778,
              "#fb9f3a"
             ],
             [
              0.8888888888888888,
              "#fdca26"
             ],
             [
              1,
              "#f0f921"
             ]
            ],
            "type": "heatmap"
           }
          ],
          "histogram": [
           {
            "marker": {
             "pattern": {
              "fillmode": "overlay",
              "size": 10,
              "solidity": 0.2
             }
            },
            "type": "histogram"
           }
          ],
          "histogram2d": [
           {
            "colorbar": {
             "outlinewidth": 0,
             "ticks": ""
            },
            "colorscale": [
             [
              0,
              "#0d0887"
             ],
             [
              0.1111111111111111,
              "#46039f"
             ],
             [
              0.2222222222222222,
              "#7201a8"
             ],
             [
              0.3333333333333333,
              "#9c179e"
             ],
             [
              0.4444444444444444,
              "#bd3786"
             ],
             [
              0.5555555555555556,
              "#d8576b"
             ],
             [
              0.6666666666666666,
              "#ed7953"
             ],
             [
              0.7777777777777778,
              "#fb9f3a"
             ],
             [
              0.8888888888888888,
              "#fdca26"
             ],
             [
              1,
              "#f0f921"
             ]
            ],
            "type": "histogram2d"
           }
          ],
          "histogram2dcontour": [
           {
            "colorbar": {
             "outlinewidth": 0,
             "ticks": ""
            },
            "colorscale": [
             [
              0,
              "#0d0887"
             ],
             [
              0.1111111111111111,
              "#46039f"
             ],
             [
              0.2222222222222222,
              "#7201a8"
             ],
             [
              0.3333333333333333,
              "#9c179e"
             ],
             [
              0.4444444444444444,
              "#bd3786"
             ],
             [
              0.5555555555555556,
              "#d8576b"
             ],
             [
              0.6666666666666666,
              "#ed7953"
             ],
             [
              0.7777777777777778,
              "#fb9f3a"
             ],
             [
              0.8888888888888888,
              "#fdca26"
             ],
             [
              1,
              "#f0f921"
             ]
            ],
            "type": "histogram2dcontour"
           }
          ],
          "mesh3d": [
           {
            "colorbar": {
             "outlinewidth": 0,
             "ticks": ""
            },
            "type": "mesh3d"
           }
          ],
          "parcoords": [
           {
            "line": {
             "colorbar": {
              "outlinewidth": 0,
              "ticks": ""
             }
            },
            "type": "parcoords"
           }
          ],
          "pie": [
           {
            "automargin": true,
            "type": "pie"
           }
          ],
          "scatter": [
           {
            "fillpattern": {
             "fillmode": "overlay",
             "size": 10,
             "solidity": 0.2
            },
            "type": "scatter"
           }
          ],
          "scatter3d": [
           {
            "line": {
             "colorbar": {
              "outlinewidth": 0,
              "ticks": ""
             }
            },
            "marker": {
             "colorbar": {
              "outlinewidth": 0,
              "ticks": ""
             }
            },
            "type": "scatter3d"
           }
          ],
          "scattercarpet": [
           {
            "marker": {
             "colorbar": {
              "outlinewidth": 0,
              "ticks": ""
             }
            },
            "type": "scattercarpet"
           }
          ],
          "scattergeo": [
           {
            "marker": {
             "colorbar": {
              "outlinewidth": 0,
              "ticks": ""
             }
            },
            "type": "scattergeo"
           }
          ],
          "scattergl": [
           {
            "marker": {
             "colorbar": {
              "outlinewidth": 0,
              "ticks": ""
             }
            },
            "type": "scattergl"
           }
          ],
          "scattermap": [
           {
            "marker": {
             "colorbar": {
              "outlinewidth": 0,
              "ticks": ""
             }
            },
            "type": "scattermap"
           }
          ],
          "scattermapbox": [
           {
            "marker": {
             "colorbar": {
              "outlinewidth": 0,
              "ticks": ""
             }
            },
            "type": "scattermapbox"
           }
          ],
          "scatterpolar": [
           {
            "marker": {
             "colorbar": {
              "outlinewidth": 0,
              "ticks": ""
             }
            },
            "type": "scatterpolar"
           }
          ],
          "scatterpolargl": [
           {
            "marker": {
             "colorbar": {
              "outlinewidth": 0,
              "ticks": ""
             }
            },
            "type": "scatterpolargl"
           }
          ],
          "scatterternary": [
           {
            "marker": {
             "colorbar": {
              "outlinewidth": 0,
              "ticks": ""
             }
            },
            "type": "scatterternary"
           }
          ],
          "surface": [
           {
            "colorbar": {
             "outlinewidth": 0,
             "ticks": ""
            },
            "colorscale": [
             [
              0,
              "#0d0887"
             ],
             [
              0.1111111111111111,
              "#46039f"
             ],
             [
              0.2222222222222222,
              "#7201a8"
             ],
             [
              0.3333333333333333,
              "#9c179e"
             ],
             [
              0.4444444444444444,
              "#bd3786"
             ],
             [
              0.5555555555555556,
              "#d8576b"
             ],
             [
              0.6666666666666666,
              "#ed7953"
             ],
             [
              0.7777777777777778,
              "#fb9f3a"
             ],
             [
              0.8888888888888888,
              "#fdca26"
             ],
             [
              1,
              "#f0f921"
             ]
            ],
            "type": "surface"
           }
          ],
          "table": [
           {
            "cells": {
             "fill": {
              "color": "#EBF0F8"
             },
             "line": {
              "color": "white"
             }
            },
            "header": {
             "fill": {
              "color": "#C8D4E3"
             },
             "line": {
              "color": "white"
             }
            },
            "type": "table"
           }
          ]
         },
         "layout": {
          "annotationdefaults": {
           "arrowcolor": "#2a3f5f",
           "arrowhead": 0,
           "arrowwidth": 1
          },
          "autotypenumbers": "strict",
          "coloraxis": {
           "colorbar": {
            "outlinewidth": 0,
            "ticks": ""
           }
          },
          "colorscale": {
           "diverging": [
            [
             0,
             "#8e0152"
            ],
            [
             0.1,
             "#c51b7d"
            ],
            [
             0.2,
             "#de77ae"
            ],
            [
             0.3,
             "#f1b6da"
            ],
            [
             0.4,
             "#fde0ef"
            ],
            [
             0.5,
             "#f7f7f7"
            ],
            [
             0.6,
             "#e6f5d0"
            ],
            [
             0.7,
             "#b8e186"
            ],
            [
             0.8,
             "#7fbc41"
            ],
            [
             0.9,
             "#4d9221"
            ],
            [
             1,
             "#276419"
            ]
           ],
           "sequential": [
            [
             0,
             "#0d0887"
            ],
            [
             0.1111111111111111,
             "#46039f"
            ],
            [
             0.2222222222222222,
             "#7201a8"
            ],
            [
             0.3333333333333333,
             "#9c179e"
            ],
            [
             0.4444444444444444,
             "#bd3786"
            ],
            [
             0.5555555555555556,
             "#d8576b"
            ],
            [
             0.6666666666666666,
             "#ed7953"
            ],
            [
             0.7777777777777778,
             "#fb9f3a"
            ],
            [
             0.8888888888888888,
             "#fdca26"
            ],
            [
             1,
             "#f0f921"
            ]
           ],
           "sequentialminus": [
            [
             0,
             "#0d0887"
            ],
            [
             0.1111111111111111,
             "#46039f"
            ],
            [
             0.2222222222222222,
             "#7201a8"
            ],
            [
             0.3333333333333333,
             "#9c179e"
            ],
            [
             0.4444444444444444,
             "#bd3786"
            ],
            [
             0.5555555555555556,
             "#d8576b"
            ],
            [
             0.6666666666666666,
             "#ed7953"
            ],
            [
             0.7777777777777778,
             "#fb9f3a"
            ],
            [
             0.8888888888888888,
             "#fdca26"
            ],
            [
             1,
             "#f0f921"
            ]
           ]
          },
          "colorway": [
           "#636efa",
           "#EF553B",
           "#00cc96",
           "#ab63fa",
           "#FFA15A",
           "#19d3f3",
           "#FF6692",
           "#B6E880",
           "#FF97FF",
           "#FECB52"
          ],
          "font": {
           "color": "#2a3f5f"
          },
          "geo": {
           "bgcolor": "white",
           "lakecolor": "white",
           "landcolor": "#E5ECF6",
           "showlakes": true,
           "showland": true,
           "subunitcolor": "white"
          },
          "hoverlabel": {
           "align": "left"
          },
          "hovermode": "closest",
          "mapbox": {
           "style": "light"
          },
          "paper_bgcolor": "white",
          "plot_bgcolor": "#E5ECF6",
          "polar": {
           "angularaxis": {
            "gridcolor": "white",
            "linecolor": "white",
            "ticks": ""
           },
           "bgcolor": "#E5ECF6",
           "radialaxis": {
            "gridcolor": "white",
            "linecolor": "white",
            "ticks": ""
           }
          },
          "scene": {
           "xaxis": {
            "backgroundcolor": "#E5ECF6",
            "gridcolor": "white",
            "gridwidth": 2,
            "linecolor": "white",
            "showbackground": true,
            "ticks": "",
            "zerolinecolor": "white"
           },
           "yaxis": {
            "backgroundcolor": "#E5ECF6",
            "gridcolor": "white",
            "gridwidth": 2,
            "linecolor": "white",
            "showbackground": true,
            "ticks": "",
            "zerolinecolor": "white"
           },
           "zaxis": {
            "backgroundcolor": "#E5ECF6",
            "gridcolor": "white",
            "gridwidth": 2,
            "linecolor": "white",
            "showbackground": true,
            "ticks": "",
            "zerolinecolor": "white"
           }
          },
          "shapedefaults": {
           "line": {
            "color": "#2a3f5f"
           }
          },
          "ternary": {
           "aaxis": {
            "gridcolor": "white",
            "linecolor": "white",
            "ticks": ""
           },
           "baxis": {
            "gridcolor": "white",
            "linecolor": "white",
            "ticks": ""
           },
           "bgcolor": "#E5ECF6",
           "caxis": {
            "gridcolor": "white",
            "linecolor": "white",
            "ticks": ""
           }
          },
          "title": {
           "x": 0.05
          },
          "xaxis": {
           "automargin": true,
           "gridcolor": "white",
           "linecolor": "white",
           "ticks": "",
           "title": {
            "standoff": 15
           },
           "zerolinecolor": "white",
           "zerolinewidth": 2
          },
          "yaxis": {
           "automargin": true,
           "gridcolor": "white",
           "linecolor": "white",
           "ticks": "",
           "title": {
            "standoff": 15
           },
           "zerolinecolor": "white",
           "zerolinewidth": 2
          }
         }
        },
        "title": {
         "text": "🏆 Top 10 Productos por Ingresos"
        },
        "xaxis": {
         "anchor": "y",
         "domain": [
          0,
          1
         ],
         "title": {
          "text": "Ingresos ($)"
         }
        },
        "yaxis": {
         "anchor": "x",
         "categoryorder": "total ascending",
         "domain": [
          0,
          1
         ],
         "title": {
          "text": "Producto"
         }
        }
       }
      }
     },
     "metadata": {},
     "output_type": "display_data"
    },
    {
     "data": {
      "application/vnd.plotly.v1+json": {
       "config": {
        "plotlyServerURL": "https://plot.ly"
       },
       "data": [
        {
         "hovertemplate": "Cantidad Vendida=%{marker.color}<br>Producto=%{y}<extra></extra>",
         "legendgroup": "",
         "marker": {
          "color": {
           "bdata": "AAAAAJAW+EAAAAAAwAftQAAAAACAsMtAAAAAAIB1ykAAAAAAAMXCQAAAAAAATsBAAAAAAAAxuEAAAAAAAJ6yQAAAAAAAPa5AAAAAAAB+qkA=",
           "dtype": "f8"
          },
          "coloraxis": "coloraxis",
          "pattern": {
           "shape": ""
          }
         },
         "name": "",
         "orientation": "h",
         "showlegend": false,
         "textposition": "auto",
         "type": "bar",
         "x": {
          "bdata": "AAAAAJAW+EAAAAAAwAftQAAAAACAsMtAAAAAAIB1ykAAAAAAAMXCQAAAAAAATsBAAAAAAAAxuEAAAAAAAJ6yQAAAAAAAPa5AAAAAAAB+qkA=",
          "dtype": "f8"
         },
         "xaxis": "x",
         "y": [
          "04 HIELO:Bolsa 5.5 Lbs",
          "03 BOTELLONES:Botellon Liquido",
          "01 AGUA EN BOLSA:PaqAgua 1/2",
          "ISV-15%",
          "01 AGUA EN BOLSA:PagAgua 1/4",
          "02 BOTECITOS PAQUETES:BOTE 1 L PAQ",
          "04 HIELO:BaldeCubo",
          "04 HIELO:SacoEsc50LB",
          "04 HIELO:BaldeEsc",
          "04 HIELO:SacoCubo50LB"
         ],
         "yaxis": "y"
        }
       ],
       "layout": {
        "barmode": "relative",
        "coloraxis": {
         "colorbar": {
          "title": {
           "text": "Cantidad Vendida"
          }
         },
         "colorscale": [
          [
           0,
           "#0d0887"
          ],
          [
           0.1111111111111111,
           "#46039f"
          ],
          [
           0.2222222222222222,
           "#7201a8"
          ],
          [
           0.3333333333333333,
           "#9c179e"
          ],
          [
           0.4444444444444444,
           "#bd3786"
          ],
          [
           0.5555555555555556,
           "#d8576b"
          ],
          [
           0.6666666666666666,
           "#ed7953"
          ],
          [
           0.7777777777777778,
           "#fb9f3a"
          ],
          [
           0.8888888888888888,
           "#fdca26"
          ],
          [
           1,
           "#f0f921"
          ]
         ]
        },
        "height": 500,
        "legend": {
         "tracegroupgap": 0
        },
        "template": {
         "data": {
          "bar": [
           {
            "error_x": {
             "color": "#2a3f5f"
            },
            "error_y": {
             "color": "#2a3f5f"
            },
            "marker": {
             "line": {
              "color": "#E5ECF6",
              "width": 0.5
             },
             "pattern": {
              "fillmode": "overlay",
              "size": 10,
              "solidity": 0.2
             }
            },
            "type": "bar"
           }
          ],
          "barpolar": [
           {
            "marker": {
             "line": {
              "color": "#E5ECF6",
              "width": 0.5
             },
             "pattern": {
              "fillmode": "overlay",
              "size": 10,
              "solidity": 0.2
             }
            },
            "type": "barpolar"
           }
          ],
          "carpet": [
           {
            "aaxis": {
             "endlinecolor": "#2a3f5f",
             "gridcolor": "white",
             "linecolor": "white",
             "minorgridcolor": "white",
             "startlinecolor": "#2a3f5f"
            },
            "baxis": {
             "endlinecolor": "#2a3f5f",
             "gridcolor": "white",
             "linecolor": "white",
             "minorgridcolor": "white",
             "startlinecolor": "#2a3f5f"
            },
            "type": "carpet"
           }
          ],
          "choropleth": [
           {
            "colorbar": {
             "outlinewidth": 0,
             "ticks": ""
            },
            "type": "choropleth"
           }
          ],
          "contour": [
           {
            "colorbar": {
             "outlinewidth": 0,
             "ticks": ""
            },
            "colorscale": [
             [
              0,
              "#0d0887"
             ],
             [
              0.1111111111111111,
              "#46039f"
             ],
             [
              0.2222222222222222,
              "#7201a8"
             ],
             [
              0.3333333333333333,
              "#9c179e"
             ],
             [
              0.4444444444444444,
              "#bd3786"
             ],
             [
              0.5555555555555556,
              "#d8576b"
             ],
             [
              0.6666666666666666,
              "#ed7953"
             ],
             [
              0.7777777777777778,
              "#fb9f3a"
             ],
             [
              0.8888888888888888,
              "#fdca26"
             ],
             [
              1,
              "#f0f921"
             ]
            ],
            "type": "contour"
           }
          ],
          "contourcarpet": [
           {
            "colorbar": {
             "outlinewidth": 0,
             "ticks": ""
            },
            "type": "contourcarpet"
           }
          ],
          "heatmap": [
           {
            "colorbar": {
             "outlinewidth": 0,
             "ticks": ""
            },
            "colorscale": [
             [
              0,
              "#0d0887"
             ],
             [
              0.1111111111111111,
              "#46039f"
             ],
             [
              0.2222222222222222,
              "#7201a8"
             ],
             [
              0.3333333333333333,
              "#9c179e"
             ],
             [
              0.4444444444444444,
              "#bd3786"
             ],
             [
              0.5555555555555556,
              "#d8576b"
             ],
             [
              0.6666666666666666,
              "#ed7953"
             ],
             [
              0.7777777777777778,
              "#fb9f3a"
             ],
             [
              0.8888888888888888,
              "#fdca26"
             ],
             [
              1,
              "#f0f921"
             ]
            ],
            "type": "heatmap"
           }
          ],
          "histogram": [
           {
            "marker": {
             "pattern": {
              "fillmode": "overlay",
              "size": 10,
              "solidity": 0.2
             }
            },
            "type": "histogram"
           }
          ],
          "histogram2d": [
           {
            "colorbar": {
             "outlinewidth": 0,
             "ticks": ""
            },
            "colorscale": [
             [
              0,
              "#0d0887"
             ],
             [
              0.1111111111111111,
              "#46039f"
             ],
             [
              0.2222222222222222,
              "#7201a8"
             ],
             [
              0.3333333333333333,
              "#9c179e"
             ],
             [
              0.4444444444444444,
              "#bd3786"
             ],
             [
              0.5555555555555556,
              "#d8576b"
             ],
             [
              0.6666666666666666,
              "#ed7953"
             ],
             [
              0.7777777777777778,
              "#fb9f3a"
             ],
             [
              0.8888888888888888,
              "#fdca26"
             ],
             [
              1,
              "#f0f921"
             ]
            ],
            "type": "histogram2d"
           }
          ],
          "histogram2dcontour": [
           {
            "colorbar": {
             "outlinewidth": 0,
             "ticks": ""
            },
            "colorscale": [
             [
              0,
              "#0d0887"
             ],
             [
              0.1111111111111111,
              "#46039f"
             ],
             [
              0.2222222222222222,
              "#7201a8"
             ],
             [
              0.3333333333333333,
              "#9c179e"
             ],
             [
              0.4444444444444444,
              "#bd3786"
             ],
             [
              0.5555555555555556,
              "#d8576b"
             ],
             [
              0.6666666666666666,
              "#ed7953"
             ],
             [
              0.7777777777777778,
              "#fb9f3a"
             ],
             [
              0.8888888888888888,
              "#fdca26"
             ],
             [
              1,
              "#f0f921"
             ]
            ],
            "type": "histogram2dcontour"
           }
          ],
          "mesh3d": [
           {
            "colorbar": {
             "outlinewidth": 0,
             "ticks": ""
            },
            "type": "mesh3d"
           }
          ],
          "parcoords": [
           {
            "line": {
             "colorbar": {
              "outlinewidth": 0,
              "ticks": ""
             }
            },
            "type": "parcoords"
           }
          ],
          "pie": [
           {
            "automargin": true,
            "type": "pie"
           }
          ],
          "scatter": [
           {
            "fillpattern": {
             "fillmode": "overlay",
             "size": 10,
             "solidity": 0.2
            },
            "type": "scatter"
           }
          ],
          "scatter3d": [
           {
            "line": {
             "colorbar": {
              "outlinewidth": 0,
              "ticks": ""
             }
            },
            "marker": {
             "colorbar": {
              "outlinewidth": 0,
              "ticks": ""
             }
            },
            "type": "scatter3d"
           }
          ],
          "scattercarpet": [
           {
            "marker": {
             "colorbar": {
              "outlinewidth": 0,
              "ticks": ""
             }
            },
            "type": "scattercarpet"
           }
          ],
          "scattergeo": [
           {
            "marker": {
             "colorbar": {
              "outlinewidth": 0,
              "ticks": ""
             }
            },
            "type": "scattergeo"
           }
          ],
          "scattergl": [
           {
            "marker": {
             "colorbar": {
              "outlinewidth": 0,
              "ticks": ""
             }
            },
            "type": "scattergl"
           }
          ],
          "scattermap": [
           {
            "marker": {
             "colorbar": {
              "outlinewidth": 0,
              "ticks": ""
             }
            },
            "type": "scattermap"
           }
          ],
          "scattermapbox": [
           {
            "marker": {
             "colorbar": {
              "outlinewidth": 0,
              "ticks": ""
             }
            },
            "type": "scattermapbox"
           }
          ],
          "scatterpolar": [
           {
            "marker": {
             "colorbar": {
              "outlinewidth": 0,
              "ticks": ""
             }
            },
            "type": "scatterpolar"
           }
          ],
          "scatterpolargl": [
           {
            "marker": {
             "colorbar": {
              "outlinewidth": 0,
              "ticks": ""
             }
            },
            "type": "scatterpolargl"
           }
          ],
          "scatterternary": [
           {
            "marker": {
             "colorbar": {
              "outlinewidth": 0,
              "ticks": ""
             }
            },
            "type": "scatterternary"
           }
          ],
          "surface": [
           {
            "colorbar": {
             "outlinewidth": 0,
             "ticks": ""
            },
            "colorscale": [
             [
              0,
              "#0d0887"
             ],
             [
              0.1111111111111111,
              "#46039f"
             ],
             [
              0.2222222222222222,
              "#7201a8"
             ],
             [
              0.3333333333333333,
              "#9c179e"
             ],
             [
              0.4444444444444444,
              "#bd3786"
             ],
             [
              0.5555555555555556,
              "#d8576b"
             ],
             [
              0.6666666666666666,
              "#ed7953"
             ],
             [
              0.7777777777777778,
              "#fb9f3a"
             ],
             [
              0.8888888888888888,
              "#fdca26"
             ],
             [
              1,
              "#f0f921"
             ]
            ],
            "type": "surface"
           }
          ],
          "table": [
           {
            "cells": {
             "fill": {
              "color": "#EBF0F8"
             },
             "line": {
              "color": "white"
             }
            },
            "header": {
             "fill": {
              "color": "#C8D4E3"
             },
             "line": {
              "color": "white"
             }
            },
            "type": "table"
           }
          ]
         },
         "layout": {
          "annotationdefaults": {
           "arrowcolor": "#2a3f5f",
           "arrowhead": 0,
           "arrowwidth": 1
          },
          "autotypenumbers": "strict",
          "coloraxis": {
           "colorbar": {
            "outlinewidth": 0,
            "ticks": ""
           }
          },
          "colorscale": {
           "diverging": [
            [
             0,
             "#8e0152"
            ],
            [
             0.1,
             "#c51b7d"
            ],
            [
             0.2,
             "#de77ae"
            ],
            [
             0.3,
             "#f1b6da"
            ],
            [
             0.4,
             "#fde0ef"
            ],
            [
             0.5,
             "#f7f7f7"
            ],
            [
             0.6,
             "#e6f5d0"
            ],
            [
             0.7,
             "#b8e186"
            ],
            [
             0.8,
             "#7fbc41"
            ],
            [
             0.9,
             "#4d9221"
            ],
            [
             1,
             "#276419"
            ]
           ],
           "sequential": [
            [
             0,
             "#0d0887"
            ],
            [
             0.1111111111111111,
             "#46039f"
            ],
            [
             0.2222222222222222,
             "#7201a8"
            ],
            [
             0.3333333333333333,
             "#9c179e"
            ],
            [
             0.4444444444444444,
             "#bd3786"
            ],
            [
             0.5555555555555556,
             "#d8576b"
            ],
            [
             0.6666666666666666,
             "#ed7953"
            ],
            [
             0.7777777777777778,
             "#fb9f3a"
            ],
            [
             0.8888888888888888,
             "#fdca26"
            ],
            [
             1,
             "#f0f921"
            ]
           ],
           "sequentialminus": [
            [
             0,
             "#0d0887"
            ],
            [
             0.1111111111111111,
             "#46039f"
            ],
            [
             0.2222222222222222,
             "#7201a8"
            ],
            [
             0.3333333333333333,
             "#9c179e"
            ],
            [
             0.4444444444444444,
             "#bd3786"
            ],
            [
             0.5555555555555556,
             "#d8576b"
            ],
            [
             0.6666666666666666,
             "#ed7953"
            ],
            [
             0.7777777777777778,
             "#fb9f3a"
            ],
            [
             0.8888888888888888,
             "#fdca26"
            ],
            [
             1,
             "#f0f921"
            ]
           ]
          },
          "colorway": [
           "#636efa",
           "#EF553B",
           "#00cc96",
           "#ab63fa",
           "#FFA15A",
           "#19d3f3",
           "#FF6692",
           "#B6E880",
           "#FF97FF",
           "#FECB52"
          ],
          "font": {
           "color": "#2a3f5f"
          },
          "geo": {
           "bgcolor": "white",
           "lakecolor": "white",
           "landcolor": "#E5ECF6",
           "showlakes": true,
           "showland": true,
           "subunitcolor": "white"
          },
          "hoverlabel": {
           "align": "left"
          },
          "hovermode": "closest",
          "mapbox": {
           "style": "light"
          },
          "paper_bgcolor": "white",
          "plot_bgcolor": "#E5ECF6",
          "polar": {
           "angularaxis": {
            "gridcolor": "white",
            "linecolor": "white",
            "ticks": ""
           },
           "bgcolor": "#E5ECF6",
           "radialaxis": {
            "gridcolor": "white",
            "linecolor": "white",
            "ticks": ""
           }
          },
          "scene": {
           "xaxis": {
            "backgroundcolor": "#E5ECF6",
            "gridcolor": "white",
            "gridwidth": 2,
            "linecolor": "white",
            "showbackground": true,
            "ticks": "",
            "zerolinecolor": "white"
           },
           "yaxis": {
            "backgroundcolor": "#E5ECF6",
            "gridcolor": "white",
            "gridwidth": 2,
            "linecolor": "white",
            "showbackground": true,
            "ticks": "",
            "zerolinecolor": "white"
           },
           "zaxis": {
            "backgroundcolor": "#E5ECF6",
            "gridcolor": "white",
            "gridwidth": 2,
            "linecolor": "white",
            "showbackground": true,
            "ticks": "",
            "zerolinecolor": "white"
           }
          },
          "shapedefaults": {
           "line": {
            "color": "#2a3f5f"
           }
          },
          "ternary": {
           "aaxis": {
            "gridcolor": "white",
            "linecolor": "white",
            "ticks": ""
           },
           "baxis": {
            "gridcolor": "white",
            "linecolor": "white",
            "ticks": ""
           },
           "bgcolor": "#E5ECF6",
           "caxis": {
            "gridcolor": "white",
            "linecolor": "white",
            "ticks": ""
           }
          },
          "title": {
           "x": 0.05
          },
          "xaxis": {
           "automargin": true,
           "gridcolor": "white",
           "linecolor": "white",
           "ticks": "",
           "title": {
            "standoff": 15
           },
           "zerolinecolor": "white",
           "zerolinewidth": 2
          },
          "yaxis": {
           "automargin": true,
           "gridcolor": "white",
           "linecolor": "white",
           "ticks": "",
           "title": {
            "standoff": 15
           },
           "zerolinecolor": "white",
           "zerolinewidth": 2
          }
         }
        },
        "title": {
         "text": "📦 Top 10 Productos por Cantidad Vendida"
        },
        "xaxis": {
         "anchor": "y",
         "domain": [
          0,
          1
         ],
         "title": {
          "text": "Cantidad Vendida"
         }
        },
        "yaxis": {
         "anchor": "x",
         "categoryorder": "total ascending",
         "domain": [
          0,
          1
         ],
         "title": {
          "text": "Producto"
         }
        }
       }
      }
     },
     "metadata": {},
     "output_type": "display_data"
    },
    {
     "name": "stdout",
     "output_type": "stream",
     "text": [
      "\n",
      "🏷️ ANÁLISIS POR CATEGORÍAS DE PRODUCTOS:\n"
     ]
    },
    {
     "data": {
      "application/vnd.plotly.v1+json": {
       "config": {
        "plotlyServerURL": "https://plot.ly"
       },
       "data": [
        {
         "domain": {
          "x": [
           0,
           1
          ],
          "y": [
           0,
           1
          ]
         },
         "hovertemplate": "Categoria=%{label}<br>Amount=%{value}<extra></extra>",
         "labels": [
          "Agua en Bolsa",
          "Botecitos",
          "Botellones",
          "Hielo",
          "Impuestos",
          "Otros"
         ],
         "legendgroup": "",
         "name": "",
         "showlegend": true,
         "type": "pie",
         "values": {
          "bdata": "mpmZGWmZNEFcj8J1erwuQQAAAADlXzRBpHA9ajjuREHNzMxMCREmQYXrUbjeIc1A",
          "dtype": "f8"
         }
        }
       ],
       "layout": {
        "legend": {
         "tracegroupgap": 0
        },
        "piecolorway": [
         "rgb(141,211,199)",
         "rgb(255,255,179)",
         "rgb(190,186,218)",
         "rgb(251,128,114)",
         "rgb(128,177,211)",
         "rgb(253,180,98)",
         "rgb(179,222,105)",
         "rgb(252,205,229)",
         "rgb(217,217,217)",
         "rgb(188,128,189)",
         "rgb(204,235,197)",
         "rgb(255,237,111)"
        ],
        "template": {
         "data": {
          "bar": [
           {
            "error_x": {
             "color": "#2a3f5f"
            },
            "error_y": {
             "color": "#2a3f5f"
            },
            "marker": {
             "line": {
              "color": "#E5ECF6",
              "width": 0.5
             },
             "pattern": {
              "fillmode": "overlay",
              "size": 10,
              "solidity": 0.2
             }
            },
            "type": "bar"
           }
          ],
          "barpolar": [
           {
            "marker": {
             "line": {
              "color": "#E5ECF6",
              "width": 0.5
             },
             "pattern": {
              "fillmode": "overlay",
              "size": 10,
              "solidity": 0.2
             }
            },
            "type": "barpolar"
           }
          ],
          "carpet": [
           {
            "aaxis": {
             "endlinecolor": "#2a3f5f",
             "gridcolor": "white",
             "linecolor": "white",
             "minorgridcolor": "white",
             "startlinecolor": "#2a3f5f"
            },
            "baxis": {
             "endlinecolor": "#2a3f5f",
             "gridcolor": "white",
             "linecolor": "white",
             "minorgridcolor": "white",
             "startlinecolor": "#2a3f5f"
            },
            "type": "carpet"
           }
          ],
          "choropleth": [
           {
            "colorbar": {
             "outlinewidth": 0,
             "ticks": ""
            },
            "type": "choropleth"
           }
          ],
          "contour": [
           {
            "colorbar": {
             "outlinewidth": 0,
             "ticks": ""
            },
            "colorscale": [
             [
              0,
              "#0d0887"
             ],
             [
              0.1111111111111111,
              "#46039f"
             ],
             [
              0.2222222222222222,
              "#7201a8"
             ],
             [
              0.3333333333333333,
              "#9c179e"
             ],
             [
              0.4444444444444444,
              "#bd3786"
             ],
             [
              0.5555555555555556,
              "#d8576b"
             ],
             [
              0.6666666666666666,
              "#ed7953"
             ],
             [
              0.7777777777777778,
              "#fb9f3a"
             ],
             [
              0.8888888888888888,
              "#fdca26"
             ],
             [
              1,
              "#f0f921"
             ]
            ],
            "type": "contour"
           }
          ],
          "contourcarpet": [
           {
            "colorbar": {
             "outlinewidth": 0,
             "ticks": ""
            },
            "type": "contourcarpet"
           }
          ],
          "heatmap": [
           {
            "colorbar": {
             "outlinewidth": 0,
             "ticks": ""
            },
            "colorscale": [
             [
              0,
              "#0d0887"
             ],
             [
              0.1111111111111111,
              "#46039f"
             ],
             [
              0.2222222222222222,
              "#7201a8"
             ],
             [
              0.3333333333333333,
              "#9c179e"
             ],
             [
              0.4444444444444444,
              "#bd3786"
             ],
             [
              0.5555555555555556,
              "#d8576b"
             ],
             [
              0.6666666666666666,
              "#ed7953"
             ],
             [
              0.7777777777777778,
              "#fb9f3a"
             ],
             [
              0.8888888888888888,
              "#fdca26"
             ],
             [
              1,
              "#f0f921"
             ]
            ],
            "type": "heatmap"
           }
          ],
          "histogram": [
           {
            "marker": {
             "pattern": {
              "fillmode": "overlay",
              "size": 10,
              "solidity": 0.2
             }
            },
            "type": "histogram"
           }
          ],
          "histogram2d": [
           {
            "colorbar": {
             "outlinewidth": 0,
             "ticks": ""
            },
            "colorscale": [
             [
              0,
              "#0d0887"
             ],
             [
              0.1111111111111111,
              "#46039f"
             ],
             [
              0.2222222222222222,
              "#7201a8"
             ],
             [
              0.3333333333333333,
              "#9c179e"
             ],
             [
              0.4444444444444444,
              "#bd3786"
             ],
             [
              0.5555555555555556,
              "#d8576b"
             ],
             [
              0.6666666666666666,
              "#ed7953"
             ],
             [
              0.7777777777777778,
              "#fb9f3a"
             ],
             [
              0.8888888888888888,
              "#fdca26"
             ],
             [
              1,
              "#f0f921"
             ]
            ],
            "type": "histogram2d"
           }
          ],
          "histogram2dcontour": [
           {
            "colorbar": {
             "outlinewidth": 0,
             "ticks": ""
            },
            "colorscale": [
             [
              0,
              "#0d0887"
             ],
             [
              0.1111111111111111,
              "#46039f"
             ],
             [
              0.2222222222222222,
              "#7201a8"
             ],
             [
              0.3333333333333333,
              "#9c179e"
             ],
             [
              0.4444444444444444,
              "#bd3786"
             ],
             [
              0.5555555555555556,
              "#d8576b"
             ],
             [
              0.6666666666666666,
              "#ed7953"
             ],
             [
              0.7777777777777778,
              "#fb9f3a"
             ],
             [
              0.8888888888888888,
              "#fdca26"
             ],
             [
              1,
              "#f0f921"
             ]
            ],
            "type": "histogram2dcontour"
           }
          ],
          "mesh3d": [
           {
            "colorbar": {
             "outlinewidth": 0,
             "ticks": ""
            },
            "type": "mesh3d"
           }
          ],
          "parcoords": [
           {
            "line": {
             "colorbar": {
              "outlinewidth": 0,
              "ticks": ""
             }
            },
            "type": "parcoords"
           }
          ],
          "pie": [
           {
            "automargin": true,
            "type": "pie"
           }
          ],
          "scatter": [
           {
            "fillpattern": {
             "fillmode": "overlay",
             "size": 10,
             "solidity": 0.2
            },
            "type": "scatter"
           }
          ],
          "scatter3d": [
           {
            "line": {
             "colorbar": {
              "outlinewidth": 0,
              "ticks": ""
             }
            },
            "marker": {
             "colorbar": {
              "outlinewidth": 0,
              "ticks": ""
             }
            },
            "type": "scatter3d"
           }
          ],
          "scattercarpet": [
           {
            "marker": {
             "colorbar": {
              "outlinewidth": 0,
              "ticks": ""
             }
            },
            "type": "scattercarpet"
           }
          ],
          "scattergeo": [
           {
            "marker": {
             "colorbar": {
              "outlinewidth": 0,
              "ticks": ""
             }
            },
            "type": "scattergeo"
           }
          ],
          "scattergl": [
           {
            "marker": {
             "colorbar": {
              "outlinewidth": 0,
              "ticks": ""
             }
            },
            "type": "scattergl"
           }
          ],
          "scattermap": [
           {
            "marker": {
             "colorbar": {
              "outlinewidth": 0,
              "ticks": ""
             }
            },
            "type": "scattermap"
           }
          ],
          "scattermapbox": [
           {
            "marker": {
             "colorbar": {
              "outlinewidth": 0,
              "ticks": ""
             }
            },
            "type": "scattermapbox"
           }
          ],
          "scatterpolar": [
           {
            "marker": {
             "colorbar": {
              "outlinewidth": 0,
              "ticks": ""
             }
            },
            "type": "scatterpolar"
           }
          ],
          "scatterpolargl": [
           {
            "marker": {
             "colorbar": {
              "outlinewidth": 0,
              "ticks": ""
             }
            },
            "type": "scatterpolargl"
           }
          ],
          "scatterternary": [
           {
            "marker": {
             "colorbar": {
              "outlinewidth": 0,
              "ticks": ""
             }
            },
            "type": "scatterternary"
           }
          ],
          "surface": [
           {
            "colorbar": {
             "outlinewidth": 0,
             "ticks": ""
            },
            "colorscale": [
             [
              0,
              "#0d0887"
             ],
             [
              0.1111111111111111,
              "#46039f"
             ],
             [
              0.2222222222222222,
              "#7201a8"
             ],
             [
              0.3333333333333333,
              "#9c179e"
             ],
             [
              0.4444444444444444,
              "#bd3786"
             ],
             [
              0.5555555555555556,
              "#d8576b"
             ],
             [
              0.6666666666666666,
              "#ed7953"
             ],
             [
              0.7777777777777778,
              "#fb9f3a"
             ],
             [
              0.8888888888888888,
              "#fdca26"
             ],
             [
              1,
              "#f0f921"
             ]
            ],
            "type": "surface"
           }
          ],
          "table": [
           {
            "cells": {
             "fill": {
              "color": "#EBF0F8"
             },
             "line": {
              "color": "white"
             }
            },
            "header": {
             "fill": {
              "color": "#C8D4E3"
             },
             "line": {
              "color": "white"
             }
            },
            "type": "table"
           }
          ]
         },
         "layout": {
          "annotationdefaults": {
           "arrowcolor": "#2a3f5f",
           "arrowhead": 0,
           "arrowwidth": 1
          },
          "autotypenumbers": "strict",
          "coloraxis": {
           "colorbar": {
            "outlinewidth": 0,
            "ticks": ""
           }
          },
          "colorscale": {
           "diverging": [
            [
             0,
             "#8e0152"
            ],
            [
             0.1,
             "#c51b7d"
            ],
            [
             0.2,
             "#de77ae"
            ],
            [
             0.3,
             "#f1b6da"
            ],
            [
             0.4,
             "#fde0ef"
            ],
            [
             0.5,
             "#f7f7f7"
            ],
            [
             0.6,
             "#e6f5d0"
            ],
            [
             0.7,
             "#b8e186"
            ],
            [
             0.8,
             "#7fbc41"
            ],
            [
             0.9,
             "#4d9221"
            ],
            [
             1,
             "#276419"
            ]
           ],
           "sequential": [
            [
             0,
             "#0d0887"
            ],
            [
             0.1111111111111111,
             "#46039f"
            ],
            [
             0.2222222222222222,
             "#7201a8"
            ],
            [
             0.3333333333333333,
             "#9c179e"
            ],
            [
             0.4444444444444444,
             "#bd3786"
            ],
            [
             0.5555555555555556,
             "#d8576b"
            ],
            [
             0.6666666666666666,
             "#ed7953"
            ],
            [
             0.7777777777777778,
             "#fb9f3a"
            ],
            [
             0.8888888888888888,
             "#fdca26"
            ],
            [
             1,
             "#f0f921"
            ]
           ],
           "sequentialminus": [
            [
             0,
             "#0d0887"
            ],
            [
             0.1111111111111111,
             "#46039f"
            ],
            [
             0.2222222222222222,
             "#7201a8"
            ],
            [
             0.3333333333333333,
             "#9c179e"
            ],
            [
             0.4444444444444444,
             "#bd3786"
            ],
            [
             0.5555555555555556,
             "#d8576b"
            ],
            [
             0.6666666666666666,
             "#ed7953"
            ],
            [
             0.7777777777777778,
             "#fb9f3a"
            ],
            [
             0.8888888888888888,
             "#fdca26"
            ],
            [
             1,
             "#f0f921"
            ]
           ]
          },
          "colorway": [
           "#636efa",
           "#EF553B",
           "#00cc96",
           "#ab63fa",
           "#FFA15A",
           "#19d3f3",
           "#FF6692",
           "#B6E880",
           "#FF97FF",
           "#FECB52"
          ],
          "font": {
           "color": "#2a3f5f"
          },
          "geo": {
           "bgcolor": "white",
           "lakecolor": "white",
           "landcolor": "#E5ECF6",
           "showlakes": true,
           "showland": true,
           "subunitcolor": "white"
          },
          "hoverlabel": {
           "align": "left"
          },
          "hovermode": "closest",
          "mapbox": {
           "style": "light"
          },
          "paper_bgcolor": "white",
          "plot_bgcolor": "#E5ECF6",
          "polar": {
           "angularaxis": {
            "gridcolor": "white",
            "linecolor": "white",
            "ticks": ""
           },
           "bgcolor": "#E5ECF6",
           "radialaxis": {
            "gridcolor": "white",
            "linecolor": "white",
            "ticks": ""
           }
          },
          "scene": {
           "xaxis": {
            "backgroundcolor": "#E5ECF6",
            "gridcolor": "white",
            "gridwidth": 2,
            "linecolor": "white",
            "showbackground": true,
            "ticks": "",
            "zerolinecolor": "white"
           },
           "yaxis": {
            "backgroundcolor": "#E5ECF6",
            "gridcolor": "white",
            "gridwidth": 2,
            "linecolor": "white",
            "showbackground": true,
            "ticks": "",
            "zerolinecolor": "white"
           },
           "zaxis": {
            "backgroundcolor": "#E5ECF6",
            "gridcolor": "white",
            "gridwidth": 2,
            "linecolor": "white",
            "showbackground": true,
            "ticks": "",
            "zerolinecolor": "white"
           }
          },
          "shapedefaults": {
           "line": {
            "color": "#2a3f5f"
           }
          },
          "ternary": {
           "aaxis": {
            "gridcolor": "white",
            "linecolor": "white",
            "ticks": ""
           },
           "baxis": {
            "gridcolor": "white",
            "linecolor": "white",
            "ticks": ""
           },
           "bgcolor": "#E5ECF6",
           "caxis": {
            "gridcolor": "white",
            "linecolor": "white",
            "ticks": ""
           }
          },
          "title": {
           "x": 0.05
          },
          "xaxis": {
           "automargin": true,
           "gridcolor": "white",
           "linecolor": "white",
           "ticks": "",
           "title": {
            "standoff": 15
           },
           "zerolinecolor": "white",
           "zerolinewidth": 2
          },
          "yaxis": {
           "automargin": true,
           "gridcolor": "white",
           "linecolor": "white",
           "ticks": "",
           "title": {
            "standoff": 15
           },
           "zerolinecolor": "white",
           "zerolinewidth": 2
          }
         }
        },
        "title": {
         "text": "🥧 Distribución de Ventas por Categoría de Producto"
        }
       }
      }
     },
     "metadata": {},
     "output_type": "display_data"
    },
    {
     "data": {
      "application/vnd.plotly.v1+json": {
       "config": {
        "plotlyServerURL": "https://plot.ly"
       },
       "data": [
        {
         "hovertemplate": "Categoría=%{x}<br>Ingresos ($)=%{marker.color}<extra></extra>",
         "legendgroup": "",
         "marker": {
          "color": {
           "bdata": "mpmZGWmZNEFcj8J1erwuQQAAAADlXzRBpHA9ajjuREHNzMxMCREmQYXrUbjeIc1A",
           "dtype": "f8"
          },
          "coloraxis": "coloraxis",
          "pattern": {
           "shape": ""
          }
         },
         "name": "",
         "orientation": "v",
         "showlegend": false,
         "textposition": "auto",
         "type": "bar",
         "x": [
          "Agua en Bolsa",
          "Botecitos",
          "Botellones",
          "Hielo",
          "Impuestos",
          "Otros"
         ],
         "xaxis": "x",
         "y": {
          "bdata": "mpmZGWmZNEFcj8J1erwuQQAAAADlXzRBpHA9ajjuREHNzMxMCREmQYXrUbjeIc1A",
          "dtype": "f8"
         },
         "yaxis": "y"
        }
       ],
       "layout": {
        "barmode": "relative",
        "coloraxis": {
         "colorbar": {
          "title": {
           "text": "Ingresos ($)"
          }
         },
         "colorscale": [
          [
           0,
           "#440154"
          ],
          [
           0.1111111111111111,
           "#482878"
          ],
          [
           0.2222222222222222,
           "#3e4989"
          ],
          [
           0.3333333333333333,
           "#31688e"
          ],
          [
           0.4444444444444444,
           "#26828e"
          ],
          [
           0.5555555555555556,
           "#1f9e89"
          ],
          [
           0.6666666666666666,
           "#35b779"
          ],
          [
           0.7777777777777778,
           "#6ece58"
          ],
          [
           0.8888888888888888,
           "#b5de2b"
          ],
          [
           1,
           "#fde725"
          ]
         ]
        },
        "height": 400,
        "legend": {
         "tracegroupgap": 0
        },
        "template": {
         "data": {
          "bar": [
           {
            "error_x": {
             "color": "#2a3f5f"
            },
            "error_y": {
             "color": "#2a3f5f"
            },
            "marker": {
             "line": {
              "color": "#E5ECF6",
              "width": 0.5
             },
             "pattern": {
              "fillmode": "overlay",
              "size": 10,
              "solidity": 0.2
             }
            },
            "type": "bar"
           }
          ],
          "barpolar": [
           {
            "marker": {
             "line": {
              "color": "#E5ECF6",
              "width": 0.5
             },
             "pattern": {
              "fillmode": "overlay",
              "size": 10,
              "solidity": 0.2
             }
            },
            "type": "barpolar"
           }
          ],
          "carpet": [
           {
            "aaxis": {
             "endlinecolor": "#2a3f5f",
             "gridcolor": "white",
             "linecolor": "white",
             "minorgridcolor": "white",
             "startlinecolor": "#2a3f5f"
            },
            "baxis": {
             "endlinecolor": "#2a3f5f",
             "gridcolor": "white",
             "linecolor": "white",
             "minorgridcolor": "white",
             "startlinecolor": "#2a3f5f"
            },
            "type": "carpet"
           }
          ],
          "choropleth": [
           {
            "colorbar": {
             "outlinewidth": 0,
             "ticks": ""
            },
            "type": "choropleth"
           }
          ],
          "contour": [
           {
            "colorbar": {
             "outlinewidth": 0,
             "ticks": ""
            },
            "colorscale": [
             [
              0,
              "#0d0887"
             ],
             [
              0.1111111111111111,
              "#46039f"
             ],
             [
              0.2222222222222222,
              "#7201a8"
             ],
             [
              0.3333333333333333,
              "#9c179e"
             ],
             [
              0.4444444444444444,
              "#bd3786"
             ],
             [
              0.5555555555555556,
              "#d8576b"
             ],
             [
              0.6666666666666666,
              "#ed7953"
             ],
             [
              0.7777777777777778,
              "#fb9f3a"
             ],
             [
              0.8888888888888888,
              "#fdca26"
             ],
             [
              1,
              "#f0f921"
             ]
            ],
            "type": "contour"
           }
          ],
          "contourcarpet": [
           {
            "colorbar": {
             "outlinewidth": 0,
             "ticks": ""
            },
            "type": "contourcarpet"
           }
          ],
          "heatmap": [
           {
            "colorbar": {
             "outlinewidth": 0,
             "ticks": ""
            },
            "colorscale": [
             [
              0,
              "#0d0887"
             ],
             [
              0.1111111111111111,
              "#46039f"
             ],
             [
              0.2222222222222222,
              "#7201a8"
             ],
             [
              0.3333333333333333,
              "#9c179e"
             ],
             [
              0.4444444444444444,
              "#bd3786"
             ],
             [
              0.5555555555555556,
              "#d8576b"
             ],
             [
              0.6666666666666666,
              "#ed7953"
             ],
             [
              0.7777777777777778,
              "#fb9f3a"
             ],
             [
              0.8888888888888888,
              "#fdca26"
             ],
             [
              1,
              "#f0f921"
             ]
            ],
            "type": "heatmap"
           }
          ],
          "histogram": [
           {
            "marker": {
             "pattern": {
              "fillmode": "overlay",
              "size": 10,
              "solidity": 0.2
             }
            },
            "type": "histogram"
           }
          ],
          "histogram2d": [
           {
            "colorbar": {
             "outlinewidth": 0,
             "ticks": ""
            },
            "colorscale": [
             [
              0,
              "#0d0887"
             ],
             [
              0.1111111111111111,
              "#46039f"
             ],
             [
              0.2222222222222222,
              "#7201a8"
             ],
             [
              0.3333333333333333,
              "#9c179e"
             ],
             [
              0.4444444444444444,
              "#bd3786"
             ],
             [
              0.5555555555555556,
              "#d8576b"
             ],
             [
              0.6666666666666666,
              "#ed7953"
             ],
             [
              0.7777777777777778,
              "#fb9f3a"
             ],
             [
              0.8888888888888888,
              "#fdca26"
             ],
             [
              1,
              "#f0f921"
             ]
            ],
            "type": "histogram2d"
           }
          ],
          "histogram2dcontour": [
           {
            "colorbar": {
             "outlinewidth": 0,
             "ticks": ""
            },
            "colorscale": [
             [
              0,
              "#0d0887"
             ],
             [
              0.1111111111111111,
              "#46039f"
             ],
             [
              0.2222222222222222,
              "#7201a8"
             ],
             [
              0.3333333333333333,
              "#9c179e"
             ],
             [
              0.4444444444444444,
              "#bd3786"
             ],
             [
              0.5555555555555556,
              "#d8576b"
             ],
             [
              0.6666666666666666,
              "#ed7953"
             ],
             [
              0.7777777777777778,
              "#fb9f3a"
             ],
             [
              0.8888888888888888,
              "#fdca26"
             ],
             [
              1,
              "#f0f921"
             ]
            ],
            "type": "histogram2dcontour"
           }
          ],
          "mesh3d": [
           {
            "colorbar": {
             "outlinewidth": 0,
             "ticks": ""
            },
            "type": "mesh3d"
           }
          ],
          "parcoords": [
           {
            "line": {
             "colorbar": {
              "outlinewidth": 0,
              "ticks": ""
             }
            },
            "type": "parcoords"
           }
          ],
          "pie": [
           {
            "automargin": true,
            "type": "pie"
           }
          ],
          "scatter": [
           {
            "fillpattern": {
             "fillmode": "overlay",
             "size": 10,
             "solidity": 0.2
            },
            "type": "scatter"
           }
          ],
          "scatter3d": [
           {
            "line": {
             "colorbar": {
              "outlinewidth": 0,
              "ticks": ""
             }
            },
            "marker": {
             "colorbar": {
              "outlinewidth": 0,
              "ticks": ""
             }
            },
            "type": "scatter3d"
           }
          ],
          "scattercarpet": [
           {
            "marker": {
             "colorbar": {
              "outlinewidth": 0,
              "ticks": ""
             }
            },
            "type": "scattercarpet"
           }
          ],
          "scattergeo": [
           {
            "marker": {
             "colorbar": {
              "outlinewidth": 0,
              "ticks": ""
             }
            },
            "type": "scattergeo"
           }
          ],
          "scattergl": [
           {
            "marker": {
             "colorbar": {
              "outlinewidth": 0,
              "ticks": ""
             }
            },
            "type": "scattergl"
           }
          ],
          "scattermap": [
           {
            "marker": {
             "colorbar": {
              "outlinewidth": 0,
              "ticks": ""
             }
            },
            "type": "scattermap"
           }
          ],
          "scattermapbox": [
           {
            "marker": {
             "colorbar": {
              "outlinewidth": 0,
              "ticks": ""
             }
            },
            "type": "scattermapbox"
           }
          ],
          "scatterpolar": [
           {
            "marker": {
             "colorbar": {
              "outlinewidth": 0,
              "ticks": ""
             }
            },
            "type": "scatterpolar"
           }
          ],
          "scatterpolargl": [
           {
            "marker": {
             "colorbar": {
              "outlinewidth": 0,
              "ticks": ""
             }
            },
            "type": "scatterpolargl"
           }
          ],
          "scatterternary": [
           {
            "marker": {
             "colorbar": {
              "outlinewidth": 0,
              "ticks": ""
             }
            },
            "type": "scatterternary"
           }
          ],
          "surface": [
           {
            "colorbar": {
             "outlinewidth": 0,
             "ticks": ""
            },
            "colorscale": [
             [
              0,
              "#0d0887"
             ],
             [
              0.1111111111111111,
              "#46039f"
             ],
             [
              0.2222222222222222,
              "#7201a8"
             ],
             [
              0.3333333333333333,
              "#9c179e"
             ],
             [
              0.4444444444444444,
              "#bd3786"
             ],
             [
              0.5555555555555556,
              "#d8576b"
             ],
             [
              0.6666666666666666,
              "#ed7953"
             ],
             [
              0.7777777777777778,
              "#fb9f3a"
             ],
             [
              0.8888888888888888,
              "#fdca26"
             ],
             [
              1,
              "#f0f921"
             ]
            ],
            "type": "surface"
           }
          ],
          "table": [
           {
            "cells": {
             "fill": {
              "color": "#EBF0F8"
             },
             "line": {
              "color": "white"
             }
            },
            "header": {
             "fill": {
              "color": "#C8D4E3"
             },
             "line": {
              "color": "white"
             }
            },
            "type": "table"
           }
          ]
         },
         "layout": {
          "annotationdefaults": {
           "arrowcolor": "#2a3f5f",
           "arrowhead": 0,
           "arrowwidth": 1
          },
          "autotypenumbers": "strict",
          "coloraxis": {
           "colorbar": {
            "outlinewidth": 0,
            "ticks": ""
           }
          },
          "colorscale": {
           "diverging": [
            [
             0,
             "#8e0152"
            ],
            [
             0.1,
             "#c51b7d"
            ],
            [
             0.2,
             "#de77ae"
            ],
            [
             0.3,
             "#f1b6da"
            ],
            [
             0.4,
             "#fde0ef"
            ],
            [
             0.5,
             "#f7f7f7"
            ],
            [
             0.6,
             "#e6f5d0"
            ],
            [
             0.7,
             "#b8e186"
            ],
            [
             0.8,
             "#7fbc41"
            ],
            [
             0.9,
             "#4d9221"
            ],
            [
             1,
             "#276419"
            ]
           ],
           "sequential": [
            [
             0,
             "#0d0887"
            ],
            [
             0.1111111111111111,
             "#46039f"
            ],
            [
             0.2222222222222222,
             "#7201a8"
            ],
            [
             0.3333333333333333,
             "#9c179e"
            ],
            [
             0.4444444444444444,
             "#bd3786"
            ],
            [
             0.5555555555555556,
             "#d8576b"
            ],
            [
             0.6666666666666666,
             "#ed7953"
            ],
            [
             0.7777777777777778,
             "#fb9f3a"
            ],
            [
             0.8888888888888888,
             "#fdca26"
            ],
            [
             1,
             "#f0f921"
            ]
           ],
           "sequentialminus": [
            [
             0,
             "#0d0887"
            ],
            [
             0.1111111111111111,
             "#46039f"
            ],
            [
             0.2222222222222222,
             "#7201a8"
            ],
            [
             0.3333333333333333,
             "#9c179e"
            ],
            [
             0.4444444444444444,
             "#bd3786"
            ],
            [
             0.5555555555555556,
             "#d8576b"
            ],
            [
             0.6666666666666666,
             "#ed7953"
            ],
            [
             0.7777777777777778,
             "#fb9f3a"
            ],
            [
             0.8888888888888888,
             "#fdca26"
            ],
            [
             1,
             "#f0f921"
            ]
           ]
          },
          "colorway": [
           "#636efa",
           "#EF553B",
           "#00cc96",
           "#ab63fa",
           "#FFA15A",
           "#19d3f3",
           "#FF6692",
           "#B6E880",
           "#FF97FF",
           "#FECB52"
          ],
          "font": {
           "color": "#2a3f5f"
          },
          "geo": {
           "bgcolor": "white",
           "lakecolor": "white",
           "landcolor": "#E5ECF6",
           "showlakes": true,
           "showland": true,
           "subunitcolor": "white"
          },
          "hoverlabel": {
           "align": "left"
          },
          "hovermode": "closest",
          "mapbox": {
           "style": "light"
          },
          "paper_bgcolor": "white",
          "plot_bgcolor": "#E5ECF6",
          "polar": {
           "angularaxis": {
            "gridcolor": "white",
            "linecolor": "white",
            "ticks": ""
           },
           "bgcolor": "#E5ECF6",
           "radialaxis": {
            "gridcolor": "white",
            "linecolor": "white",
            "ticks": ""
           }
          },
          "scene": {
           "xaxis": {
            "backgroundcolor": "#E5ECF6",
            "gridcolor": "white",
            "gridwidth": 2,
            "linecolor": "white",
            "showbackground": true,
            "ticks": "",
            "zerolinecolor": "white"
           },
           "yaxis": {
            "backgroundcolor": "#E5ECF6",
            "gridcolor": "white",
            "gridwidth": 2,
            "linecolor": "white",
            "showbackground": true,
            "ticks": "",
            "zerolinecolor": "white"
           },
           "zaxis": {
            "backgroundcolor": "#E5ECF6",
            "gridcolor": "white",
            "gridwidth": 2,
            "linecolor": "white",
            "showbackground": true,
            "ticks": "",
            "zerolinecolor": "white"
           }
          },
          "shapedefaults": {
           "line": {
            "color": "#2a3f5f"
           }
          },
          "ternary": {
           "aaxis": {
            "gridcolor": "white",
            "linecolor": "white",
            "ticks": ""
           },
           "baxis": {
            "gridcolor": "white",
            "linecolor": "white",
            "ticks": ""
           },
           "bgcolor": "#E5ECF6",
           "caxis": {
            "gridcolor": "white",
            "linecolor": "white",
            "ticks": ""
           }
          },
          "title": {
           "x": 0.05
          },
          "xaxis": {
           "automargin": true,
           "gridcolor": "white",
           "linecolor": "white",
           "ticks": "",
           "title": {
            "standoff": 15
           },
           "zerolinecolor": "white",
           "zerolinewidth": 2
          },
          "yaxis": {
           "automargin": true,
           "gridcolor": "white",
           "linecolor": "white",
           "ticks": "",
           "title": {
            "standoff": 15
           },
           "zerolinecolor": "white",
           "zerolinewidth": 2
          }
         }
        },
        "title": {
         "text": "📊 Ingresos por Categoría de Producto"
        },
        "xaxis": {
         "anchor": "y",
         "domain": [
          0,
          1
         ],
         "title": {
          "text": "Categoría"
         }
        },
        "yaxis": {
         "anchor": "x",
         "domain": [
          0,
          1
         ],
         "title": {
          "text": "Ingresos ($)"
         }
        }
       }
      }
     },
     "metadata": {},
     "output_type": "display_data"
    },
    {
     "name": "stdout",
     "output_type": "stream",
     "text": [
      "✅ Análisis de productos completado!\n"
     ]
    }
   ],
   "source": [
    "# Análisis de productos más vendidos\n",
    "print(\"🏆 ANÁLISIS DE PRODUCTOS TOP\")\n",
    "print(\"=\"*50)\n",
    "\n",
    "# Top 10 productos por ingresos\n",
    "top_productos_ingresos = df_clean.groupby('Item').agg({\n",
    "    'Amount': 'sum',\n",
    "    'Qty': 'sum'\n",
    "}).sort_values('Amount', ascending=False).head(10).reset_index()\n",
    "\n",
    "# Gráfico de barras horizontal para top productos por ingresos\n",
    "fig_productos_ingresos = px.bar(\n",
    "    top_productos_ingresos,\n",
    "    x='Amount',\n",
    "    y='Item',\n",
    "    orientation='h',\n",
    "    title='🏆 Top 10 Productos por Ingresos - Honduras',\n",
    "    labels={'Amount': 'Ingresos (L)', 'Item': 'Producto'},\n",
    "    color='Amount',\n",
    "    color_continuous_scale='viridis'\n",
    ")\n",
    "fig_productos_ingresos.update_layout(\n",
    "    height=500,\n",
    "    yaxis={'categoryorder': 'total ascending'}\n",
    ")\n",
    "fig_productos_ingresos.show()\n",
    "\n",
    "# Top 10 productos por cantidad vendida\n",
    "top_productos_cantidad = df_clean.groupby('Item').agg({\n",
    "    'Qty': 'sum',\n",
    "    'Amount': 'sum'\n",
    "}).sort_values('Qty', ascending=False).head(10).reset_index()\n",
    "\n",
    "fig_productos_cantidad = px.bar(\n",
    "    top_productos_cantidad,\n",
    "    x='Qty',\n",
    "    y='Item',\n",
    "    orientation='h',\n",
    "    title='📦 Top 10 Productos por Cantidad Vendida',\n",
    "    labels={'Qty': 'Cantidad Vendida', 'Item': 'Producto'},\n",
    "    color='Qty',\n",
    "    color_continuous_scale='plasma'\n",
    ")\n",
    "fig_productos_cantidad.update_layout(\n",
    "    height=500,\n",
    "    yaxis={'categoryorder': 'total ascending'}\n",
    ")\n",
    "fig_productos_cantidad.show()\n",
    "\n",
    "# Análisis de categorías de productos\n",
    "print(\"\\n🏷️ ANÁLISIS POR CATEGORÍAS DE PRODUCTOS:\")\n",
    "\n",
    "# Extraer categorías de productos basándose en palabras clave\n",
    "def categorizar_producto(item):\n",
    "    item_lower = str(item).lower()\n",
    "    if 'agua' in item_lower or 'bolsa' in item_lower:\n",
    "        return 'Agua en Bolsa'\n",
    "    elif 'hielo' in item_lower:\n",
    "        return 'Hielo'\n",
    "    elif 'botellon' in item_lower:\n",
    "        return 'Botellones'\n",
    "    elif 'botecito' in item_lower or 'bote' in item_lower:\n",
    "        return 'Botecitos'\n",
    "    elif 'impuesto' in item_lower or 'isv' in item_lower:\n",
    "        return 'Impuestos'\n",
    "    else:\n",
    "        return 'Otros'\n",
    "\n",
    "df_clean['Categoria'] = df_clean['Item'].apply(categorizar_producto)\n",
    "\n",
    "# Ventas por categoría\n",
    "ventas_categoria = df_clean.groupby('Categoria').agg({\n",
    "    'Amount': 'sum',\n",
    "    'Qty': 'sum'\n",
    "}).reset_index()\n",
    "\n",
    "# Gráfico de pastel para distribución de ventas por categoría\n",
    "fig_categoria_pie = px.pie(\n",
    "    ventas_categoria,\n",
    "    values='Amount',\n",
    "    names='Categoria',\n",
    "    title='🥧 Distribución de Ventas por Categoría de Producto',\n",
    "    color_discrete_sequence=px.colors.qualitative.Set3\n",
    ")\n",
    "fig_categoria_pie.show()\n",
    "\n",
    "# Gráfico de barras comparativo por categoría\n",
    "fig_categoria_bar = px.bar(\n",
    "    ventas_categoria,\n",
    "    x='Categoria',\n",
    "    y='Amount',\n",
    "    title='📊 Ingresos por Categoría de Producto - Honduras',\n",
    "    labels={'Amount': 'Ingresos (L)', 'Categoria': 'Categoría'},\n",
    "    color='Amount',\n",
    "    color_continuous_scale='viridis'\n",
    ")\n",
    "fig_categoria_bar.update_layout(height=400)\n",
    "fig_categoria_bar.show()\n",
    "\n",
    "print(\"✅ Análisis de productos completado!\")"
   ]
  },
  {
   "cell_type": "markdown",
   "id": "6055c2d7",
   "metadata": {},
   "source": [
    "## 7. Análisis de Clientes Top"
   ]
  },
  {
   "cell_type": "code",
   "execution_count": null,
   "id": "0aa238dd",
   "metadata": {},
   "outputs": [
    {
     "name": "stdout",
     "output_type": "stream",
     "text": [
      "👑 ANÁLISIS DE CLIENTES TOP\n",
      "==================================================\n"
     ]
    },
    {
     "data": {
      "application/vnd.plotly.v1+json": {
       "config": {
        "plotlyServerURL": "https://plot.ly"
       },
       "data": [
        {
         "hovertemplate": "Ventas Totales ($)=%{marker.color}<br>Cliente=%{y}<extra></extra>",
         "legendgroup": "",
         "marker": {
          "color": {
           "bdata": "AAAAAPSpJkE9CtejjOUQQQAAAAD8Uw5BMzMzMxX0DUEAAAAATJIJQQAAAADw4QRBAAAAAGyfBEEAAAAAIIYEQT0K16N8bQJBAAAAACDfAEFmZmZmJkQAQVyPwvUIhPtAmpmZmWkJ+0AAAAAAcF36QI/C9SgYbPdA",
           "dtype": "f8"
          },
          "coloraxis": "coloraxis",
          "pattern": {
           "shape": ""
          }
         },
         "name": "",
         "orientation": "h",
         "showlegend": false,
         "textposition": "auto",
         "type": "bar",
         "x": {
          "bdata": "AAAAAPSpJkE9CtejjOUQQQAAAAD8Uw5BMzMzMxX0DUEAAAAATJIJQQAAAADw4QRBAAAAAGyfBEEAAAAAIIYEQT0K16N8bQJBAAAAACDfAEFmZmZmJkQAQVyPwvUIhPtAmpmZmWkJ+0AAAAAAcF36QI/C9SgYbPdA",
          "dtype": "f8"
         },
         "xaxis": "x",
         "y": [
          "DURACRETO SA DE CV",
          "IDALIA ZELAYA",
          "NORTH OCEANICA S DE RL:INVERSIONES CANGREJAL",
          "DENNIE BUSH",
          "AZUL INTEREXPORT",
          "BALEADA PAQUE",
          "BOTE MISS LUKI",
          "BOTE TES FAST",
          "CAFETERIA CRISTINA",
          "CINTAS DE HONDURAS",
          "SPORT GYM:RAISE SOLUTIONS S DE R.L.",
          "RONALD COOPER",
          "SPORT GYM:SPORT GYM II S. A.",
          "24 HORAS",
          "NORTH OCEANICA S DE RL"
         ],
         "yaxis": "y"
        }
       ],
       "layout": {
        "barmode": "relative",
        "coloraxis": {
         "colorbar": {
          "title": {
           "text": "Ventas Totales ($)"
          }
         },
         "colorscale": [
          [
           0,
           "#440154"
          ],
          [
           0.1111111111111111,
           "#482878"
          ],
          [
           0.2222222222222222,
           "#3e4989"
          ],
          [
           0.3333333333333333,
           "#31688e"
          ],
          [
           0.4444444444444444,
           "#26828e"
          ],
          [
           0.5555555555555556,
           "#1f9e89"
          ],
          [
           0.6666666666666666,
           "#35b779"
          ],
          [
           0.7777777777777778,
           "#6ece58"
          ],
          [
           0.8888888888888888,
           "#b5de2b"
          ],
          [
           1,
           "#fde725"
          ]
         ]
        },
        "height": 600,
        "legend": {
         "tracegroupgap": 0
        },
        "template": {
         "data": {
          "bar": [
           {
            "error_x": {
             "color": "#2a3f5f"
            },
            "error_y": {
             "color": "#2a3f5f"
            },
            "marker": {
             "line": {
              "color": "#E5ECF6",
              "width": 0.5
             },
             "pattern": {
              "fillmode": "overlay",
              "size": 10,
              "solidity": 0.2
             }
            },
            "type": "bar"
           }
          ],
          "barpolar": [
           {
            "marker": {
             "line": {
              "color": "#E5ECF6",
              "width": 0.5
             },
             "pattern": {
              "fillmode": "overlay",
              "size": 10,
              "solidity": 0.2
             }
            },
            "type": "barpolar"
           }
          ],
          "carpet": [
           {
            "aaxis": {
             "endlinecolor": "#2a3f5f",
             "gridcolor": "white",
             "linecolor": "white",
             "minorgridcolor": "white",
             "startlinecolor": "#2a3f5f"
            },
            "baxis": {
             "endlinecolor": "#2a3f5f",
             "gridcolor": "white",
             "linecolor": "white",
             "minorgridcolor": "white",
             "startlinecolor": "#2a3f5f"
            },
            "type": "carpet"
           }
          ],
          "choropleth": [
           {
            "colorbar": {
             "outlinewidth": 0,
             "ticks": ""
            },
            "type": "choropleth"
           }
          ],
          "contour": [
           {
            "colorbar": {
             "outlinewidth": 0,
             "ticks": ""
            },
            "colorscale": [
             [
              0,
              "#0d0887"
             ],
             [
              0.1111111111111111,
              "#46039f"
             ],
             [
              0.2222222222222222,
              "#7201a8"
             ],
             [
              0.3333333333333333,
              "#9c179e"
             ],
             [
              0.4444444444444444,
              "#bd3786"
             ],
             [
              0.5555555555555556,
              "#d8576b"
             ],
             [
              0.6666666666666666,
              "#ed7953"
             ],
             [
              0.7777777777777778,
              "#fb9f3a"
             ],
             [
              0.8888888888888888,
              "#fdca26"
             ],
             [
              1,
              "#f0f921"
             ]
            ],
            "type": "contour"
           }
          ],
          "contourcarpet": [
           {
            "colorbar": {
             "outlinewidth": 0,
             "ticks": ""
            },
            "type": "contourcarpet"
           }
          ],
          "heatmap": [
           {
            "colorbar": {
             "outlinewidth": 0,
             "ticks": ""
            },
            "colorscale": [
             [
              0,
              "#0d0887"
             ],
             [
              0.1111111111111111,
              "#46039f"
             ],
             [
              0.2222222222222222,
              "#7201a8"
             ],
             [
              0.3333333333333333,
              "#9c179e"
             ],
             [
              0.4444444444444444,
              "#bd3786"
             ],
             [
              0.5555555555555556,
              "#d8576b"
             ],
             [
              0.6666666666666666,
              "#ed7953"
             ],
             [
              0.7777777777777778,
              "#fb9f3a"
             ],
             [
              0.8888888888888888,
              "#fdca26"
             ],
             [
              1,
              "#f0f921"
             ]
            ],
            "type": "heatmap"
           }
          ],
          "histogram": [
           {
            "marker": {
             "pattern": {
              "fillmode": "overlay",
              "size": 10,
              "solidity": 0.2
             }
            },
            "type": "histogram"
           }
          ],
          "histogram2d": [
           {
            "colorbar": {
             "outlinewidth": 0,
             "ticks": ""
            },
            "colorscale": [
             [
              0,
              "#0d0887"
             ],
             [
              0.1111111111111111,
              "#46039f"
             ],
             [
              0.2222222222222222,
              "#7201a8"
             ],
             [
              0.3333333333333333,
              "#9c179e"
             ],
             [
              0.4444444444444444,
              "#bd3786"
             ],
             [
              0.5555555555555556,
              "#d8576b"
             ],
             [
              0.6666666666666666,
              "#ed7953"
             ],
             [
              0.7777777777777778,
              "#fb9f3a"
             ],
             [
              0.8888888888888888,
              "#fdca26"
             ],
             [
              1,
              "#f0f921"
             ]
            ],
            "type": "histogram2d"
           }
          ],
          "histogram2dcontour": [
           {
            "colorbar": {
             "outlinewidth": 0,
             "ticks": ""
            },
            "colorscale": [
             [
              0,
              "#0d0887"
             ],
             [
              0.1111111111111111,
              "#46039f"
             ],
             [
              0.2222222222222222,
              "#7201a8"
             ],
             [
              0.3333333333333333,
              "#9c179e"
             ],
             [
              0.4444444444444444,
              "#bd3786"
             ],
             [
              0.5555555555555556,
              "#d8576b"
             ],
             [
              0.6666666666666666,
              "#ed7953"
             ],
             [
              0.7777777777777778,
              "#fb9f3a"
             ],
             [
              0.8888888888888888,
              "#fdca26"
             ],
             [
              1,
              "#f0f921"
             ]
            ],
            "type": "histogram2dcontour"
           }
          ],
          "mesh3d": [
           {
            "colorbar": {
             "outlinewidth": 0,
             "ticks": ""
            },
            "type": "mesh3d"
           }
          ],
          "parcoords": [
           {
            "line": {
             "colorbar": {
              "outlinewidth": 0,
              "ticks": ""
             }
            },
            "type": "parcoords"
           }
          ],
          "pie": [
           {
            "automargin": true,
            "type": "pie"
           }
          ],
          "scatter": [
           {
            "fillpattern": {
             "fillmode": "overlay",
             "size": 10,
             "solidity": 0.2
            },
            "type": "scatter"
           }
          ],
          "scatter3d": [
           {
            "line": {
             "colorbar": {
              "outlinewidth": 0,
              "ticks": ""
             }
            },
            "marker": {
             "colorbar": {
              "outlinewidth": 0,
              "ticks": ""
             }
            },
            "type": "scatter3d"
           }
          ],
          "scattercarpet": [
           {
            "marker": {
             "colorbar": {
              "outlinewidth": 0,
              "ticks": ""
             }
            },
            "type": "scattercarpet"
           }
          ],
          "scattergeo": [
           {
            "marker": {
             "colorbar": {
              "outlinewidth": 0,
              "ticks": ""
             }
            },
            "type": "scattergeo"
           }
          ],
          "scattergl": [
           {
            "marker": {
             "colorbar": {
              "outlinewidth": 0,
              "ticks": ""
             }
            },
            "type": "scattergl"
           }
          ],
          "scattermap": [
           {
            "marker": {
             "colorbar": {
              "outlinewidth": 0,
              "ticks": ""
             }
            },
            "type": "scattermap"
           }
          ],
          "scattermapbox": [
           {
            "marker": {
             "colorbar": {
              "outlinewidth": 0,
              "ticks": ""
             }
            },
            "type": "scattermapbox"
           }
          ],
          "scatterpolar": [
           {
            "marker": {
             "colorbar": {
              "outlinewidth": 0,
              "ticks": ""
             }
            },
            "type": "scatterpolar"
           }
          ],
          "scatterpolargl": [
           {
            "marker": {
             "colorbar": {
              "outlinewidth": 0,
              "ticks": ""
             }
            },
            "type": "scatterpolargl"
           }
          ],
          "scatterternary": [
           {
            "marker": {
             "colorbar": {
              "outlinewidth": 0,
              "ticks": ""
             }
            },
            "type": "scatterternary"
           }
          ],
          "surface": [
           {
            "colorbar": {
             "outlinewidth": 0,
             "ticks": ""
            },
            "colorscale": [
             [
              0,
              "#0d0887"
             ],
             [
              0.1111111111111111,
              "#46039f"
             ],
             [
              0.2222222222222222,
              "#7201a8"
             ],
             [
              0.3333333333333333,
              "#9c179e"
             ],
             [
              0.4444444444444444,
              "#bd3786"
             ],
             [
              0.5555555555555556,
              "#d8576b"
             ],
             [
              0.6666666666666666,
              "#ed7953"
             ],
             [
              0.7777777777777778,
              "#fb9f3a"
             ],
             [
              0.8888888888888888,
              "#fdca26"
             ],
             [
              1,
              "#f0f921"
             ]
            ],
            "type": "surface"
           }
          ],
          "table": [
           {
            "cells": {
             "fill": {
              "color": "#EBF0F8"
             },
             "line": {
              "color": "white"
             }
            },
            "header": {
             "fill": {
              "color": "#C8D4E3"
             },
             "line": {
              "color": "white"
             }
            },
            "type": "table"
           }
          ]
         },
         "layout": {
          "annotationdefaults": {
           "arrowcolor": "#2a3f5f",
           "arrowhead": 0,
           "arrowwidth": 1
          },
          "autotypenumbers": "strict",
          "coloraxis": {
           "colorbar": {
            "outlinewidth": 0,
            "ticks": ""
           }
          },
          "colorscale": {
           "diverging": [
            [
             0,
             "#8e0152"
            ],
            [
             0.1,
             "#c51b7d"
            ],
            [
             0.2,
             "#de77ae"
            ],
            [
             0.3,
             "#f1b6da"
            ],
            [
             0.4,
             "#fde0ef"
            ],
            [
             0.5,
             "#f7f7f7"
            ],
            [
             0.6,
             "#e6f5d0"
            ],
            [
             0.7,
             "#b8e186"
            ],
            [
             0.8,
             "#7fbc41"
            ],
            [
             0.9,
             "#4d9221"
            ],
            [
             1,
             "#276419"
            ]
           ],
           "sequential": [
            [
             0,
             "#0d0887"
            ],
            [
             0.1111111111111111,
             "#46039f"
            ],
            [
             0.2222222222222222,
             "#7201a8"
            ],
            [
             0.3333333333333333,
             "#9c179e"
            ],
            [
             0.4444444444444444,
             "#bd3786"
            ],
            [
             0.5555555555555556,
             "#d8576b"
            ],
            [
             0.6666666666666666,
             "#ed7953"
            ],
            [
             0.7777777777777778,
             "#fb9f3a"
            ],
            [
             0.8888888888888888,
             "#fdca26"
            ],
            [
             1,
             "#f0f921"
            ]
           ],
           "sequentialminus": [
            [
             0,
             "#0d0887"
            ],
            [
             0.1111111111111111,
             "#46039f"
            ],
            [
             0.2222222222222222,
             "#7201a8"
            ],
            [
             0.3333333333333333,
             "#9c179e"
            ],
            [
             0.4444444444444444,
             "#bd3786"
            ],
            [
             0.5555555555555556,
             "#d8576b"
            ],
            [
             0.6666666666666666,
             "#ed7953"
            ],
            [
             0.7777777777777778,
             "#fb9f3a"
            ],
            [
             0.8888888888888888,
             "#fdca26"
            ],
            [
             1,
             "#f0f921"
            ]
           ]
          },
          "colorway": [
           "#636efa",
           "#EF553B",
           "#00cc96",
           "#ab63fa",
           "#FFA15A",
           "#19d3f3",
           "#FF6692",
           "#B6E880",
           "#FF97FF",
           "#FECB52"
          ],
          "font": {
           "color": "#2a3f5f"
          },
          "geo": {
           "bgcolor": "white",
           "lakecolor": "white",
           "landcolor": "#E5ECF6",
           "showlakes": true,
           "showland": true,
           "subunitcolor": "white"
          },
          "hoverlabel": {
           "align": "left"
          },
          "hovermode": "closest",
          "mapbox": {
           "style": "light"
          },
          "paper_bgcolor": "white",
          "plot_bgcolor": "#E5ECF6",
          "polar": {
           "angularaxis": {
            "gridcolor": "white",
            "linecolor": "white",
            "ticks": ""
           },
           "bgcolor": "#E5ECF6",
           "radialaxis": {
            "gridcolor": "white",
            "linecolor": "white",
            "ticks": ""
           }
          },
          "scene": {
           "xaxis": {
            "backgroundcolor": "#E5ECF6",
            "gridcolor": "white",
            "gridwidth": 2,
            "linecolor": "white",
            "showbackground": true,
            "ticks": "",
            "zerolinecolor": "white"
           },
           "yaxis": {
            "backgroundcolor": "#E5ECF6",
            "gridcolor": "white",
            "gridwidth": 2,
            "linecolor": "white",
            "showbackground": true,
            "ticks": "",
            "zerolinecolor": "white"
           },
           "zaxis": {
            "backgroundcolor": "#E5ECF6",
            "gridcolor": "white",
            "gridwidth": 2,
            "linecolor": "white",
            "showbackground": true,
            "ticks": "",
            "zerolinecolor": "white"
           }
          },
          "shapedefaults": {
           "line": {
            "color": "#2a3f5f"
           }
          },
          "ternary": {
           "aaxis": {
            "gridcolor": "white",
            "linecolor": "white",
            "ticks": ""
           },
           "baxis": {
            "gridcolor": "white",
            "linecolor": "white",
            "ticks": ""
           },
           "bgcolor": "#E5ECF6",
           "caxis": {
            "gridcolor": "white",
            "linecolor": "white",
            "ticks": ""
           }
          },
          "title": {
           "x": 0.05
          },
          "xaxis": {
           "automargin": true,
           "gridcolor": "white",
           "linecolor": "white",
           "ticks": "",
           "title": {
            "standoff": 15
           },
           "zerolinecolor": "white",
           "zerolinewidth": 2
          },
          "yaxis": {
           "automargin": true,
           "gridcolor": "white",
           "linecolor": "white",
           "ticks": "",
           "title": {
            "standoff": 15
           },
           "zerolinecolor": "white",
           "zerolinewidth": 2
          }
         }
        },
        "title": {
         "text": "👑 Top 15 Clientes por Valor Total de Compras"
        },
        "xaxis": {
         "anchor": "y",
         "domain": [
          0,
          1
         ],
         "title": {
          "text": "Ventas Totales ($)"
         }
        },
        "yaxis": {
         "anchor": "x",
         "categoryorder": "total ascending",
         "domain": [
          0,
          1
         ],
         "title": {
          "text": "Cliente"
         }
        }
       }
      }
     },
     "metadata": {},
     "output_type": "display_data"
    },
    {
     "data": {
      "application/vnd.plotly.v1+json": {
       "config": {
        "plotlyServerURL": "https://plot.ly"
       },
       "data": [
        {
         "customdata": [
          [
           "24 HORAS",
           1.4642857142857142
          ],
          [
           "AARON JOSUE GONZALES GOMEZ",
           0.6144578313253012
          ],
          [
           "ABARROTERIA 2 HERMANOS",
           0.13930348258706468
          ],
          [
           "ABARROTERIA GENESIS",
           0.4534412955465587
          ],
          [
           "ABARROTERIA MARIEC",
           0.09448818897637795
          ],
          [
           "ACADEMIA DE FUTBOL Y PROMOCIONES VICTORIA",
           0.3125
          ],
          [
           "ACADEMIA NAVAL",
           2
          ],
          [
           "AEROLINEAS SOSA",
           0.5634920634920635
          ],
          [
           "AGAA",
           0.6666666666666666
          ],
          [
           "AGAPE SHALOM",
           2
          ],
          [
           "AGROCONSA",
           0.18781725888324874
          ],
          [
           "AGROIMPORT",
           0.07352941176470588
          ],
          [
           "AHARI GASTROBAR",
           0.8467741935483871
          ],
          [
           "ALBA ZEPEDA",
           5
          ],
          [
           "ALCALDIA MUNICIPAL JUAM FRANCISCO BULNES",
           4
          ],
          [
           "ALEJANDRO CANELAS",
           3
          ],
          [
           "ALLAN FERNANDO MONTOYA",
           2
          ],
          [
           "ALLAN VIJIL",
           3
          ],
          [
           "ALORICA",
           0.06926406926406926
          ],
          [
           "AMAJUPEMH",
           2
          ],
          [
           "AMELIA MARITZA CARCAMO PUERTO",
           0.04807692307692308
          ],
          [
           "AMIGOS MARKET",
           1.0634920634920635
          ],
          [
           "AMORE COFFEE",
           1.257936507936508
          ],
          [
           "ANA KIRINGTON",
           0.11764705882352941
          ],
          [
           "ANAEL MENDEZ RIVERA",
           0.03680981595092025
          ],
          [
           "ANDRE CRUZ",
           0.28695652173913044
          ],
          [
           "ANGELO GUERRINO",
           0.2376237623762376
          ],
          [
           "APEC",
           2
          ],
          [
           "APO AUTIS",
           4
          ],
          [
           "AQUI SOPAS",
           0.41935483870967744
          ],
          [
           "ARIA CAFE",
           0.23236514522821577
          ],
          [
           "ARIEL ACOSTA",
           3
          ],
          [
           "ARQUITECTOS ASOCIADOS",
           0.3318777292576419
          ],
          [
           "ARQUITECTOS ASOCIADOS BOLETOS",
           0.20689655172413793
          ],
          [
           "ARSA",
           2
          ],
          [
           "ARTE Y SABOR",
           0.3531746031746032
          ],
          [
           "ASAMBLEA ESPIRITUAL NACIONAL",
           3
          ],
          [
           "ASOCIACION ATLANTICA DE LOS ADVENTISTAS",
           0.1794871794871795
          ],
          [
           "ATLANTIDA VETERANOS",
           0.2982456140350877
          ],
          [
           "AUDIO TECH",
           0.22727272727272727
          ],
          [
           "AUTO EXCEL",
           2
          ],
          [
           "AUTO PARTES REABEN",
           2
          ],
          [
           "AUTO RESPUESTO FAYATH",
           0.10526315789473684
          ],
          [
           "AVELARS COFFEE:AVELARS COFFEE SAUCE",
           1.5098814229249011
          ],
          [
           "AVELARS COFFEE:AVELARS COFFEE TORONJAL",
           0.8366533864541833
          ],
          [
           "AYUDANDO NINOS HONDURENOS",
           2
          ],
          [
           "AZUL INTEREXPORT",
           0.5983935742971888
          ],
          [
           "BAC CREDOMATIC",
           0.16279069767441862
          ],
          [
           "BAC CREDOMATIC:BAC PRINCIPAL",
           0.3114754098360656
          ],
          [
           "BAC CREDOMATIC:BAC TORONJAL",
           0.23529411764705882
          ],
          [
           "BADER DIP",
           25
          ],
          [
           "BAHIA FOUDS CORPORATIONS SA",
           2
          ],
          [
           "BALEADA PAQUE",
           2.9486166007905137
          ],
          [
           "BALLET",
           0.25
          ],
          [
           "BANCO ATLANTIDA",
           0.26666666666666666
          ],
          [
           "BANCO ATLANTIDA S.A",
           0.6
          ],
          [
           "BANCO DE OCCIDENTE",
           0.678714859437751
          ],
          [
           "BANCO DEL PAIS",
           2
          ],
          [
           "BANCO DEL PAIS:BANPAIS LA CEIBA",
           0.5
          ],
          [
           "BANCO DEL PAIS:BANPAIS OLANCHITO",
           0.19008264462809918
          ],
          [
           "BANCO DEL PAIS:BANPAIS SABA",
           0.2066115702479339
          ],
          [
           "BANCO DEL PAIS:BANPAIS SONAGUERA",
           0.15859030837004406
          ],
          [
           "BANCO DEL PAIS:BANPAIS TELA",
           0.14678899082568808
          ],
          [
           "BANCO DEL PAIS:BANPAIS TOCOA",
           0.1810344827586207
          ],
          [
           "BAR LAS OLAS",
           0.3108108108108108
          ],
          [
           "BAR TROPICAL BEACH",
           0.07373271889400922
          ],
          [
           "BARBIE MOORE:CRIC CRIC MALECON",
           3.37007874015748
          ],
          [
           "BARBIE MOORE:CRIC CRIC PLAZA TECKNOS",
           1.1383399209486167
          ],
          [
           "BARILOCHE",
           1.8735177865612649
          ],
          [
           "BASE AEREA HCM",
           0.2413793103448276
          ],
          [
           "BEER GARDEN",
           0.5
          ],
          [
           "BELKIS BUENO",
           2
          ],
          [
           "BELLA ORIENTE",
           1.7410358565737052
          ],
          [
           "BELLA VISTA",
           2
          ],
          [
           "BERTA ORTIZ",
           3
          ],
          [
           "BEST QUALITY SEAFOOD S A DE C V.",
           0.3
          ],
          [
           "BIO MEDIC SUPPLIES",
           2
          ],
          [
           "BISTRO BY MIKOL",
           1
          ],
          [
           "BLANCO DIRECTO MARKETING",
           2
          ],
          [
           "BODEGA EL CORRAL",
           0.07086614173228346
          ],
          [
           "BODEGA JAFET",
           0.09523809523809523
          ],
          [
           "BODEGA KATIA",
           0.2457627118644068
          ],
          [
           "BODEGA Y ABARROTERIA VELASQUEZ",
           0.11904761904761904
          ],
          [
           "BODEGUITA 2 HERMANOS",
           0.10869565217391304
          ],
          [
           "BODEGUITA RUIZ",
           0.2222222222222222
          ],
          [
           "BOLOS BAR",
           0.15853658536585366
          ],
          [
           "BOOM BUBBLES",
           1.146551724137931
          ],
          [
           "BOTE AVENTURERO",
           0.03680981595092025
          ],
          [
           "BOTE CASIKE",
           3
          ],
          [
           "BOTE DADDY JYM",
           0.03167420814479638
          ],
          [
           "BOTE EL OSO",
           0.6877470355731226
          ],
          [
           "BOTE GRAN KOSTA",
           0.36363636363636365
          ],
          [
           "BOTE JZMD",
           4
          ],
          [
           "BOTE LADY NELLY",
           2
          ],
          [
           "BOTE MANY EXPRESS",
           0.26104417670682734
          ],
          [
           "BOTE MARGARITA 2",
           0.23626373626373626
          ],
          [
           "BOTE MISS GISELA",
           0.16091954022988506
          ],
          [
           "BOTE MISS LUKI",
           0.20930232558139536
          ],
          [
           "BOTE MR TOM",
           0.05238095238095238
          ],
          [
           "BOTE NELLY",
           0.42613636363636365
          ],
          [
           "BOTE PRINCIPIO 2",
           3
          ],
          [
           "BOTE SEA HOSE",
           4
          ],
          [
           "BOTE SEA SEÑORA",
           0.1724137931034483
          ],
          [
           "BOTE TES FAST",
           0.12448132780082988
          ],
          [
           "BOXHA:BOXHA CAFE",
           1.9604743083003953
          ],
          [
           "BOXHA:BOXHA RESTAURANTE",
           1.6205533596837944
          ],
          [
           "BRISAS DEL NORTE",
           0.2222222222222222
          ],
          [
           "BUCANERO",
           0.4337899543378995
          ],
          [
           "BUEN AMIGO",
           0.8015873015873016
          ],
          [
           "C.E.B JOSE VALENTIN VASQUEZ",
           2
          ],
          [
           "CA CORPARACION",
           0.01875
          ],
          [
           "CACHORROS",
           0.2898550724637681
          ],
          [
           "CAFE Y BAR TIBU",
           0.4482758620689655
          ],
          [
           "CAFETERIA CINTAS",
           0.7943548387096774
          ],
          [
           "CAFETERIA CRIFER",
           1.3438735177865613
          ],
          [
           "CAFETERIA CRISTINA",
           1.3571428571428572
          ],
          [
           "CAFETERIA EL FARO",
           1.5793650793650793
          ],
          [
           "CAFETERIA JAGUAR",
           0.34024896265560167
          ],
          [
           "CAFETERIA SHALALA",
           0.3170731707317073
          ],
          [
           "CAFETO MAZAPAN",
           2.3280632411067192
          ],
          [
           "CAFETO MEDICENTRO",
           2.4268774703557314
          ],
          [
           "CAFÉ TALEROS",
           0.2077922077922078
          ],
          [
           "CALTEL",
           0.12598425196850394
          ],
          [
           "CAMARA DE TURISMO DE LA CEIBA",
           1
          ],
          [
           "CAMARA JUNIOR DE LA CEIBA",
           2
          ],
          [
           "CAMOSA",
           2
          ],
          [
           "CAMPAMENTO MANANTIAL LUZ Y VIDA",
           0.13559322033898305
          ],
          [
           "CAMPO AGAA",
           0.40186915887850466
          ],
          [
           "CAMPO ATLANTIDA LIGA MAYOR",
           0.2706422018348624
          ],
          [
           "CARIBBEAN PEARL SEAFOOD S.A.",
           0.06358381502890173
          ],
          [
           "CARLOS LOPEZZ",
           2
          ],
          [
           "CARNAVAL DEL JAMO",
           2
          ],
          [
           "CARNICERIA RODRIGUEZ",
           2
          ],
          [
           "CASA BLANCA",
           0.28286852589641437
          ],
          [
           "CASA DE LOS ASADOS",
           0.08733624454148471
          ],
          [
           "CASA DEL JUGO",
           1.9328063241106719
          ],
          [
           "CASA ITSCHEL",
           0.09375
          ],
          [
           "CASA IXCHEL",
           0.2236842105263158
          ],
          [
           "CASA N°400",
           2
          ],
          [
           "CASETA 2 HERMANOS",
           0.14655172413793102
          ],
          [
           "CASETA SITRASA",
           0.3373015873015873
          ],
          [
           "CASINO ALADIN",
           0.3157894736842105
          ],
          [
           "CATEDRAL CENTRO",
           0.268
          ],
          [
           "CBH",
           2
          ],
          [
           "CEB CRISTOBAL COLON",
           0.056338028169014086
          ],
          [
           "CEB JUANA REYES DE MARESMA",
           0.09523809523809523
          ],
          [
           "CEIBA CKICKEN",
           0.8300395256916996
          ],
          [
           "CELEA MARTINEZ",
           1
          ],
          [
           "CENTRAL DE MANGUERAS",
           2
          ],
          [
           "CENTRO BASICO CRISTOBAL COLON",
           2
          ],
          [
           "CENTRO BASICO GUADALUPE DE QUEZADA",
           2
          ],
          [
           "CENTRO EDUCATIVO JOSE VALENTIN VASQUEZ",
           2
          ],
          [
           "CEPROSAF",
           0.06930693069306931
          ],
          [
           "CERVECERIA HONDUREÑA:CERVECERIA",
           0.425531914893617
          ],
          [
           "CERVECERIA HONDUREÑA:CERVECERIA OLANCHITO",
           2
          ],
          [
           "CERVECERIA HONDUREÑA:CERVECERIA SABA",
           3
          ],
          [
           "CESAR GUERRINO",
           0.35454545454545455
          ],
          [
           "CH - CFV",
           2
          ],
          [
           "CHRISTIAN PINEDA",
           2
          ],
          [
           "CHUPI BAR",
           0.07894736842105263
          ],
          [
           "CINTAS DE HONDURAS",
           0.9087301587301587
          ],
          [
           "CIRCLE K",
           0.432
          ],
          [
           "CIUDAD MUJER",
           0.466403162055336
          ],
          [
           "CIVIL TEC",
           2
          ],
          [
           "CLARO BOLETOS",
           0.16216216216216217
          ],
          [
           "CLUB DEPORTIVO ATLANTIDA",
           0.37628865979381443
          ],
          [
           "CLUB DEPORTIVO EL SAUCE",
           0.18652849740932642
          ],
          [
           "CLUB DEPORTIVO VIDA",
           0.2863247863247863
          ],
          [
           "CLUB DEPORTIVO VIDA VETERANOS",
           0.28888888888888886
          ],
          [
           "CLUB DEPORTIVO Y SOCIAL VIDA",
           1.194736842105263
          ],
          [
           "CLUB OLIMPIA DEPORTIVO",
           0.23225806451612904
          ],
          [
           "CLUB ROTARIO DE TOCOA",
           2
          ],
          [
           "CLUB VETERANOS SAUCE",
           0.25136612021857924
          ],
          [
           "COATLAHL",
           0.10218978102189781
          ],
          [
           "COBEL",
           1.8412698412698412
          ],
          [
           "COCO BALEADA",
           4.394366197183099
          ],
          [
           "COFFEE CUP",
           0.05
          ],
          [
           "COLEGIO DE ARQUITECTO DE HONDURAS",
           2
          ],
          [
           "COLEGIO MEDICO DE HONDURAS",
           3
          ],
          [
           "COMASSA",
           2
          ],
          [
           "COMCEVISA",
           0.0641025641025641
          ],
          [
           "COMECA",
           3
          ],
          [
           "COMERCIAL IRIS",
           2
          ],
          [
           "COMERCIAL MAEGA",
           0.22727272727272727
          ],
          [
           "COMIDAS ESPECIALIZAS",
           2
          ],
          [
           "COMSEG",
           2
          ],
          [
           "CONAMCO",
           0.03875968992248062
          ],
          [
           "CONCEVISA",
           2
          ],
          [
           "CONDISU",
           3
          ],
          [
           "CONGELADOS DE HONDURAS SA DE CV",
           0.09205020920502092
          ],
          [
           "CONSTRUCTORA J Y L",
           0.3582089552238806
          ],
          [
           "CONSULTORIA GARAY",
           2
          ],
          [
           "CONSULTORIA Y ASESORIA GARAY S DE RL CV",
           2
          ],
          [
           "COOPERATIVA 4 DE JUNIO",
           4
          ],
          [
           "COOPERATIVA DE CREDITO Y AHORRO STANDAR",
           2
          ],
          [
           "COOPERATIVA EL SAUCE",
           2
          ],
          [
           "COOPERATIVA MIXTA DE TRABAJADORES LEYDE",
           2
          ],
          [
           "COOPERATIVA MIXTA SUPERCOOP LIMITADA",
           0.25
          ],
          [
           "COOPERATIVA MIXTA SUPERCOOP LIMITADA:LA COOPE  TOCOA",
           0.45528455284552843
          ],
          [
           "COOPERATIVA MIXTA SUPERCOOP LIMITADA:LA COOPE LA CEIBA",
           0.6596638655462185
          ],
          [
           "COOPERATIVA MIXTA SUPERCOOP LIMITADA:LA COOPE OLANCHITO",
           0.4107883817427386
          ],
          [
           "COOPERATIVA SAGRADA FAMILIA",
           0.053763440860215055
          ],
          [
           "COOPERATIVA TAULABE",
           5
          ],
          [
           "COORPORACION JAAR",
           0.04504504504504504
          ],
          [
           "COPECO",
           0.15333333333333332
          ],
          [
           "CORPORACION BELLAGA S.A.",
           0.9325396825396826
          ],
          [
           "CORPORACION FLORES",
           2
          ],
          [
           "CORPORACION PETROLEO SOL SA DE CV",
           0.8932806324110671
          ],
          [
           "COYSOSA",
           0.06756756756756757
          ],
          [
           "CREATIVE PRODUCTIONS",
           2
          ],
          [
           "CRILA",
           0.08771929824561403
          ],
          [
           "CRUZ ROJA HONDUREÑA",
           0.056962025316455694
          ],
          [
           "CUERPO DE BOMBEROS",
           0.14634146341463414
          ],
          [
           "CURSILLO DE CRISTIANDAD",
           2
          ],
          [
           "DAI GLOBAL LLC",
           2
          ],
          [
           "DAMIAN ORTIZ",
           0.07407407407407407
          ],
          [
           "DANIA RIVERA",
           3
          ],
          [
           "DANIELA LOPEZ",
           1.9
          ],
          [
           "DANIELA SIKAFFY",
           2
          ],
          [
           "DARWIN MATUTE",
           0.200836820083682
          ],
          [
           "DAVID SANIN MANAIZA RAMIREZ",
           3
          ],
          [
           "DELIVERY EXPRESS HONDURAS",
           0.2857142857142857
          ],
          [
           "DELVIN LOZANO ROMERO",
           3
          ],
          [
           "DENNIE BUSH",
           1.3675889328063242
          ],
          [
           "DEPASO MARKET",
           0.97165991902834
          ],
          [
           "DEPOSITO AGUILAR",
           0.12244897959183673
          ],
          [
           "DESAROLLO COMUNITARIO",
           2
          ],
          [
           "DESAROLLOS CONSTRUCTIVOS S.A DE C.V.",
           1.1666666666666667
          ],
          [
           "DI FIESTA",
           2
          ],
          [
           "DIALISES DE HONDURAS",
           2
          ],
          [
           "DIANA BODDEN",
           3
          ],
          [
           "DIBELSA",
           1
          ],
          [
           "DIDEMOS  BOLETOS",
           2
          ],
          [
           "DIFIESTA",
           0.05
          ],
          [
           "DIHSA",
           2
          ],
          [
           "DIMARGO:DIMARGO LOS MAESTROS",
           1.664
          ],
          [
           "DIPTEC",
           3
          ],
          [
           "DIRECCION DEPARTAMENTAL DE ATLANTIDA",
           0.38095238095238093
          ],
          [
           "DIRECCION MUNICIPAL DE EDUCACION DEL PORV",
           2
          ],
          [
           "DIRGEN",
           0.025477707006369428
          ],
          [
           "DISTRIBUIDORA ADRIANA",
           3
          ],
          [
           "DISTRIBUIDORA BEER ZONE",
           0.22727272727272727
          ],
          [
           "DISTRIBUIDORA DE PRODUCTOS FERNANDA",
           0.08906882591093117
          ],
          [
           "DISTRIBUIDORA EL SICILIANO",
           3
          ],
          [
           "DISTRIBUIDORA ISTMANIA",
           0.2731707317073171
          ],
          [
           "DISTRITO SECTOR CENTRO",
           2
          ],
          [
           "DIVAYO",
           0.14917127071823205
          ],
          [
           "DNII",
           0.125
          ],
          [
           "DOMINGO GALEANO",
           0.04081632653061224
          ],
          [
           "DURACRETO SA DE CV",
           0.5518672199170125
          ],
          [
           "E.S.M",
           0.15873015873015872
          ],
          [
           "ECI BUCANERO",
           1.1428571428571428
          ],
          [
           "EDGAR LOPEZ",
           0.08411214953271028
          ],
          [
           "EDUCA SA",
           2
          ],
          [
           "EDUCACION DEL ATLANTICO",
           0.07142857142857142
          ],
          [
           "EL CRUCERO",
           1.6758893280632412
          ],
          [
           "ELLAS VELASQUEZ",
           4
          ],
          [
           "EMBOTELLADORA DE SULA S.A.",
           0.08783783783783784
          ],
          [
           "EMILIA DECUIRE",
           2
          ],
          [
           "ENAN ESAU OCHOA FERRUFINO",
           3
          ],
          [
           "ENEE",
           3
          ],
          [
           "ESC JOSE TRINIDAD CABAÑAS",
           2
          ],
          [
           "ESC. RAMON QUINTANILLA JACOME",
           4
          ],
          [
           "ESCUELA BILINGUE LA CEIBA",
           3
          ],
          [
           "ESCUELA BILINGUE SAN ISIDRO",
           3
          ],
          [
           "ESCUELA CABAÑAS",
           2
          ],
          [
           "ESCUELA EPISCOPAL",
           0.05128205128205128
          ],
          [
           "ESCUELA MIGUEL PAZ BARAHONA",
           2
          ],
          [
           "ESCUELA PARROQUIAL SAN ISIDRO",
           0.06349206349206349
          ],
          [
           "ESCUELA RAMON MONTOYA",
           2
          ],
          [
           "ESTACION CORDILLERA",
           0.46825396825396826
          ],
          [
           "ESTACION LA VIRGEN",
           0.43373493975903615
          ],
          [
           "ESTACION TOMALA",
           0.14136125654450263
          ],
          [
           "EVELIN LIZZETH RODRIGUEZ",
           9.5
          ],
          [
           "FARMACIA ROTEL",
           2
          ],
          [
           "FEMAVI CONSTRUCCION",
           0.2
          ],
          [
           "FERNANDO ROVELO",
           3
          ],
          [
           "FERRECOMSA",
           2
          ],
          [
           "FERREXPRESS",
           0.061224489795918366
          ],
          [
           "FFH",
           0.3192488262910798
          ],
          [
           "FIESTA IMPORT",
           2
          ],
          [
           "FIHNEC",
           2
          ],
          [
           "FINCA CASCADAS CORINTO",
           0.08974358974358974
          ],
          [
           "FOAM DE HONDURAS",
           0.06451612903225806
          ],
          [
           "FRANK GOLF",
           0.36213991769547327
          ],
          [
           "FRANQUICIAS Y TIENDAS DE CONVENIENCIA",
           0.8976377952755905
          ],
          [
           "FRONTERA INVERSIONES",
           0.9325396825396826
          ],
          [
           "FUERZAS ARMADAS DE HONDURAS",
           2
          ],
          [
           "FUM YIM",
           0.42592592592592593
          ],
          [
           "FUNDACION AYUDA EN ACCION",
           0.05263157894736842
          ],
          [
           "FUNDACION EDUCATIVA EBENEZER",
           2
          ],
          [
           "FUNDACION NINO CON CANCER",
           2
          ],
          [
           "FUNDACION REYNALDO CANALES",
           0.12280701754385964
          ],
          [
           "FUNDEVI",
           0.024691358024691357
          ],
          [
           "FUPNAPIB",
           0.02926829268292683
          ],
          [
           "GAMES MASTER",
           0.08163265306122448
          ],
          [
           "GASOLINERA INVERSIONES ROSA",
           2
          ],
          [
           "GERARDO CABALLERO CASTILLO",
           2
          ],
          [
           "GERARDO FAJARDO",
           20
          ],
          [
           "GEYDI SARAI GARCIA",
           2
          ],
          [
           "GLENDA KARINA CASTRO GAVARRETE",
           2
          ],
          [
           "GLOBAL CAS",
           0.08888888888888889
          ],
          [
           "GLORIAS DEL RECUERDO",
           0.5344129554655871
          ],
          [
           "GRAHAM PLACE",
           0.06965174129353234
          ],
          [
           "GRUPO CORDERO Y LEON",
           0.022099447513812154
          ],
          [
           "GRUPO CRISTINA",
           3
          ],
          [
           "GRUPO FERPECO",
           3
          ],
          [
           "GRUPO INDUSTRIAL DEQUIN",
           0.07142857142857142
          ],
          [
           "GRUPO LOMA DE BUENOS AIRE",
           2
          ],
          [
           "GRUPO RESTORA",
           0.23076923076923078
          ],
          [
           "GUADALUPE TABORA MONTOYA",
           5
          ],
          [
           "GUADALUPE TRINIDAD TABORA MONTOYA",
           0.06666666666666667
          ],
          [
           "HARRY KIRRINGTON",
           0.03821656050955414
          ],
          [
           "HAYKI INVESTMENT S.A",
           1
          ],
          [
           "HEA",
           2
          ],
          [
           "HECTOR LANZA",
           2
          ],
          [
           "HECTOR PADILLA",
           2
          ],
          [
           "HELADERIA MICHOACANA",
           0.22764227642276422
          ],
          [
           "HELADITOS Y MAS",
           2.4126984126984126
          ],
          [
           "HENRY GRABRIE",
           2
          ],
          [
           "HONDUCOR",
           2
          ],
          [
           "HONDUTEL:HONDUTEL BARRIO MEJIA",
           0.1111111111111111
          ],
          [
           "HONDUTEL:HONDUTEL CENTRO",
           0.16393442622950818
          ],
          [
           "HOTEL LAS HAMACAS",
           0.20253164556962025
          ],
          [
           "HOTEL MAR AZUL",
           2
          ],
          [
           "HOTEL MONTSERRAT",
           0.0975609756097561
          ],
          [
           "HOTEL VILLA RINA",
           0.35398230088495575
          ],
          [
           "HOTELERA CEIBENA PINEDA CARIAS",
           2
          ],
          [
           "I.N.P. INSTITUTO EL PORVENIR",
           0.07692307692307693
          ],
          [
           "ICF",
           0.15763546798029557
          ],
          [
           "IDALIA ZELAYA",
           1.023715415019763
          ],
          [
           "IDHC",
           5
          ],
          [
           "IGLESIA ADVENTISTA",
           2
          ],
          [
           "IGLESIA BAUTISTA MONTE HOREB",
           2
          ],
          [
           "IGLESIA CATOLICA COM. GUADALUPE",
           0.3076923076923077
          ],
          [
           "IGLESIA DE CRISTO ELIM",
           2
          ],
          [
           "IGLESIA DE CRISTO ELSIR",
           0.125
          ],
          [
           "IGLESIA DE DIOS",
           2
          ],
          [
           "IGLESIA DE DIOS EN HONDURAS",
           0.4666666666666667
          ],
          [
           "IGLESIA DE JESUCRISTO DE LOS SANTOS",
           2
          ],
          [
           "IGLESIA DE JESUCRISTO SUD",
           0.1111111111111111
          ],
          [
           "IGLESIA DE JUDA MONTE DE SION",
           0.12396694214876033
          ],
          [
           "IGLESIA EL FARO",
           0.125
          ],
          [
           "IGLESIA EVANGELICA MENONITA",
           3
          ],
          [
           "IGLESIA GRAN COMISION",
           0.10833333333333334
          ],
          [
           "IGLESIA INMACULADO CORAZON DE MARIA",
           3
          ],
          [
           "IGLESIA MENONITA",
           0.07936507936507936
          ],
          [
           "IGLESIA MICAP",
           1.5
          ],
          [
           "IGLESIA PENUEL",
           2
          ],
          [
           "IGLESIA SUYAPITA",
           0.03424657534246575
          ],
          [
           "IGLESIA TSIDKEVO",
           0.07894736842105263
          ],
          [
           "IHSS",
           0.16129032258064516
          ],
          [
           "IMECC",
           0.14736842105263157
          ],
          [
           "IMRECOH",
           2
          ],
          [
           "INAZA",
           0.4186991869918699
          ],
          [
           "INCER",
           2.4285714285714284
          ],
          [
           "INCESA",
           4
          ],
          [
           "INDIFESA",
           0.28695652173913044
          ],
          [
           "INDUSTRIAS CANARIO",
           0.26666666666666666
          ],
          [
           "INFOP",
           0.04932735426008968
          ],
          [
           "INGELCOM",
           0.0718562874251497
          ],
          [
           "INGENIERIA, IMPORTAC Y SOLUC ENERGETICAS",
           3
          ],
          [
           "INST CUMBRE DE AGUILAS",
           2
          ],
          [
           "INSTITUTO GUBERNAMENTAL MANUEL BONILLA",
           0.023391812865497075
          ],
          [
           "INSTITUTO JOSE MANUEL DIAZ PALMA",
           2
          ],
          [
           "INSTITUTO JOSE TRINIDAD REYES",
           0.17142857142857143
          ],
          [
           "INSTITUTO MANUEL BONILLA",
           0.15527950310559005
          ],
          [
           "INSTITUTO NACIONAL PENITENCIARIO",
           4
          ],
          [
           "INSTITUTO OFICIAL LA CEIBA",
           3
          ],
          [
           "INSTITUTO SAN ISDRO",
           0.05454545454545454
          ],
          [
           "INTERCENTRO",
           0.04784688995215311
          ],
          [
           "INTERMEDICAL GROUP",
           0.057692307692307696
          ],
          [
           "INVERCIONES UNIVERSAL",
           3
          ],
          [
           "INVERSIONES ARABICKA",
           0.05970149253731343
          ],
          [
           "INVERSIONES ARGUETA",
           3
          ],
          [
           "INVERSIONES ASCENCIO",
           0.2222222222222222
          ],
          [
           "INVERSIONES CARINEC",
           0.2727272727272727
          ],
          [
           "INVERSIONES CATRACHAS",
           0.04697986577181208
          ],
          [
           "INVERSIONES CRISTAL",
           2
          ],
          [
           "INVERSIONES DEL CARIBE",
           2
          ],
          [
           "INVERSIONES DINERO URGENTE",
           0.10240963855421686
          ],
          [
           "INVERSIONES DOMINIQUE",
           0.24
          ],
          [
           "INVERSIONES HELDRIC",
           2
          ],
          [
           "INVERSIONES JOSUE 1.9",
           4
          ],
          [
           "INVERSIONES JSR",
           2
          ],
          [
           "INVERSIONES LAS HAMACAS",
           0.031496062992125984
          ],
          [
           "INVERSIONES LAS PALMAS S.A.",
           0.0425531914893617
          ],
          [
           "INVERSIONES MACARI",
           1.6666666666666667
          ],
          [
           "INVERSIONES MARITIMA F.I.G.A",
           2
          ],
          [
           "INVERSIONES MARURBI S. DE R.L.",
           0.35833333333333334
          ],
          [
           "INVERSIONES MKJN",
           2
          ],
          [
           "INVERSIONES MULTIPLES HAMBUS",
           3
          ],
          [
           "INVERSIONES OLIVA FRANCISCO S DE RL",
           0.02727272727272727
          ],
          [
           "INVERSIONES SABILLON DEDIEGO",
           2
          ],
          [
           "INVERSIONES TURCIOS",
           0.24675324675324675
          ],
          [
           "INVERSIONES TURISTICAS NASSER URBINA",
           0.10606060606060606
          ],
          [
           "INVERSIONES TURISTICAS PICO BONITO",
           0.06976744186046512
          ],
          [
           "INVERSIONES TURISTICAS TECKNOS SA DE CV",
           2
          ],
          [
           "ISABEL LAINEZ",
           0.09236947791164658
          ],
          [
           "ITLA",
           0.12698412698412698
          ],
          [
           "IVAN BETANCOURTH",
           0.25
          ],
          [
           "JAIME BLANCO",
           2
          ],
          [
           "JANE DISCUA",
           2
          ],
          [
           "JARDIN DE NIÑOS ALFONSO GUILLEN ZELAYA",
           4
          ],
          [
           "JARDINERIA DIAZ",
           0.12903225806451613
          ],
          [
           "JARDINES Y PISCINAS",
           2
          ],
          [
           "JEIMY GUERRINO",
           3
          ],
          [
           "JENIFER CERRATO",
           2
          ],
          [
           "JERSON GALEAS",
           3
          ],
          [
           "JERUSALEN",
           0.05741626794258373
          ],
          [
           "JOAQUIN MEJIA",
           0.09836065573770492
          ],
          [
           "JOEL GARCIA",
           3
          ],
          [
           "JOHAN MARTELL",
           2
          ],
          [
           "JOSE LOPEZ",
           2
          ],
          [
           "JUAN JOSE RAMIREZ PACHECO",
           3
          ],
          [
           "JUAN RAMIRES PACHECO",
           4
          ],
          [
           "JULIE'S RESTAURANTE",
           1.9193548387096775
          ],
          [
           "JULIO ROMERO",
           5
          ],
          [
           "KATHERINE THALIA ZELAYA TEJEDA",
           4
          ],
          [
           "KELDY BERMUDEZ",
           3
          ],
          [
           "KIDDIE KLOSET",
           3
          ],
          [
           "KM CARS",
           0.07177033492822966
          ],
          [
           "L & L MARKET",
           0.14893617021276595
          ],
          [
           "LA MERIENDA",
           0.6375838926174496
          ],
          [
           "LA PROCOTURH",
           0.12307692307692308
          ],
          [
           "LACTEOS CN",
           0.26666666666666666
          ],
          [
           "LACTEOS SAN JOSE",
           0.12021857923497267
          ],
          [
           "LANHSA",
           0.03636363636363636
          ],
          [
           "LAPROCOTURH",
           0.0625
          ],
          [
           "LEGADOS MUEBLERIA S DE RL",
           3
          ],
          [
           "LER ILLA",
           2
          ],
          [
           "LIBERTY NETWORKS HONDURAS",
           0.06278026905829596
          ],
          [
           "LIGA CEIBEÑA DE VOLLEYBALL",
           3
          ],
          [
           "LIRO INVERSIONES",
           2
          ],
          [
           "LOBOS ACADEMY",
           0.06896551724137931
          ],
          [
           "LOGISTICA FINANCIERA",
           2
          ],
          [
           "LOHPORDE",
           0.5714285714285714
          ],
          [
           "LOS ALMENDROS",
           1.0612244897959184
          ],
          [
           "LUIS ENRIQUE MARTINEZ ROMERO",
           2
          ],
          [
           "MAD LA CEIBA",
           2
          ],
          [
           "MAD PUER",
           0.032407407407407406
          ],
          [
           "MAD-PUER",
           0.08860759493670886
          ],
          [
           "MALCOLM VALENTIN VASQUEZ NAZAR",
           6
          ],
          [
           "MANANTIAL",
           0.746938775510204
          ],
          [
           "MARCIO ESPINAL",
           2
          ],
          [
           "MARCO TULIO PADILLA",
           3
          ],
          [
           "MARIA MARITZA VARELA",
           2
          ],
          [
           "MARIBEL ESPINOZA TURCIOS",
           2
          ],
          [
           "MARIELA HERNANDEZ MARTINEZ",
           0.16470588235294117
          ],
          [
           "MARKET 504",
           2
          ],
          [
           "MARTHA LETICIA IRIAS",
           2
          ],
          [
           "MATERIALES NUEVO MUNDO",
           2
          ],
          [
           "MELUYO",
           1.5634920634920635
          ],
          [
           "MELVIN DIAZ",
           2
          ],
          [
           "MEMORIALES DEL CARIBE",
           0.07272727272727272
          ],
          [
           "MERCADITO VALENTINA",
           0.1782178217821782
          ],
          [
           "MIGUEL ANGEL LEIVA CHINCHILLA",
           2
          ],
          [
           "MILTON ROMERO",
           0.1975806451612903
          ],
          [
           "MINI MARKET",
           0.5
          ],
          [
           "MINI MARKET HOTEL LAS CABAÑAS",
           0.2727272727272727
          ],
          [
           "MINISTERIO AGUA EN EL DESIERTO",
           0.05442176870748299
          ],
          [
           "MINISTERIO PENTECOSTES YAHVEH ELOHIM",
           0.0641025641025641
          ],
          [
           "MINISUPER EBENEZER",
           0.34782608695652173
          ],
          [
           "MIRIAN LAZO",
           2
          ],
          [
           "MIRIAN TORRES",
           6
          ],
          [
           "MISS ROXETTE",
           2
          ],
          [
           "MISS WALDI",
           3
          ],
          [
           "MOJITOS",
           0.20512820512820512
          ],
          [
           "MONTES Y ASOCIADOS S DE R.L.",
           0.27976190476190477
          ],
          [
           "MOON SHINE",
           0.13068181818181818
          ],
          [
           "MORA CAFE",
           0.4
          ],
          [
           "MOTOMUNDO",
           2
          ],
          [
           "MOVIMIENTO CURSILLO DE CRISTIANDAD",
           3
          ],
          [
           "MOVIMIENTO DE CURSILLOS DE CRISTIANDAD",
           1
          ],
          [
           "MOVIMIENTO PAPI A LA ORDEN/GERARDO FAJARD",
           3
          ],
          [
           "MUKA CAFE",
           1.224
          ],
          [
           "MULTIENVIOS EXPRESS",
           0.09433962264150944
          ],
          [
           "MUNICIPAL JUAN FCO BULNES GRACIAS A DIOS",
           2
          ],
          [
           "MUNICIPALIDAD DE LA CEIBA",
           0.3155080213903743
          ],
          [
           "MUNICIPALIDAD DE SAN FRANCISCO",
           0.11594202898550725
          ],
          [
           "NACEL DE HONDURAS S.A,D.C.V",
           0.23880597014925373
          ],
          [
           "NAHUM MARTINEZ",
           2
          ],
          [
           "NASEL DE HONDURAS S.A. DE C.V.",
           0.38461538461538464
          ],
          [
           "NATURAL Y RICO",
           0.15555555555555556
          ],
          [
           "NAVA INVERSIONES S DE RL",
           2
          ],
          [
           "NELSON HERNAN MATUTE GARCIA",
           2
          ],
          [
           "NILSA BARRIOS",
           0.36403508771929827
          ],
          [
           "NORA RAUDALES",
           3
          ],
          [
           "NORTH OCEANICA S DE RL",
           1.6758893280632412
          ],
          [
           "NORTH OCEANICA S DE RL:INVERSIONES CANGREJAL",
           0.6585365853658537
          ],
          [
           "OASIS DEL SEÑOR",
           3
          ],
          [
           "ODECO",
           0.07142857142857142
          ],
          [
           "OFRANEH",
           2.3333333333333335
          ],
          [
           "OPERADORA DE FRANQUICIAS MONTECRISTO S.A:GASOLINERA EL PARQUE",
           0.6456692913385826
          ],
          [
           "OPERADORA DE FRANQUICIAS MONTECRISTO S.A:GASOLINERA EL SAUCE",
           0.7301587301587301
          ],
          [
           "OPROUCE",
           0.1111111111111111
          ],
          [
           "PADOVA SA DE CV",
           2
          ],
          [
           "PALENQUE LOS AMIGOS",
           0.14427860696517414
          ],
          [
           "PALMA CARIBE",
           0.23529411764705882
          ],
          [
           "PALMA DE ATLANTIDA",
           2
          ],
          [
           "PALMAS BAR",
           2
          ],
          [
           "PAPELERÍA Y DETALLES Y MÁS",
           0.07317073170731707
          ],
          [
           "PARTIDO LIBERTAD Y REFUNDACION",
           0.03571428571428571
          ],
          [
           "PATRICIA ANARIBA",
           2
          ],
          [
           "PATRONATO DE LOS MAESTROS",
           2
          ],
          [
           "PGR",
           0.055865921787709494
          ],
          [
           "PINTURAS LA ISLA",
           2
          ],
          [
           "PIZZERIA ALBACA",
           0.7107438016528925
          ],
          [
           "PLAY LAND PARK S.A. DE C.V.",
           1
          ],
          [
           "PLAZA CABOTAJE",
           1.342629482071713
          ],
          [
           "PNRP",
           2
          ],
          [
           "PRECASA",
           0.06593406593406594
          ],
          [
           "PRESTA AUTOS",
           0.07079646017699115
          ],
          [
           "PRIMER BATALLON DE INFANTERIA MARINA",
           2
          ],
          [
           "PRODUCCIONES PUBLICITARIAS",
           2
          ],
          [
           "PUBLI IDEAS",
           0.12280701754385964
          ],
          [
           "PULPERIA ALEJANDRA",
           0.2597402597402597
          ],
          [
           "PULPERIA ALEMAN",
           1.0434782608695652
          ],
          [
           "PULPERIA CAMPAMENTO",
           3
          ],
          [
           "PULPERIA CANDELARIA",
           0.37446808510638296
          ],
          [
           "PULPERIA CARDENA",
           3
          ],
          [
           "PULPERIA DANIA",
           0.16
          ],
          [
           "PULPERIA EL AHORRO",
           0.3711340206185567
          ],
          [
           "PULPERIA GABY",
           0.07894736842105263
          ],
          [
           "PULPERIA LA INDEPENDENCIA",
           2
          ],
          [
           "PULPERIA LA SEDE",
           0.14207650273224043
          ],
          [
           "PULPERIA PATTY",
           0.41379310344827586
          ],
          [
           "PULPERIA ROSSY",
           0.11016949152542373
          ],
          [
           "QUEEN BEES",
           3
          ],
          [
           "RADIO SAN ISIDRO",
           0.08403361344537816
          ],
          [
           "REGION DE SALUD 1",
           0.1111111111111111
          ],
          [
           "REGION DE SALUD 1:HOSPITAL METROPOLITANO",
           0.2880658436213992
          ],
          [
           "REGION DE SALUD 1:HOSPITAL METROPOLITANO:ESTABLECIMIENTO DE SALUD METROPOLITANO",
           2
          ],
          [
           "REGION DE SALUD 1:REGION DE SALUD # UNO",
           0.4147727272727273
          ],
          [
           "REGION DE SALUD 1:REGION DE SALUD BUFALO",
           2
          ],
          [
           "REGION DE SALUD 1:REGION DE SALUD CONFITE",
           0.21739130434782608
          ],
          [
           "REGION DE SALUD 1:REGION DE SALUD COROZAL",
           0.1694915254237288
          ],
          [
           "REGION DE SALUD 1:REGION DE SALUD EL PORVENIR",
           0.5555555555555556
          ],
          [
           "REGION DE SALUD 1:REGION DE SALUD PIZZATY",
           0.1592356687898089
          ],
          [
           "REGION DE SALUD 1:REGION DE SALUD SAMBO CREEK",
           0.2
          ],
          [
           "REGION DE SALUD 1:REGION DE SALUD SAN FRANCISCO",
           4
          ],
          [
           "REGION DE SALUD 1:REGION DE SALUD TELA",
           2
          ],
          [
           "REGION DE SALUD 1:REGIÓN DE SALUD JUTIAPA",
           2
          ],
          [
           "REGISTRO TRIBUTARIO NACIONAL",
           0.06666666666666667
          ],
          [
           "RELEK S DE RL",
           3
          ],
          [
           "REMOTOS CAR",
           0.05747126436781609
          ],
          [
           "REO RENT A CAR S DE RL",
           2
          ],
          [
           "REPOSTERIA RAQUEL",
           0.5842105263157895
          ],
          [
           "REPOSTERÍA THEOS",
           0.22784810126582278
          ],
          [
           "REPRESTACIONES DEL ESTE DE S DE RL DE CV",
           3
          ],
          [
           "RESERVACIONES LA CEIBA",
           0.07194244604316546
          ],
          [
           "RESPOSTERIA RAQUEL",
           0.0594059405940594
          ],
          [
           "RESTAURANTE AROMA Y SABOR",
           0.25882352941176473
          ],
          [
           "RESTAURANTE ENTRE DOS TIERRAS",
           2
          ],
          [
           "RESTAURANTE FLAMENCOS",
           2
          ],
          [
           "RESTAURANTE LA CASA",
           1.0909090909090908
          ],
          [
           "RESTAURANTE LA HACIENDA",
           2
          ],
          [
           "RESTAURANTE LEÓN",
           0.43478260869565216
          ],
          [
           "RESTAURANTE PLAYA NORTE",
           2
          ],
          [
           "RESTAURANTE SEBAS",
           2
          ],
          [
           "REYNA LIZETH HERNANDEZ ROMERO",
           3
          ],
          [
           "RHEMA",
           2
          ],
          [
           "ROBINSON LOBO",
           6
          ],
          [
           "RONALD COOPER",
           1.2771084337349397
          ],
          [
           "ROSTIPOLLO DEL PASO",
           4
          ],
          [
           "ROTARY CLUB DE LA CEIBA",
           2
          ],
          [
           "RUFINO GALO",
           0.06521739130434782
          ],
          [
           "SABORES DE MI H",
           1.2490118577075098
          ],
          [
           "SALA EVANGELICA",
           0.30303030303030304
          ],
          [
           "SALON CAMILAS",
           0.1724137931034483
          ],
          [
           "SAMA BISTRO",
           0.5581395348837209
          ],
          [
           "SAMARA CAFE",
           2
          ],
          [
           "SANDRA CALIX",
           0.3377777777777778
          ],
          [
           "SANDRA CECILIA SOSA VEGA",
           2
          ],
          [
           "SANTA FE EL PINO",
           0.08823529411764706
          ],
          [
           "SANTA TERESA S DE R.L. DE C.V.",
           3
          ],
          [
           "SATELCAB S. DE R.L.",
           2
          ],
          [
           "SATRERIA ISLEÑA",
           2
          ],
          [
           "SAVE THE CHILDREN",
           0.3333333333333333
          ],
          [
           "SAZON ISLENO",
           1.7822222222222222
          ],
          [
           "SECRETARIA DE EDUCACION",
           2
          ],
          [
           "SEDENA/FUERZA NAVAL",
           2
          ],
          [
           "SEEN",
           2
          ],
          [
           "SELVIN GARCIA",
           3
          ],
          [
           "SELVIN HERRERA",
           0.26576576576576577
          ],
          [
           "SERDICON",
           3
          ],
          [
           "SERNA",
           0.1728395061728395
          ],
          [
           "SERVICENTRO PALMERAS",
           0.9212598425196851
          ],
          [
           "SERVICENTRO RIO MARIA 1",
           0.3715415019762846
          ],
          [
           "SERVICENTRO RIO MARIA 2",
           0.7637795275590551
          ],
          [
           "SERVICIO DE ADMINISTRACION DE RENTAS",
           0.10256410256410256
          ],
          [
           "SERVICIO DE ADMINISTRACION DE RENTAS:SAR LA CEIBA",
           0.07643312101910828
          ],
          [
           "SERVICIO DE ADMINISTRACION DE RENTAS:SAR ROATAN",
           0.035398230088495575
          ],
          [
           "SERVICIOS EDUCATIVOS  S. DE R.L",
           0.1724137931034483
          ],
          [
           "SERVICIOS EMPRESARIALES MULTIPLES",
           2
          ],
          [
           "SERVICIOS MULTIPLES DE Y M",
           0.13839285714285715
          ],
          [
           "SERVIFIESTAS EUROPA",
           2
          ],
          [
           "SITRABANTRAL",
           2
          ],
          [
           "SITRAINFOP",
           0.27358490566037735
          ],
          [
           "SITRAMEDHYS",
           0.08333333333333333
          ],
          [
           "SITRAMUNP",
           2
          ],
          [
           "SITRASANAYS",
           3
          ],
          [
           "SITRATELH",
           3
          ],
          [
           "SOCIEDAD C. D. Y SOCIAL VIDA",
           2.142857142857143
          ],
          [
           "SOCIEDAD PARA MISIONES DOMESTICAS Y EXTRA",
           4
          ],
          [
           "SOLUZ",
           0.05303030303030303
          ],
          [
           "SOLUZ HONDURAS S.A. DE C.V.",
           0.10426540284360189
          ],
          [
           "SPORT FITNESS- OLANCHITO",
           0.037267080745341616
          ],
          [
           "SPORT GYM:RAISE SOLUTIONS S DE R.L.",
           0.26337448559670784
          ],
          [
           "SPORT GYM:SPORT GYM II S. A.",
           0.2775330396475771
          ],
          [
           "SPORT GYM:SPORT GYM PLAZA CAYETANO S DE RL",
           0.2268041237113402
          ],
          [
           "STANDARD FRUIT DE HONDURAS S.A.",
           0.07692307692307693
          ],
          [
           "STENEE",
           0.10588235294117647
          ],
          [
           "STORE MART SAN ISIDRO",
           0.6547619047619048
          ],
          [
           "SUPER AUTOS AMERICANOS",
           0.5
          ],
          [
           "SUPER BODEGA",
           0.3510204081632653
          ],
          [
           "SUPERMERCADOS SAMIR",
           0.2682926829268293
          ],
          [
           "SUPLICE S DE R.L.",
           0.24561403508771928
          ],
          [
           "SUSAN DE HAYLOCK",
           0.16736401673640167
          ],
          [
           "TALLER ELECTRICO LOPEZ",
           0.30097087378640774
          ],
          [
           "TALLER RAUDALES",
           0.05405405405405406
          ],
          [
           "TANIA COOPER",
           0.17872340425531916
          ],
          [
           "TANIA RIVERA",
           2
          ],
          [
           "TATIANA BRITO",
           0.09271523178807947
          ],
          [
           "TECKNOS SOLAR",
           2
          ],
          [
           "TECNOS DESIGN COMPUTADORAS",
           0.2702702702702703
          ],
          [
           "TEKCOM",
           0.24528301886792453
          ],
          [
           "TEKNOS SOLAR",
           0.6
          ],
          [
           "TEVISAT",
           0.11931818181818182
          ],
          [
           "TIPICO CEIBEÑO",
           0.8780487804878049
          ],
          [
           "TIPICOS CEIBEÑOS",
           2
          ],
          [
           "TO GO CAFE",
           2.507936507936508
          ],
          [
           "TO GO PREMIERE",
           1.84375
          ],
          [
           "TODO CAFE",
           0.13432835820895522
          ],
          [
           "TOMAS ANTONIO RAMIREZ",
           3
          ],
          [
           "TRANSPORTE DEL ATLANTICO",
           3
          ],
          [
           "TRANSPORTE SAN MIGUEL",
           0.20689655172413793
          ],
          [
           "TURISMO VERSATIL",
           3.1146245059288535
          ],
          [
           "TURISTICAS FENIX S A",
           2
          ],
          [
           "UFINET",
           1
          ],
          [
           "UNICUS S.A.",
           0.17647058823529413
          ],
          [
           "URBANO CHICKEN",
           0.29838709677419356
          ],
          [
           "URSULA RUIZ",
           0.5377358490566038
          ],
          [
           "VENTER STORE",
           0.22274881516587677
          ],
          [
           "VERONICA JOHNSON",
           0.33739837398373984
          ],
          [
           "VIBROBLOCK",
           0.29411764705882354
          ],
          [
           "VICTOR LOBO",
           0.06756756756756757
          ],
          [
           "VICTOR LOPEZ",
           0.15853658536585366
          ],
          [
           "VICTOR MANUEL PEREIRA",
           2
          ],
          [
           "VICTORIA VETERANOS",
           0.39111111111111113
          ],
          [
           "VISION MUNDIAL DE HONDURAS",
           3
          ],
          [
           "WALLNELA MIDENCE",
           2
          ],
          [
           "WALTER LARA",
           3
          ],
          [
           "WANELLA MIDENCE",
           0.10204081632653061
          ],
          [
           "WILMER GALO",
           0.06989247311827956
          ],
          [
           "WILSON GALO",
           0.034782608695652174
          ],
          [
           "XIOMARA FIGUEROA",
           0.19285714285714287
          ],
          [
           "YAHVEH-ELOHIM",
           3
          ],
          [
           "YAMI REYES",
           0.7233201581027668
          ],
          [
           "YASSER RABAH",
           0.2
          ],
          [
           "YENY MERSEDES RODRIGUEZ RIOS",
           0.7777777777777778
          ],
          [
           "YUDE CANAHUATI SA DE CV",
           2
          ],
          [
           "YULISSA VILORIO",
           2
          ],
          [
           "ZOILA MARTINEZ",
           4
          ]
         ],
         "hovertemplate": "Número de Transacciones=%{x}<br>Ventas Totales ($)=%{y}<br>Ticket Promedio ($)=%{marker.color}<br>Name=%{customdata[0]}<br>Frecuencia_Compras=%{customdata[1]}<extra></extra>",
         "legendgroup": "",
         "marker": {
          "color": {
           "bdata": "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",
           "dtype": "f8"
          },
          "coloraxis": "coloraxis",
          "size": {
           "bdata": "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",
           "dtype": "f8"
          },
          "sizemode": "area",
          "sizeref": 18.1125,
          "symbol": "circle"
         },
         "mode": "markers",
         "name": "",
         "orientation": "v",
         "showlegend": false,
         "type": "scatter",
         "x": {
          "bdata": "cQEzABwAcAAMAEYAAgCOAAQAAgAlAA8A0gAFAAQAAwACAAMAEAACAAUADAE9AQoABgAhABgAAgAEAGgAOAADAEwABgACAFkAAwAHABEABQACAAIABgB+AdIAAgCVAAcATAA4ADIAAgDqAj0ADAAJAKkAAgB+AC4AMgAkACAAKgBFABAAWAMgAdoBBwAEAAIAtQECAAMABgACAAQAAgAJAAQAOgAUABkANgAaAAoBBgADAAcArgAIAAQAAgBBACsAHAAtAAsASwADAAQAKAAeAPABmgEGAF8AygACAAMAPAANAMUAVAFWAY4BUgANAE0CZgIQABAAAQACAAIAEAArADsACwACAAIAAgBHABQA6QEGADMAAgAiAFUADABDAAIABAAEANIAAQACAAIAAgACAAcAPAACAAMATgACAAIAEgDlAGwAdgACAAYASQAkAEMAQQDjACQAAgAuAA4A0AE4AQwAAgAGAAIABQADAAIABQACAAIABQACAAMAFgBIAAIAAgAEAAIAAgACAD4AcACdAGMACgAFAAUAFwDrAAIA4gAKAAIABQAJAB4AAgACAAoAAwATAAIAMAADAAQAAwBaAfAABgACAAcAAgACAAMAAQACAAgAAgCgAQMACAACAAQAAwAFABYAAwA4AAIAGwAWAAYAhQAKAAgAEgACAAgAqAEEAA0AAgADAAMAAgAEAAMAAwACAAQAAgAEAAIAdgBsABsAEwACAAYAAwACAAYARAACAAIADgAMAFgA5ADrAAIALgAHAAIABAAHAAQABgAEAAIAAgAUAAIAAgAIAIQADgAEAAMAAwAOAAIAJAAFAAUABgAGAAIAAgACADgAYAICAAIADgAUABAAAgAEAFAAAgAMACAAAwEFAAIAAgAIAAIACAACAAcAAgAVAA8AHAADAA0AAwAFAAMAAgAFAAMAKAAOAAIAZwARAAQAIQAQAAsADAADAAIABAACAAYAGQAEAAMABgAKAAYAAwAEAAMABgAGAAcAAgACABEABgACAAQAAgAEAAYABQACAFYAAgADAAYAAgATAAcABgACABcAGAAFAAIAAgAEAAQAAgADAAIAAwAMAAYAAwACAAIAAwAEAHcABQAEAAMADAAPAA4AXwAYAAQAFgAGAAYAAwACAA4AAwACAAgAAgAEADQAAgACAAcABwAGALcAAgADAAIAAgAOAAYAAgACAIoBAgAEABIAAgAxAHgABgAIAAoAWAACAAYAAgADABAALwAXAAYAAgADAAEAGAAyARQAAgA7AAgAEAACAAUAIwACAAIAUwADAKgBogADAAYABwCkALgABAACAB0ABAACAAIACQAEAAIAAgAKAAIAVgAPAFEBAgAGAAgAAgAEAAcAFAAIAQMAWAADACAASAAMAAIAGgAMABoAAwAUAAsARgACAEkAAgAFAAoABQAZAAYABAACAAIABAADAAUAAgBvACQABgAKAAwAFgACAAIADAACAEYAAgACAAMAAgAGAD4BBAACAAwAPAEKAAUASAACAEwAAgAGAAMAAgACAAMAkQECAAIAAgADADsAAwAqAOoAXgDCAAQADAAEAAUAAgAfAAIAAgAdAAYAAgADAAMA7wEEAAcAFgAGAEAAPwAWAA4ACQClAAQAVgA3ADgAKAAfAAQAKgACAA4AAgAKAA0ACQAVACQAAgB4Ap0BEgADAAMABgAUAwIAAQAGAEoAOQAvAFMABQAPACcAAgBYAAMAAgADAAoADQAEABsAAwC3AAUABwACAAIABAA=",
          "dtype": "i2"
         },
         "xaxis": "x",
         "y": {
          "bdata": "AAAAAHBd+kCamZmZmaqbQAAAAACAM6lAzczMzIwWxkAAAAAAgDa0QEjhehTOwclAAAAAAACAZkAAAAAAALDWQAAAAAAAgHZAAAAAAACAVkAAAAAAAJqfQAAAAAAAAAAAAAAAAICp3EAAAAAAAJCYQAAAAAAAmJRAAAAAAACghEAAAAAAAMBSQAAAAAAAEINAAAAAAACI00AAAAAAAABZQAAAAAAAQG9AmpmZmcnF7kAAAAAAAJi8QAAAAAAAeKJAAAAAAAAghUAAAAAAAAAAAAAAAAAAAAAAAAAAAADwmEAAAAAAAJBlQAAAAACAJL5AAAAAAACjtUAAAAAAAEBfQAAAAAAAwLxAAAAAAACt1kAAAAAAAIBQQAAAAABAAbNAAAAAAACAWEDNzMzMzLKPQAAAAAAAAAAApHA9CtebgUAAAAAAAMBiQAAAAAAAwFJAAAAAAAAAAAAAAAAAwKzgQAAAAAAAYdJAAAAAAAAASUAAAAAATJIJQQAAAAAAAFtAAAAAAAAVykAAAAAAAN65QAAAAAAAlrNAAAAAAADeokAAAAAA8OEEQYXrUbieuMFAAAAAAADQeUAAAAAAALBzQDMzMzOjA95AAAAAAACARkAAAAAAAOzYQAAAAAAAOKhAAAAAAACQqkAAAAAAAMKqQAAAAAAAHrRAAAAAAAAks0AfhetRuEWbQDMzMzMzLJNAAAAAAKCn8UAAAAAAgAfOQAAAAABAUdRAAAAAAABAX0AAAAAAAKCEQAAAAAAAgGZAAAAAAKgX6UAAAAAAAABkQAAAAAAA2rZAAAAAAAAAiUAAAAAAAABJQAAAAAAAgHFAAAAAAAAAWUAAAAAAAJCDQAAAAAAAgHFAzczMzMwBw0AzMzMzMwifQAAAAAAAgqxAAAAAAIAwukAAAAAAAECvQOxRuB7FgL1AAAAAAEDdzkAAAAAAAHB3QAAAAADAftFAmpmZmRk9ykAAAAAAYMLpQAAAAAAAgsRAAAAAAADekkAAAAAAgHrSQAAAAAAAMsRA16NwPfqy8EAAAAAAbJ8EQT0K16Nw+JlAj8L1KNyYskAAAAAAgMHIQAAAAAAASpZAzczMzMzJqUAAAAAAIIYEQQAAAADAQtFAAAAAAIABykAAAAAAAMRzQAAAAAAAkHhAZmZmZgac2kAAAAAAAMBiQAAAAAAAwFJAAAAAAAAAAAAAAAAAADCBQAAAAACABdtAH4XrUTg+x0A9CtejfG0CQQAAAACQkd9ArkfhenS63UAAAAAAAECKQM3MzMyM/stAAAAAAKCK1EAAAAAAAACLQAAAAAAAAHlAexSuR+F6N0AAAAAAAIBWQAAAAAAAAGRAAAAAAABokEAAAAAAwK3VQAAAAAAAAAAAAAAAAABTu0AAAAAAAIB2QAAAAAAAMKFAAAAAAACAZkBSuB6FizLVQDMzMzMzF4pAAAAAAADKx0AAAAAAAAAAAAAAAAAAAAAAAAAAAADAYkAAAAAAAMrBQAAAAAAAKrdAzczMzEwjrUAAAAAAAAAAAAAAAAAAAGRApHA9CtdbYkAAAAAAAMB8QAAAAAAAoKtAH4XrUbjeNEAAAAAAAIBmQAAAAAAAAFJAAAAAAAAASUAAAAAAAABZQFK4HoXrS4VAFK5H4Ta98EAAAAAAAE3MQGZmZmZGg9FAAAAAAAAAAAAAAAAAAABJQAAAAAAAAIlA9ihcj8K1mUAAAAAAIN8AQTMzMzNTzeJAAAAAAACpzEAAAAAAAACOQAAAAAAAAAAAj8L1KNzwrEAAAAAAAPiBQAAAAAAAwKlAAAAAAAAAAACamZmZWWO7QK5H4XoUkqBAAAAAAAAAAAAAAAAAAAAAAAAAAAAA+JFAAAAAAACE4kC4HoXrsYTPQAAAAAAA5JtAAAAAAAAASUAAAAAAALidQAAAAAAAgGZApHA9Ctd7c0AAAAAAAABZQAAAAAAAkHVAAAAAAAAAaUAAAAAAAMBSQAAAAAAAAFlAAAAAAADQX0AAAAAAAIBmQAAAAAAAQG9AAAAAAADKsUAAAAAAABiqQAAAAAAAQF9AAAAAAADAUkAAAAAAAAh3QAAAAAAAAGRAAAAAAACAbEAAAAAAAIBmQClcj8J1TNZAPQrXoxjo5kCuR+F6FHzlQHE9CteLlfBAAAAAAACqoUAAAAAAAIhiQAAAAAAAAAAAAAAAAADok0AAAAAAgPbQQAAAAAAAgGZAAAAAAOD460AAAAAAAJB6QAAAAAAAAI5AAAAAAAAQeEAAAAAAADBwQNejcD0K2aZAAAAAAABwl0AAAAAAAMBiQAAAAAAAQJNAAAAAAADAckB7FK5H4VyXQAAAAAAAgGZAcT0K10Nt4EAAAAAAAIB2QAAAAAAAwGJAAAAAAACAkEAzMzMzFfQNQSlcj8IF0+JAAAAAAAAEkUAAAAAAAAAAAAAAAAAAkIpAAAAAAABAX0AAAAAAAIBmQAAAAAAAQGVA7FG4HoWbUUAAAAAAAABZQEjhehSuN3RAAAAAAAAAOUAzMzMzs2DXQAAAAAAAgG9A9ihcj8JNe0AAAAAAAABYQAAAAAAAIHxAAAAAAACogUD2KFyPwgl6QAAAAADAh8JAAAAAAACIk0BxPQrXYwu1QAAAAAAAAElA7FG4Hj2t5UAAAAAAAKKPQAAAAAAAmJ5AAAAAAPSpJkG4HoXrUbh+QAAAAAAAEHlAMzMzM2MI4EAAAAAAAMBSQAAAAAAAHJFAj8L1KGSh40CF61G4HtegQHE9CtdjWbdAAAAAAACAZkAAAAAAAMByQAAAAAAAQG9AAAAAAAAASUAAAAAAAEhnQAAAAAAAQF9AAAAAAABQcEAAAAAAAABZQAAAAAAAQHdAAAAAAACQZUAAAAAAAABpQAAAAAAAgFZAAAAAALAm6EAAAAAAIFDqQAAAAAAA38VAAAAAAIAoo0AAAAAAAABZQAAAAAAA4H1AAAAAAAAAAAAAAAAAAIBmQAAAAAAA8INAw/UoXI+5ukAAAAAAAABJQAAAAAAAgHZAAAAAAABJxEAAAAAAAGiAQOF6FK5/3PBAAAAAAKAW3EAAAAAAkB3xQAAAAAAAAAAAAAAAAACEsUC4HoXrUUh5QAAAAAAAAF5AAAAAAADAckAAAAAAADCFQAAAAAAA4HVAAAAAAADgdUAAAAAAAKBvQAAAAAAAXKdAAAAAAADekkAAAAAAAGWgQAAAAAAAAGRAAAAAAADggEAAAAAAAJyYQBSuR+EaKcRAAAAAAOB63UAAAAAAADBxQAAAAAAAwGhAAAAAAAAAeUAAAAAAANB7QAAAAAAAgHZAAAAAAADZtEAAAAAAAABiQAAAAAAAwG1AAAAAAACYpkAAAAAAAN7CQAAAAAAAgGZAAAAAAAAASUAAAAAAAICRQAAAAAAAiI1AH4XrUfii6UAAAAAAAFCEQAAAAAAAAElAAAAAAAAwnEAAAAAAADSnQAAAAAAAgLZAAAAAAABAX0DNzMzMzLx0QAAAAAAA57hAAAAAAAAAZEAAAAAAAPyXQAAAAAAAcHdAPQrXo4zlEEEAAAAAAGCEQAAAAAAAQG9AAAAAAACAVkAAAAAAAABuQAAAAAAAgGZAAAAAAABgekAAAAAAAICGQAAAAAAAsoFAAAAAAAAATkCkcD0K13CSQAAAAAAAWJRAAAAAAAA6oUAAAAAAAGiVQM3MzMzM+ohAAAAAAAAAAAAAAAAAAIB2QAAAAAAAAFlAAAAAAAAAWUAAAAAAAICBQAAAAAAAAAAAAAAAAAD6t0AAAAAAAGB6QAAAAAAAADlAcT0K11t48EAAAAAAAKiTQAAAAAAA3rJAAAAAAAC3o0AAAAAAALKpQAAAAAAAAGlAAAAAAADQjEAAAAAAAMBYQAAAAAAAwGJAAAAAAAAAZEAAAAAAAABZQAAAAAAAIHNAAAAAAABUk0AAAAAAANB2QAAAAAAA7HlAAAAAAADgkEAAAAAAAHB3QAAAAAAATL1AAAAAAABIhEAAAAAAAIBxQAAAAAAAkHhAAAAAAABAoEAAAAAAAACOQAAAAAAA+IFAAAAAAACAZkAAAAAAACCMQAAAAAAA6qBAAAAAAADghUAAAAAAAIBmQAAAAAAA4GRAAAAAAAAAdEAAAAAAAMCSQAAAAAAATL1AAAAAAAAggkAAAAAAAOCAQAAAAABw3etAAAAAAACAW0AAAAAAAACpQAAAAAAA8HRAAAAAAAAAWUAAAAAAwAO+QClcj8L13qZAAAAAAADgkEAAAAAAAIB2QM3MzMyscslAAAAAAABgjUAAAAAAAAB5QAAAAAAAgFtAAAAAAAAAZEAAAAAAAIBWQAAAAAAAAGJAAAAAAAAASUAAAAAAAAAAAAAAAAAAAAAAAAAAAACIs0AAAAAAAOCQQAAAAAAA4LBAAAAAAAAAeEAAAAAAAMCSQAAAAAAAgGZAAAAAAADAYkAAAAAAAABaQAAAAAAAa7JAAAAAAAAkqEAAAAAAAEiHQAAAAAAAgHBAAAAAAAAAoEAAAAAAAOBlQAAAAACATrBAzczMzIxlskBcj8L1KGCSQAAAAAAAAHRAj8L1KNzgtUAAAAAAACBsQKRwPQrXW3BAAAAAAABAX0AAAAAAAIBmQAAAAAAAqIZAAAAAAAAAAAAAAAAAAIBmQAAAAAAAoIBAAAAAAAAASUBxPQrXoxBmQAAAAAAAIq9AAAAAAAAAfkAAAAAAAOB1QAAAAAAAEKhAAAAAAADOqEAAAAAAAHCZQM3MzMxEKPJAAAAAAACAZkAAAAAAALB9QAAAAAAAQF9AAAAAAACAdkAAAAAAAIWmQAAAAAAAZIVAAAAAAACARkAAAAAAAMBSQAAAAADAZdFAAAAAAADAckAAAAAAAMBtQAAAAAAAypFAAAAAAACAdkDsUbge5ZXWQAAAAABQTNZAAAAAAAC+lUAAAAAAANCBQAAAAAAAUHdAAAAAAEDru0AAAAAAAACZQAAAAAAAwIdAAAAAAADeskAAAAAAAMW8QAAAAAAAhsBAAAAAAABFlUAAAAAAQIHxQAAAAAAAEINAAAAAAAAATkAAAAAAAAAAAAAAAAAAAAAAAAAAAABipUCamZmZsVvgQM3MzMxM1MZAAAAAAACAdkDD9Shc70bHQAAAAAAA4IhAAAAAAACAfUAAAAAAAAB+QAAAAAAAIGJAXI/C9Shol0AAAAAAAABJQAAAAAAAgGZAKVyPwnVntkAAAAAAADCCQI/C9SgYbPdAAAAAAPxTDkEAAAAAAIBqQAAAAAAAMIFAAAAAAACQkEDD9Shcf+vVQM3MzMw0m/NAAAAAAAAAWUAAAAAAAIB2QAAAAABAnb9AAAAAAADggEAAAAAAAABZQAAAAAAAAHRAAAAAAABUgUAAAAAAAKCEQAAAAAAAgGxAAAAAAACAZkAAAAAAAABJQAAAAAAA4GVAAAAAAADeoED2KFyPwt2YQAAAAAAAyMlAAAAAAACAZkAAAAAAACBsQM3MzMzM6JhAAAAAAACAZkAAAAAAAIB2QAAAAAAAQG9AAAAAAADBpED2KFyPgszXQAAAAAAAAF5AAAAAAAC+tUAAAAAAAFiBQAAAAAAAoJ9AAAAAAIBptUAAAAAAAMGUQAAAAAAAAF5AMzMzMzMXukAAAAAAAHepQDMzMzMzCJ9AAAAAAAAAAAAAAAAAAAAAAAAAAAAAoKFAAAAAAABzxUAAAAAAAOBgQAAAAAAA0MdAAAAAAACAUEAAAAAAAMB/QAAAAAAAIHpAAAAAAABAeEAAAAAAAGiXQAAAAAAAgGBASOF6FK7Hi0AAAAAAAOCWQAAAAAAAgHBAAAAAAADgZUAAAAAAAMBsQAAAAAAAQH9AAAAAAAAAAADsUbgehTOsQAAAAAAAy8lAAAAAAADAakAAAAAAAFB0QAAAAAAAwHJAAAAAAADArEAAAAAAAABkQAAAAAAAgHZAAAAAAADQdkAAAAAAAIBmQM3MzMxMv8hAAAAAAAAAWUAAAAAAAOCAQAAAAAAAAF9AAAAAAADAUkAAAAAAgBKwQFyPwvUIhPtAAAAAAAAUgUAAAAAAAMBiQDMzMzOT3cpAAAAAAEBQ4EAAAAAAACCMQM3MzMzMbI9AAAAAAADmtEAAAAAAAABZQHsUrkdR5dlAAAAAAACAkUAAAAAAAAAAAAAAAAAAwHJAAAAAAACAZkAAAAAAAIBmQKRwPQrXW2BAKVyPwkVa4EAAAAAAAAAAAAAAAAAAAAAAAAAAAACAZkAAAAAAAIBIQFyPwvVoe8pAAAAAAABAb0AAAAAAAFimQM3MzMzI//ZAAAAAAOAo4kAzMzMzu1D0QAAAAAAAwIdAAAAAAADovUAAAAAAAHyVQAAAAAAAoGlAAAAAAAAAAAAAAAAAAMiJQAAAAAAAhZFAAAAAAACAZkAAAAAAAL2UQOF6FK5HnXJAFK5H4Xpka0BSuB6F6912QAAAAAAAoHhA7FG4HnVE1UAAAAAAAIBoQAAAAAAAwFJAAAAAAABAb0DNzMzMzPbGQGZmZmYmRABBmpmZmWkJ+0BmZmZm5gzlQOF6FK5Hfp1AAAAAAACAgEAAAAAAKMnlQAAAAAAAAAAAAAAAADhg4kBcj8L1KLDJQDMzMzMDUd9AAAAAAACVz0CPwvUonLi1QAAAAAAAAElAAAAAAAA+sEAAAAAAAABkQAAAAAAA+oNAAAAAAAAAAAAAAAAAABB1QOF6FK5HQXNAAAAAAAAAAAAAAAAAAIaiQAAAAAAA7LhAAAAAAADggEAAAAAAwA/cQAAAAAAABc1AAAAAAADQi0AAAAAAAEBqQAAAAAAAoGlAAAAAAADKgUAAAAAA0CDxQAAAAAAAgGZAFK5H4XoUGkAAAAAAAJCaQAAAAACALbtAhetRuB5Dv0CPwvUo3NK1QFyPwvXo/MlAAAAAAADAXUBSuB6Fa7C2QFK4HoWbutNAAAAAAAAAfkAAAAAAAKBhQAAAAAAAQG9AAAAAAACARkAAAAAAAKCUQAAAAAAAcHJAmpmZmVnWyEAAAAAAAKygQGZmZmbm7rpAAAAAAAAASUDNzMzMeJ/wQAAAAAAA4IVAAAAAAADga0AAAAAAAABZQAAAAAAAgGZAAAAAAACAd0A=",
          "dtype": "f8"
         },
         "yaxis": "y"
        }
       ],
       "layout": {
        "coloraxis": {
         "colorbar": {
          "title": {
           "text": "Ticket Promedio ($)"
          }
         },
         "colorscale": [
          [
           0,
           "#440154"
          ],
          [
           0.1111111111111111,
           "#482878"
          ],
          [
           0.2222222222222222,
           "#3e4989"
          ],
          [
           0.3333333333333333,
           "#31688e"
          ],
          [
           0.4444444444444444,
           "#26828e"
          ],
          [
           0.5555555555555556,
           "#1f9e89"
          ],
          [
           0.6666666666666666,
           "#35b779"
          ],
          [
           0.7777777777777778,
           "#6ece58"
          ],
          [
           0.8888888888888888,
           "#b5de2b"
          ],
          [
           1,
           "#fde725"
          ]
         ]
        },
        "height": 500,
        "legend": {
         "itemsizing": "constant",
         "tracegroupgap": 0
        },
        "template": {
         "data": {
          "bar": [
           {
            "error_x": {
             "color": "#2a3f5f"
            },
            "error_y": {
             "color": "#2a3f5f"
            },
            "marker": {
             "line": {
              "color": "#E5ECF6",
              "width": 0.5
             },
             "pattern": {
              "fillmode": "overlay",
              "size": 10,
              "solidity": 0.2
             }
            },
            "type": "bar"
           }
          ],
          "barpolar": [
           {
            "marker": {
             "line": {
              "color": "#E5ECF6",
              "width": 0.5
             },
             "pattern": {
              "fillmode": "overlay",
              "size": 10,
              "solidity": 0.2
             }
            },
            "type": "barpolar"
           }
          ],
          "carpet": [
           {
            "aaxis": {
             "endlinecolor": "#2a3f5f",
             "gridcolor": "white",
             "linecolor": "white",
             "minorgridcolor": "white",
             "startlinecolor": "#2a3f5f"
            },
            "baxis": {
             "endlinecolor": "#2a3f5f",
             "gridcolor": "white",
             "linecolor": "white",
             "minorgridcolor": "white",
             "startlinecolor": "#2a3f5f"
            },
            "type": "carpet"
           }
          ],
          "choropleth": [
           {
            "colorbar": {
             "outlinewidth": 0,
             "ticks": ""
            },
            "type": "choropleth"
           }
          ],
          "contour": [
           {
            "colorbar": {
             "outlinewidth": 0,
             "ticks": ""
            },
            "colorscale": [
             [
              0,
              "#0d0887"
             ],
             [
              0.1111111111111111,
              "#46039f"
             ],
             [
              0.2222222222222222,
              "#7201a8"
             ],
             [
              0.3333333333333333,
              "#9c179e"
             ],
             [
              0.4444444444444444,
              "#bd3786"
             ],
             [
              0.5555555555555556,
              "#d8576b"
             ],
             [
              0.6666666666666666,
              "#ed7953"
             ],
             [
              0.7777777777777778,
              "#fb9f3a"
             ],
             [
              0.8888888888888888,
              "#fdca26"
             ],
             [
              1,
              "#f0f921"
             ]
            ],
            "type": "contour"
           }
          ],
          "contourcarpet": [
           {
            "colorbar": {
             "outlinewidth": 0,
             "ticks": ""
            },
            "type": "contourcarpet"
           }
          ],
          "heatmap": [
           {
            "colorbar": {
             "outlinewidth": 0,
             "ticks": ""
            },
            "colorscale": [
             [
              0,
              "#0d0887"
             ],
             [
              0.1111111111111111,
              "#46039f"
             ],
             [
              0.2222222222222222,
              "#7201a8"
             ],
             [
              0.3333333333333333,
              "#9c179e"
             ],
             [
              0.4444444444444444,
              "#bd3786"
             ],
             [
              0.5555555555555556,
              "#d8576b"
             ],
             [
              0.6666666666666666,
              "#ed7953"
             ],
             [
              0.7777777777777778,
              "#fb9f3a"
             ],
             [
              0.8888888888888888,
              "#fdca26"
             ],
             [
              1,
              "#f0f921"
             ]
            ],
            "type": "heatmap"
           }
          ],
          "histogram": [
           {
            "marker": {
             "pattern": {
              "fillmode": "overlay",
              "size": 10,
              "solidity": 0.2
             }
            },
            "type": "histogram"
           }
          ],
          "histogram2d": [
           {
            "colorbar": {
             "outlinewidth": 0,
             "ticks": ""
            },
            "colorscale": [
             [
              0,
              "#0d0887"
             ],
             [
              0.1111111111111111,
              "#46039f"
             ],
             [
              0.2222222222222222,
              "#7201a8"
             ],
             [
              0.3333333333333333,
              "#9c179e"
             ],
             [
              0.4444444444444444,
              "#bd3786"
             ],
             [
              0.5555555555555556,
              "#d8576b"
             ],
             [
              0.6666666666666666,
              "#ed7953"
             ],
             [
              0.7777777777777778,
              "#fb9f3a"
             ],
             [
              0.8888888888888888,
              "#fdca26"
             ],
             [
              1,
              "#f0f921"
             ]
            ],
            "type": "histogram2d"
           }
          ],
          "histogram2dcontour": [
           {
            "colorbar": {
             "outlinewidth": 0,
             "ticks": ""
            },
            "colorscale": [
             [
              0,
              "#0d0887"
             ],
             [
              0.1111111111111111,
              "#46039f"
             ],
             [
              0.2222222222222222,
              "#7201a8"
             ],
             [
              0.3333333333333333,
              "#9c179e"
             ],
             [
              0.4444444444444444,
              "#bd3786"
             ],
             [
              0.5555555555555556,
              "#d8576b"
             ],
             [
              0.6666666666666666,
              "#ed7953"
             ],
             [
              0.7777777777777778,
              "#fb9f3a"
             ],
             [
              0.8888888888888888,
              "#fdca26"
             ],
             [
              1,
              "#f0f921"
             ]
            ],
            "type": "histogram2dcontour"
           }
          ],
          "mesh3d": [
           {
            "colorbar": {
             "outlinewidth": 0,
             "ticks": ""
            },
            "type": "mesh3d"
           }
          ],
          "parcoords": [
           {
            "line": {
             "colorbar": {
              "outlinewidth": 0,
              "ticks": ""
             }
            },
            "type": "parcoords"
           }
          ],
          "pie": [
           {
            "automargin": true,
            "type": "pie"
           }
          ],
          "scatter": [
           {
            "fillpattern": {
             "fillmode": "overlay",
             "size": 10,
             "solidity": 0.2
            },
            "type": "scatter"
           }
          ],
          "scatter3d": [
           {
            "line": {
             "colorbar": {
              "outlinewidth": 0,
              "ticks": ""
             }
            },
            "marker": {
             "colorbar": {
              "outlinewidth": 0,
              "ticks": ""
             }
            },
            "type": "scatter3d"
           }
          ],
          "scattercarpet": [
           {
            "marker": {
             "colorbar": {
              "outlinewidth": 0,
              "ticks": ""
             }
            },
            "type": "scattercarpet"
           }
          ],
          "scattergeo": [
           {
            "marker": {
             "colorbar": {
              "outlinewidth": 0,
              "ticks": ""
             }
            },
            "type": "scattergeo"
           }
          ],
          "scattergl": [
           {
            "marker": {
             "colorbar": {
              "outlinewidth": 0,
              "ticks": ""
             }
            },
            "type": "scattergl"
           }
          ],
          "scattermap": [
           {
            "marker": {
             "colorbar": {
              "outlinewidth": 0,
              "ticks": ""
             }
            },
            "type": "scattermap"
           }
          ],
          "scattermapbox": [
           {
            "marker": {
             "colorbar": {
              "outlinewidth": 0,
              "ticks": ""
             }
            },
            "type": "scattermapbox"
           }
          ],
          "scatterpolar": [
           {
            "marker": {
             "colorbar": {
              "outlinewidth": 0,
              "ticks": ""
             }
            },
            "type": "scatterpolar"
           }
          ],
          "scatterpolargl": [
           {
            "marker": {
             "colorbar": {
              "outlinewidth": 0,
              "ticks": ""
             }
            },
            "type": "scatterpolargl"
           }
          ],
          "scatterternary": [
           {
            "marker": {
             "colorbar": {
              "outlinewidth": 0,
              "ticks": ""
             }
            },
            "type": "scatterternary"
           }
          ],
          "surface": [
           {
            "colorbar": {
             "outlinewidth": 0,
             "ticks": ""
            },
            "colorscale": [
             [
              0,
              "#0d0887"
             ],
             [
              0.1111111111111111,
              "#46039f"
             ],
             [
              0.2222222222222222,
              "#7201a8"
             ],
             [
              0.3333333333333333,
              "#9c179e"
             ],
             [
              0.4444444444444444,
              "#bd3786"
             ],
             [
              0.5555555555555556,
              "#d8576b"
             ],
             [
              0.6666666666666666,
              "#ed7953"
             ],
             [
              0.7777777777777778,
              "#fb9f3a"
             ],
             [
              0.8888888888888888,
              "#fdca26"
             ],
             [
              1,
              "#f0f921"
             ]
            ],
            "type": "surface"
           }
          ],
          "table": [
           {
            "cells": {
             "fill": {
              "color": "#EBF0F8"
             },
             "line": {
              "color": "white"
             }
            },
            "header": {
             "fill": {
              "color": "#C8D4E3"
             },
             "line": {
              "color": "white"
             }
            },
            "type": "table"
           }
          ]
         },
         "layout": {
          "annotationdefaults": {
           "arrowcolor": "#2a3f5f",
           "arrowhead": 0,
           "arrowwidth": 1
          },
          "autotypenumbers": "strict",
          "coloraxis": {
           "colorbar": {
            "outlinewidth": 0,
            "ticks": ""
           }
          },
          "colorscale": {
           "diverging": [
            [
             0,
             "#8e0152"
            ],
            [
             0.1,
             "#c51b7d"
            ],
            [
             0.2,
             "#de77ae"
            ],
            [
             0.3,
             "#f1b6da"
            ],
            [
             0.4,
             "#fde0ef"
            ],
            [
             0.5,
             "#f7f7f7"
            ],
            [
             0.6,
             "#e6f5d0"
            ],
            [
             0.7,
             "#b8e186"
            ],
            [
             0.8,
             "#7fbc41"
            ],
            [
             0.9,
             "#4d9221"
            ],
            [
             1,
             "#276419"
            ]
           ],
           "sequential": [
            [
             0,
             "#0d0887"
            ],
            [
             0.1111111111111111,
             "#46039f"
            ],
            [
             0.2222222222222222,
             "#7201a8"
            ],
            [
             0.3333333333333333,
             "#9c179e"
            ],
            [
             0.4444444444444444,
             "#bd3786"
            ],
            [
             0.5555555555555556,
             "#d8576b"
            ],
            [
             0.6666666666666666,
             "#ed7953"
            ],
            [
             0.7777777777777778,
             "#fb9f3a"
            ],
            [
             0.8888888888888888,
             "#fdca26"
            ],
            [
             1,
             "#f0f921"
            ]
           ],
           "sequentialminus": [
            [
             0,
             "#0d0887"
            ],
            [
             0.1111111111111111,
             "#46039f"
            ],
            [
             0.2222222222222222,
             "#7201a8"
            ],
            [
             0.3333333333333333,
             "#9c179e"
            ],
            [
             0.4444444444444444,
             "#bd3786"
            ],
            [
             0.5555555555555556,
             "#d8576b"
            ],
            [
             0.6666666666666666,
             "#ed7953"
            ],
            [
             0.7777777777777778,
             "#fb9f3a"
            ],
            [
             0.8888888888888888,
             "#fdca26"
            ],
            [
             1,
             "#f0f921"
            ]
           ]
          },
          "colorway": [
           "#636efa",
           "#EF553B",
           "#00cc96",
           "#ab63fa",
           "#FFA15A",
           "#19d3f3",
           "#FF6692",
           "#B6E880",
           "#FF97FF",
           "#FECB52"
          ],
          "font": {
           "color": "#2a3f5f"
          },
          "geo": {
           "bgcolor": "white",
           "lakecolor": "white",
           "landcolor": "#E5ECF6",
           "showlakes": true,
           "showland": true,
           "subunitcolor": "white"
          },
          "hoverlabel": {
           "align": "left"
          },
          "hovermode": "closest",
          "mapbox": {
           "style": "light"
          },
          "paper_bgcolor": "white",
          "plot_bgcolor": "#E5ECF6",
          "polar": {
           "angularaxis": {
            "gridcolor": "white",
            "linecolor": "white",
            "ticks": ""
           },
           "bgcolor": "#E5ECF6",
           "radialaxis": {
            "gridcolor": "white",
            "linecolor": "white",
            "ticks": ""
           }
          },
          "scene": {
           "xaxis": {
            "backgroundcolor": "#E5ECF6",
            "gridcolor": "white",
            "gridwidth": 2,
            "linecolor": "white",
            "showbackground": true,
            "ticks": "",
            "zerolinecolor": "white"
           },
           "yaxis": {
            "backgroundcolor": "#E5ECF6",
            "gridcolor": "white",
            "gridwidth": 2,
            "linecolor": "white",
            "showbackground": true,
            "ticks": "",
            "zerolinecolor": "white"
           },
           "zaxis": {
            "backgroundcolor": "#E5ECF6",
            "gridcolor": "white",
            "gridwidth": 2,
            "linecolor": "white",
            "showbackground": true,
            "ticks": "",
            "zerolinecolor": "white"
           }
          },
          "shapedefaults": {
           "line": {
            "color": "#2a3f5f"
           }
          },
          "ternary": {
           "aaxis": {
            "gridcolor": "white",
            "linecolor": "white",
            "ticks": ""
           },
           "baxis": {
            "gridcolor": "white",
            "linecolor": "white",
            "ticks": ""
           },
           "bgcolor": "#E5ECF6",
           "caxis": {
            "gridcolor": "white",
            "linecolor": "white",
            "ticks": ""
           }
          },
          "title": {
           "x": 0.05
          },
          "xaxis": {
           "automargin": true,
           "gridcolor": "white",
           "linecolor": "white",
           "ticks": "",
           "title": {
            "standoff": 15
           },
           "zerolinecolor": "white",
           "zerolinewidth": 2
          },
          "yaxis": {
           "automargin": true,
           "gridcolor": "white",
           "linecolor": "white",
           "ticks": "",
           "title": {
            "standoff": 15
           },
           "zerolinecolor": "white",
           "zerolinewidth": 2
          }
         }
        },
        "title": {
         "text": "💎 Análisis de Clientes: Frecuencia vs Valor"
        },
        "xaxis": {
         "anchor": "y",
         "domain": [
          0,
          1
         ],
         "title": {
          "text": "Número de Transacciones"
         }
        },
        "yaxis": {
         "anchor": "x",
         "domain": [
          0,
          1
         ],
         "title": {
          "text": "Ventas Totales ($)"
         }
        }
       }
      }
     },
     "metadata": {},
     "output_type": "display_data"
    },
    {
     "data": {
      "application/vnd.plotly.v1+json": {
       "config": {
        "plotlyServerURL": "https://plot.ly"
       },
       "data": [
        {
         "hovertemplate": "Número de Transacciones=%{marker.color}<br>Cliente=%{y}<extra></extra>",
         "legendgroup": "",
         "marker": {
          "color": {
           "bdata": "WAMUA+oCeAJmAmACTQLwAe8B6QE=",
           "dtype": "i2"
          },
          "coloraxis": "coloraxis",
          "pattern": {
           "shape": ""
          }
         },
         "name": "",
         "orientation": "h",
         "showlegend": false,
         "textposition": "auto",
         "type": "bar",
         "x": {
          "bdata": "WAMUA+oCeAJmAmACTQLwAe8B6QE=",
          "dtype": "i2"
         },
         "xaxis": "x",
         "y": [
          "BARBIE MOORE:CRIC CRIC MALECON",
          "TURISMO VERSATIL",
          "BALEADA PAQUE",
          "TO GO CAFE",
          "CAFETO MEDICENTRO",
          "HELADITOS Y MAS",
          "CAFETO MAZAPAN",
          "BOXHA:BOXHA CAFE",
          "SOCIEDAD C. D. Y SOCIAL VIDA",
          "CASA DEL JUGO"
         ],
         "yaxis": "y"
        }
       ],
       "layout": {
        "barmode": "relative",
        "coloraxis": {
         "colorbar": {
          "title": {
           "text": "Número de Transacciones"
          }
         },
         "colorscale": [
          [
           0,
           "#0d0887"
          ],
          [
           0.1111111111111111,
           "#46039f"
          ],
          [
           0.2222222222222222,
           "#7201a8"
          ],
          [
           0.3333333333333333,
           "#9c179e"
          ],
          [
           0.4444444444444444,
           "#bd3786"
          ],
          [
           0.5555555555555556,
           "#d8576b"
          ],
          [
           0.6666666666666666,
           "#ed7953"
          ],
          [
           0.7777777777777778,
           "#fb9f3a"
          ],
          [
           0.8888888888888888,
           "#fdca26"
          ],
          [
           1,
           "#f0f921"
          ]
         ]
        },
        "height": 500,
        "legend": {
         "tracegroupgap": 0
        },
        "template": {
         "data": {
          "bar": [
           {
            "error_x": {
             "color": "#2a3f5f"
            },
            "error_y": {
             "color": "#2a3f5f"
            },
            "marker": {
             "line": {
              "color": "#E5ECF6",
              "width": 0.5
             },
             "pattern": {
              "fillmode": "overlay",
              "size": 10,
              "solidity": 0.2
             }
            },
            "type": "bar"
           }
          ],
          "barpolar": [
           {
            "marker": {
             "line": {
              "color": "#E5ECF6",
              "width": 0.5
             },
             "pattern": {
              "fillmode": "overlay",
              "size": 10,
              "solidity": 0.2
             }
            },
            "type": "barpolar"
           }
          ],
          "carpet": [
           {
            "aaxis": {
             "endlinecolor": "#2a3f5f",
             "gridcolor": "white",
             "linecolor": "white",
             "minorgridcolor": "white",
             "startlinecolor": "#2a3f5f"
            },
            "baxis": {
             "endlinecolor": "#2a3f5f",
             "gridcolor": "white",
             "linecolor": "white",
             "minorgridcolor": "white",
             "startlinecolor": "#2a3f5f"
            },
            "type": "carpet"
           }
          ],
          "choropleth": [
           {
            "colorbar": {
             "outlinewidth": 0,
             "ticks": ""
            },
            "type": "choropleth"
           }
          ],
          "contour": [
           {
            "colorbar": {
             "outlinewidth": 0,
             "ticks": ""
            },
            "colorscale": [
             [
              0,
              "#0d0887"
             ],
             [
              0.1111111111111111,
              "#46039f"
             ],
             [
              0.2222222222222222,
              "#7201a8"
             ],
             [
              0.3333333333333333,
              "#9c179e"
             ],
             [
              0.4444444444444444,
              "#bd3786"
             ],
             [
              0.5555555555555556,
              "#d8576b"
             ],
             [
              0.6666666666666666,
              "#ed7953"
             ],
             [
              0.7777777777777778,
              "#fb9f3a"
             ],
             [
              0.8888888888888888,
              "#fdca26"
             ],
             [
              1,
              "#f0f921"
             ]
            ],
            "type": "contour"
           }
          ],
          "contourcarpet": [
           {
            "colorbar": {
             "outlinewidth": 0,
             "ticks": ""
            },
            "type": "contourcarpet"
           }
          ],
          "heatmap": [
           {
            "colorbar": {
             "outlinewidth": 0,
             "ticks": ""
            },
            "colorscale": [
             [
              0,
              "#0d0887"
             ],
             [
              0.1111111111111111,
              "#46039f"
             ],
             [
              0.2222222222222222,
              "#7201a8"
             ],
             [
              0.3333333333333333,
              "#9c179e"
             ],
             [
              0.4444444444444444,
              "#bd3786"
             ],
             [
              0.5555555555555556,
              "#d8576b"
             ],
             [
              0.6666666666666666,
              "#ed7953"
             ],
             [
              0.7777777777777778,
              "#fb9f3a"
             ],
             [
              0.8888888888888888,
              "#fdca26"
             ],
             [
              1,
              "#f0f921"
             ]
            ],
            "type": "heatmap"
           }
          ],
          "histogram": [
           {
            "marker": {
             "pattern": {
              "fillmode": "overlay",
              "size": 10,
              "solidity": 0.2
             }
            },
            "type": "histogram"
           }
          ],
          "histogram2d": [
           {
            "colorbar": {
             "outlinewidth": 0,
             "ticks": ""
            },
            "colorscale": [
             [
              0,
              "#0d0887"
             ],
             [
              0.1111111111111111,
              "#46039f"
             ],
             [
              0.2222222222222222,
              "#7201a8"
             ],
             [
              0.3333333333333333,
              "#9c179e"
             ],
             [
              0.4444444444444444,
              "#bd3786"
             ],
             [
              0.5555555555555556,
              "#d8576b"
             ],
             [
              0.6666666666666666,
              "#ed7953"
             ],
             [
              0.7777777777777778,
              "#fb9f3a"
             ],
             [
              0.8888888888888888,
              "#fdca26"
             ],
             [
              1,
              "#f0f921"
             ]
            ],
            "type": "histogram2d"
           }
          ],
          "histogram2dcontour": [
           {
            "colorbar": {
             "outlinewidth": 0,
             "ticks": ""
            },
            "colorscale": [
             [
              0,
              "#0d0887"
             ],
             [
              0.1111111111111111,
              "#46039f"
             ],
             [
              0.2222222222222222,
              "#7201a8"
             ],
             [
              0.3333333333333333,
              "#9c179e"
             ],
             [
              0.4444444444444444,
              "#bd3786"
             ],
             [
              0.5555555555555556,
              "#d8576b"
             ],
             [
              0.6666666666666666,
              "#ed7953"
             ],
             [
              0.7777777777777778,
              "#fb9f3a"
             ],
             [
              0.8888888888888888,
              "#fdca26"
             ],
             [
              1,
              "#f0f921"
             ]
            ],
            "type": "histogram2dcontour"
           }
          ],
          "mesh3d": [
           {
            "colorbar": {
             "outlinewidth": 0,
             "ticks": ""
            },
            "type": "mesh3d"
           }
          ],
          "parcoords": [
           {
            "line": {
             "colorbar": {
              "outlinewidth": 0,
              "ticks": ""
             }
            },
            "type": "parcoords"
           }
          ],
          "pie": [
           {
            "automargin": true,
            "type": "pie"
           }
          ],
          "scatter": [
           {
            "fillpattern": {
             "fillmode": "overlay",
             "size": 10,
             "solidity": 0.2
            },
            "type": "scatter"
           }
          ],
          "scatter3d": [
           {
            "line": {
             "colorbar": {
              "outlinewidth": 0,
              "ticks": ""
             }
            },
            "marker": {
             "colorbar": {
              "outlinewidth": 0,
              "ticks": ""
             }
            },
            "type": "scatter3d"
           }
          ],
          "scattercarpet": [
           {
            "marker": {
             "colorbar": {
              "outlinewidth": 0,
              "ticks": ""
             }
            },
            "type": "scattercarpet"
           }
          ],
          "scattergeo": [
           {
            "marker": {
             "colorbar": {
              "outlinewidth": 0,
              "ticks": ""
             }
            },
            "type": "scattergeo"
           }
          ],
          "scattergl": [
           {
            "marker": {
             "colorbar": {
              "outlinewidth": 0,
              "ticks": ""
             }
            },
            "type": "scattergl"
           }
          ],
          "scattermap": [
           {
            "marker": {
             "colorbar": {
              "outlinewidth": 0,
              "ticks": ""
             }
            },
            "type": "scattermap"
           }
          ],
          "scattermapbox": [
           {
            "marker": {
             "colorbar": {
              "outlinewidth": 0,
              "ticks": ""
             }
            },
            "type": "scattermapbox"
           }
          ],
          "scatterpolar": [
           {
            "marker": {
             "colorbar": {
              "outlinewidth": 0,
              "ticks": ""
             }
            },
            "type": "scatterpolar"
           }
          ],
          "scatterpolargl": [
           {
            "marker": {
             "colorbar": {
              "outlinewidth": 0,
              "ticks": ""
             }
            },
            "type": "scatterpolargl"
           }
          ],
          "scatterternary": [
           {
            "marker": {
             "colorbar": {
              "outlinewidth": 0,
              "ticks": ""
             }
            },
            "type": "scatterternary"
           }
          ],
          "surface": [
           {
            "colorbar": {
             "outlinewidth": 0,
             "ticks": ""
            },
            "colorscale": [
             [
              0,
              "#0d0887"
             ],
             [
              0.1111111111111111,
              "#46039f"
             ],
             [
              0.2222222222222222,
              "#7201a8"
             ],
             [
              0.3333333333333333,
              "#9c179e"
             ],
             [
              0.4444444444444444,
              "#bd3786"
             ],
             [
              0.5555555555555556,
              "#d8576b"
             ],
             [
              0.6666666666666666,
              "#ed7953"
             ],
             [
              0.7777777777777778,
              "#fb9f3a"
             ],
             [
              0.8888888888888888,
              "#fdca26"
             ],
             [
              1,
              "#f0f921"
             ]
            ],
            "type": "surface"
           }
          ],
          "table": [
           {
            "cells": {
             "fill": {
              "color": "#EBF0F8"
             },
             "line": {
              "color": "white"
             }
            },
            "header": {
             "fill": {
              "color": "#C8D4E3"
             },
             "line": {
              "color": "white"
             }
            },
            "type": "table"
           }
          ]
         },
         "layout": {
          "annotationdefaults": {
           "arrowcolor": "#2a3f5f",
           "arrowhead": 0,
           "arrowwidth": 1
          },
          "autotypenumbers": "strict",
          "coloraxis": {
           "colorbar": {
            "outlinewidth": 0,
            "ticks": ""
           }
          },
          "colorscale": {
           "diverging": [
            [
             0,
             "#8e0152"
            ],
            [
             0.1,
             "#c51b7d"
            ],
            [
             0.2,
             "#de77ae"
            ],
            [
             0.3,
             "#f1b6da"
            ],
            [
             0.4,
             "#fde0ef"
            ],
            [
             0.5,
             "#f7f7f7"
            ],
            [
             0.6,
             "#e6f5d0"
            ],
            [
             0.7,
             "#b8e186"
            ],
            [
             0.8,
             "#7fbc41"
            ],
            [
             0.9,
             "#4d9221"
            ],
            [
             1,
             "#276419"
            ]
           ],
           "sequential": [
            [
             0,
             "#0d0887"
            ],
            [
             0.1111111111111111,
             "#46039f"
            ],
            [
             0.2222222222222222,
             "#7201a8"
            ],
            [
             0.3333333333333333,
             "#9c179e"
            ],
            [
             0.4444444444444444,
             "#bd3786"
            ],
            [
             0.5555555555555556,
             "#d8576b"
            ],
            [
             0.6666666666666666,
             "#ed7953"
            ],
            [
             0.7777777777777778,
             "#fb9f3a"
            ],
            [
             0.8888888888888888,
             "#fdca26"
            ],
            [
             1,
             "#f0f921"
            ]
           ],
           "sequentialminus": [
            [
             0,
             "#0d0887"
            ],
            [
             0.1111111111111111,
             "#46039f"
            ],
            [
             0.2222222222222222,
             "#7201a8"
            ],
            [
             0.3333333333333333,
             "#9c179e"
            ],
            [
             0.4444444444444444,
             "#bd3786"
            ],
            [
             0.5555555555555556,
             "#d8576b"
            ],
            [
             0.6666666666666666,
             "#ed7953"
            ],
            [
             0.7777777777777778,
             "#fb9f3a"
            ],
            [
             0.8888888888888888,
             "#fdca26"
            ],
            [
             1,
             "#f0f921"
            ]
           ]
          },
          "colorway": [
           "#636efa",
           "#EF553B",
           "#00cc96",
           "#ab63fa",
           "#FFA15A",
           "#19d3f3",
           "#FF6692",
           "#B6E880",
           "#FF97FF",
           "#FECB52"
          ],
          "font": {
           "color": "#2a3f5f"
          },
          "geo": {
           "bgcolor": "white",
           "lakecolor": "white",
           "landcolor": "#E5ECF6",
           "showlakes": true,
           "showland": true,
           "subunitcolor": "white"
          },
          "hoverlabel": {
           "align": "left"
          },
          "hovermode": "closest",
          "mapbox": {
           "style": "light"
          },
          "paper_bgcolor": "white",
          "plot_bgcolor": "#E5ECF6",
          "polar": {
           "angularaxis": {
            "gridcolor": "white",
            "linecolor": "white",
            "ticks": ""
           },
           "bgcolor": "#E5ECF6",
           "radialaxis": {
            "gridcolor": "white",
            "linecolor": "white",
            "ticks": ""
           }
          },
          "scene": {
           "xaxis": {
            "backgroundcolor": "#E5ECF6",
            "gridcolor": "white",
            "gridwidth": 2,
            "linecolor": "white",
            "showbackground": true,
            "ticks": "",
            "zerolinecolor": "white"
           },
           "yaxis": {
            "backgroundcolor": "#E5ECF6",
            "gridcolor": "white",
            "gridwidth": 2,
            "linecolor": "white",
            "showbackground": true,
            "ticks": "",
            "zerolinecolor": "white"
           },
           "zaxis": {
            "backgroundcolor": "#E5ECF6",
            "gridcolor": "white",
            "gridwidth": 2,
            "linecolor": "white",
            "showbackground": true,
            "ticks": "",
            "zerolinecolor": "white"
           }
          },
          "shapedefaults": {
           "line": {
            "color": "#2a3f5f"
           }
          },
          "ternary": {
           "aaxis": {
            "gridcolor": "white",
            "linecolor": "white",
            "ticks": ""
           },
           "baxis": {
            "gridcolor": "white",
            "linecolor": "white",
            "ticks": ""
           },
           "bgcolor": "#E5ECF6",
           "caxis": {
            "gridcolor": "white",
            "linecolor": "white",
            "ticks": ""
           }
          },
          "title": {
           "x": 0.05
          },
          "xaxis": {
           "automargin": true,
           "gridcolor": "white",
           "linecolor": "white",
           "ticks": "",
           "title": {
            "standoff": 15
           },
           "zerolinecolor": "white",
           "zerolinewidth": 2
          },
          "yaxis": {
           "automargin": true,
           "gridcolor": "white",
           "linecolor": "white",
           "ticks": "",
           "title": {
            "standoff": 15
           },
           "zerolinecolor": "white",
           "zerolinewidth": 2
          }
         }
        },
        "title": {
         "text": "🔄 Top 10 Clientes por Frecuencia de Compras"
        },
        "xaxis": {
         "anchor": "y",
         "domain": [
          0,
          1
         ],
         "title": {
          "text": "Número de Transacciones"
         }
        },
        "yaxis": {
         "anchor": "x",
         "categoryorder": "total ascending",
         "domain": [
          0,
          1
         ],
         "title": {
          "text": "Cliente"
         }
        }
       }
      }
     },
     "metadata": {},
     "output_type": "display_data"
    },
    {
     "data": {
      "application/vnd.plotly.v1+json": {
       "config": {
        "plotlyServerURL": "https://plot.ly"
       },
       "data": [
        {
         "hovertemplate": "Rango de Valor=%{x}<br>Número de Clientes=%{marker.color}<extra></extra>",
         "legendgroup": "",
         "marker": {
          "color": {
           "bdata": "6QDKAEEAQQA/AA==",
           "dtype": "i2"
          },
          "coloraxis": "coloraxis",
          "pattern": {
           "shape": ""
          }
         },
         "name": "",
         "orientation": "v",
         "showlegend": false,
         "textposition": "auto",
         "type": "bar",
         "x": [
          "$2K+",
          "$100-$500",
          "$0-$100",
          "$500-$1K",
          "$1K-$2K"
         ],
         "xaxis": "x",
         "y": {
          "bdata": "6QDKAEEAQQA/AA==",
          "dtype": "i2"
         },
         "yaxis": "y"
        }
       ],
       "layout": {
        "barmode": "relative",
        "coloraxis": {
         "colorbar": {
          "title": {
           "text": "Número de Clientes"
          }
         },
         "colorscale": [
          [
           0,
           "#440154"
          ],
          [
           0.1111111111111111,
           "#482878"
          ],
          [
           0.2222222222222222,
           "#3e4989"
          ],
          [
           0.3333333333333333,
           "#31688e"
          ],
          [
           0.4444444444444444,
           "#26828e"
          ],
          [
           0.5555555555555556,
           "#1f9e89"
          ],
          [
           0.6666666666666666,
           "#35b779"
          ],
          [
           0.7777777777777778,
           "#6ece58"
          ],
          [
           0.8888888888888888,
           "#b5de2b"
          ],
          [
           1,
           "#fde725"
          ]
         ]
        },
        "height": 400,
        "legend": {
         "tracegroupgap": 0
        },
        "template": {
         "data": {
          "bar": [
           {
            "error_x": {
             "color": "#2a3f5f"
            },
            "error_y": {
             "color": "#2a3f5f"
            },
            "marker": {
             "line": {
              "color": "#E5ECF6",
              "width": 0.5
             },
             "pattern": {
              "fillmode": "overlay",
              "size": 10,
              "solidity": 0.2
             }
            },
            "type": "bar"
           }
          ],
          "barpolar": [
           {
            "marker": {
             "line": {
              "color": "#E5ECF6",
              "width": 0.5
             },
             "pattern": {
              "fillmode": "overlay",
              "size": 10,
              "solidity": 0.2
             }
            },
            "type": "barpolar"
           }
          ],
          "carpet": [
           {
            "aaxis": {
             "endlinecolor": "#2a3f5f",
             "gridcolor": "white",
             "linecolor": "white",
             "minorgridcolor": "white",
             "startlinecolor": "#2a3f5f"
            },
            "baxis": {
             "endlinecolor": "#2a3f5f",
             "gridcolor": "white",
             "linecolor": "white",
             "minorgridcolor": "white",
             "startlinecolor": "#2a3f5f"
            },
            "type": "carpet"
           }
          ],
          "choropleth": [
           {
            "colorbar": {
             "outlinewidth": 0,
             "ticks": ""
            },
            "type": "choropleth"
           }
          ],
          "contour": [
           {
            "colorbar": {
             "outlinewidth": 0,
             "ticks": ""
            },
            "colorscale": [
             [
              0,
              "#0d0887"
             ],
             [
              0.1111111111111111,
              "#46039f"
             ],
             [
              0.2222222222222222,
              "#7201a8"
             ],
             [
              0.3333333333333333,
              "#9c179e"
             ],
             [
              0.4444444444444444,
              "#bd3786"
             ],
             [
              0.5555555555555556,
              "#d8576b"
             ],
             [
              0.6666666666666666,
              "#ed7953"
             ],
             [
              0.7777777777777778,
              "#fb9f3a"
             ],
             [
              0.8888888888888888,
              "#fdca26"
             ],
             [
              1,
              "#f0f921"
             ]
            ],
            "type": "contour"
           }
          ],
          "contourcarpet": [
           {
            "colorbar": {
             "outlinewidth": 0,
             "ticks": ""
            },
            "type": "contourcarpet"
           }
          ],
          "heatmap": [
           {
            "colorbar": {
             "outlinewidth": 0,
             "ticks": ""
            },
            "colorscale": [
             [
              0,
              "#0d0887"
             ],
             [
              0.1111111111111111,
              "#46039f"
             ],
             [
              0.2222222222222222,
              "#7201a8"
             ],
             [
              0.3333333333333333,
              "#9c179e"
             ],
             [
              0.4444444444444444,
              "#bd3786"
             ],
             [
              0.5555555555555556,
              "#d8576b"
             ],
             [
              0.6666666666666666,
              "#ed7953"
             ],
             [
              0.7777777777777778,
              "#fb9f3a"
             ],
             [
              0.8888888888888888,
              "#fdca26"
             ],
             [
              1,
              "#f0f921"
             ]
            ],
            "type": "heatmap"
           }
          ],
          "histogram": [
           {
            "marker": {
             "pattern": {
              "fillmode": "overlay",
              "size": 10,
              "solidity": 0.2
             }
            },
            "type": "histogram"
           }
          ],
          "histogram2d": [
           {
            "colorbar": {
             "outlinewidth": 0,
             "ticks": ""
            },
            "colorscale": [
             [
              0,
              "#0d0887"
             ],
             [
              0.1111111111111111,
              "#46039f"
             ],
             [
              0.2222222222222222,
              "#7201a8"
             ],
             [
              0.3333333333333333,
              "#9c179e"
             ],
             [
              0.4444444444444444,
              "#bd3786"
             ],
             [
              0.5555555555555556,
              "#d8576b"
             ],
             [
              0.6666666666666666,
              "#ed7953"
             ],
             [
              0.7777777777777778,
              "#fb9f3a"
             ],
             [
              0.8888888888888888,
              "#fdca26"
             ],
             [
              1,
              "#f0f921"
             ]
            ],
            "type": "histogram2d"
           }
          ],
          "histogram2dcontour": [
           {
            "colorbar": {
             "outlinewidth": 0,
             "ticks": ""
            },
            "colorscale": [
             [
              0,
              "#0d0887"
             ],
             [
              0.1111111111111111,
              "#46039f"
             ],
             [
              0.2222222222222222,
              "#7201a8"
             ],
             [
              0.3333333333333333,
              "#9c179e"
             ],
             [
              0.4444444444444444,
              "#bd3786"
             ],
             [
              0.5555555555555556,
              "#d8576b"
             ],
             [
              0.6666666666666666,
              "#ed7953"
             ],
             [
              0.7777777777777778,
              "#fb9f3a"
             ],
             [
              0.8888888888888888,
              "#fdca26"
             ],
             [
              1,
              "#f0f921"
             ]
            ],
            "type": "histogram2dcontour"
           }
          ],
          "mesh3d": [
           {
            "colorbar": {
             "outlinewidth": 0,
             "ticks": ""
            },
            "type": "mesh3d"
           }
          ],
          "parcoords": [
           {
            "line": {
             "colorbar": {
              "outlinewidth": 0,
              "ticks": ""
             }
            },
            "type": "parcoords"
           }
          ],
          "pie": [
           {
            "automargin": true,
            "type": "pie"
           }
          ],
          "scatter": [
           {
            "fillpattern": {
             "fillmode": "overlay",
             "size": 10,
             "solidity": 0.2
            },
            "type": "scatter"
           }
          ],
          "scatter3d": [
           {
            "line": {
             "colorbar": {
              "outlinewidth": 0,
              "ticks": ""
             }
            },
            "marker": {
             "colorbar": {
              "outlinewidth": 0,
              "ticks": ""
             }
            },
            "type": "scatter3d"
           }
          ],
          "scattercarpet": [
           {
            "marker": {
             "colorbar": {
              "outlinewidth": 0,
              "ticks": ""
             }
            },
            "type": "scattercarpet"
           }
          ],
          "scattergeo": [
           {
            "marker": {
             "colorbar": {
              "outlinewidth": 0,
              "ticks": ""
             }
            },
            "type": "scattergeo"
           }
          ],
          "scattergl": [
           {
            "marker": {
             "colorbar": {
              "outlinewidth": 0,
              "ticks": ""
             }
            },
            "type": "scattergl"
           }
          ],
          "scattermap": [
           {
            "marker": {
             "colorbar": {
              "outlinewidth": 0,
              "ticks": ""
             }
            },
            "type": "scattermap"
           }
          ],
          "scattermapbox": [
           {
            "marker": {
             "colorbar": {
              "outlinewidth": 0,
              "ticks": ""
             }
            },
            "type": "scattermapbox"
           }
          ],
          "scatterpolar": [
           {
            "marker": {
             "colorbar": {
              "outlinewidth": 0,
              "ticks": ""
             }
            },
            "type": "scatterpolar"
           }
          ],
          "scatterpolargl": [
           {
            "marker": {
             "colorbar": {
              "outlinewidth": 0,
              "ticks": ""
             }
            },
            "type": "scatterpolargl"
           }
          ],
          "scatterternary": [
           {
            "marker": {
             "colorbar": {
              "outlinewidth": 0,
              "ticks": ""
             }
            },
            "type": "scatterternary"
           }
          ],
          "surface": [
           {
            "colorbar": {
             "outlinewidth": 0,
             "ticks": ""
            },
            "colorscale": [
             [
              0,
              "#0d0887"
             ],
             [
              0.1111111111111111,
              "#46039f"
             ],
             [
              0.2222222222222222,
              "#7201a8"
             ],
             [
              0.3333333333333333,
              "#9c179e"
             ],
             [
              0.4444444444444444,
              "#bd3786"
             ],
             [
              0.5555555555555556,
              "#d8576b"
             ],
             [
              0.6666666666666666,
              "#ed7953"
             ],
             [
              0.7777777777777778,
              "#fb9f3a"
             ],
             [
              0.8888888888888888,
              "#fdca26"
             ],
             [
              1,
              "#f0f921"
             ]
            ],
            "type": "surface"
           }
          ],
          "table": [
           {
            "cells": {
             "fill": {
              "color": "#EBF0F8"
             },
             "line": {
              "color": "white"
             }
            },
            "header": {
             "fill": {
              "color": "#C8D4E3"
             },
             "line": {
              "color": "white"
             }
            },
            "type": "table"
           }
          ]
         },
         "layout": {
          "annotationdefaults": {
           "arrowcolor": "#2a3f5f",
           "arrowhead": 0,
           "arrowwidth": 1
          },
          "autotypenumbers": "strict",
          "coloraxis": {
           "colorbar": {
            "outlinewidth": 0,
            "ticks": ""
           }
          },
          "colorscale": {
           "diverging": [
            [
             0,
             "#8e0152"
            ],
            [
             0.1,
             "#c51b7d"
            ],
            [
             0.2,
             "#de77ae"
            ],
            [
             0.3,
             "#f1b6da"
            ],
            [
             0.4,
             "#fde0ef"
            ],
            [
             0.5,
             "#f7f7f7"
            ],
            [
             0.6,
             "#e6f5d0"
            ],
            [
             0.7,
             "#b8e186"
            ],
            [
             0.8,
             "#7fbc41"
            ],
            [
             0.9,
             "#4d9221"
            ],
            [
             1,
             "#276419"
            ]
           ],
           "sequential": [
            [
             0,
             "#0d0887"
            ],
            [
             0.1111111111111111,
             "#46039f"
            ],
            [
             0.2222222222222222,
             "#7201a8"
            ],
            [
             0.3333333333333333,
             "#9c179e"
            ],
            [
             0.4444444444444444,
             "#bd3786"
            ],
            [
             0.5555555555555556,
             "#d8576b"
            ],
            [
             0.6666666666666666,
             "#ed7953"
            ],
            [
             0.7777777777777778,
             "#fb9f3a"
            ],
            [
             0.8888888888888888,
             "#fdca26"
            ],
            [
             1,
             "#f0f921"
            ]
           ],
           "sequentialminus": [
            [
             0,
             "#0d0887"
            ],
            [
             0.1111111111111111,
             "#46039f"
            ],
            [
             0.2222222222222222,
             "#7201a8"
            ],
            [
             0.3333333333333333,
             "#9c179e"
            ],
            [
             0.4444444444444444,
             "#bd3786"
            ],
            [
             0.5555555555555556,
             "#d8576b"
            ],
            [
             0.6666666666666666,
             "#ed7953"
            ],
            [
             0.7777777777777778,
             "#fb9f3a"
            ],
            [
             0.8888888888888888,
             "#fdca26"
            ],
            [
             1,
             "#f0f921"
            ]
           ]
          },
          "colorway": [
           "#636efa",
           "#EF553B",
           "#00cc96",
           "#ab63fa",
           "#FFA15A",
           "#19d3f3",
           "#FF6692",
           "#B6E880",
           "#FF97FF",
           "#FECB52"
          ],
          "font": {
           "color": "#2a3f5f"
          },
          "geo": {
           "bgcolor": "white",
           "lakecolor": "white",
           "landcolor": "#E5ECF6",
           "showlakes": true,
           "showland": true,
           "subunitcolor": "white"
          },
          "hoverlabel": {
           "align": "left"
          },
          "hovermode": "closest",
          "mapbox": {
           "style": "light"
          },
          "paper_bgcolor": "white",
          "plot_bgcolor": "#E5ECF6",
          "polar": {
           "angularaxis": {
            "gridcolor": "white",
            "linecolor": "white",
            "ticks": ""
           },
           "bgcolor": "#E5ECF6",
           "radialaxis": {
            "gridcolor": "white",
            "linecolor": "white",
            "ticks": ""
           }
          },
          "scene": {
           "xaxis": {
            "backgroundcolor": "#E5ECF6",
            "gridcolor": "white",
            "gridwidth": 2,
            "linecolor": "white",
            "showbackground": true,
            "ticks": "",
            "zerolinecolor": "white"
           },
           "yaxis": {
            "backgroundcolor": "#E5ECF6",
            "gridcolor": "white",
            "gridwidth": 2,
            "linecolor": "white",
            "showbackground": true,
            "ticks": "",
            "zerolinecolor": "white"
           },
           "zaxis": {
            "backgroundcolor": "#E5ECF6",
            "gridcolor": "white",
            "gridwidth": 2,
            "linecolor": "white",
            "showbackground": true,
            "ticks": "",
            "zerolinecolor": "white"
           }
          },
          "shapedefaults": {
           "line": {
            "color": "#2a3f5f"
           }
          },
          "ternary": {
           "aaxis": {
            "gridcolor": "white",
            "linecolor": "white",
            "ticks": ""
           },
           "baxis": {
            "gridcolor": "white",
            "linecolor": "white",
            "ticks": ""
           },
           "bgcolor": "#E5ECF6",
           "caxis": {
            "gridcolor": "white",
            "linecolor": "white",
            "ticks": ""
           }
          },
          "title": {
           "x": 0.05
          },
          "xaxis": {
           "automargin": true,
           "gridcolor": "white",
           "linecolor": "white",
           "ticks": "",
           "title": {
            "standoff": 15
           },
           "zerolinecolor": "white",
           "zerolinewidth": 2
          },
          "yaxis": {
           "automargin": true,
           "gridcolor": "white",
           "linecolor": "white",
           "ticks": "",
           "title": {
            "standoff": 15
           },
           "zerolinecolor": "white",
           "zerolinewidth": 2
          }
         }
        },
        "title": {
         "text": "📊 Distribución de Clientes por Rango de Valor"
        },
        "xaxis": {
         "anchor": "y",
         "domain": [
          0,
          1
         ],
         "title": {
          "text": "Rango de Valor"
         }
        },
        "yaxis": {
         "anchor": "x",
         "domain": [
          0,
          1
         ],
         "title": {
          "text": "Número de Clientes"
         }
        }
       }
      }
     },
     "metadata": {},
     "output_type": "display_data"
    },
    {
     "name": "stdout",
     "output_type": "stream",
     "text": [
      "✅ Análisis de clientes completado!\n"
     ]
    }
   ],
   "source": [
    "# Análisis de clientes más valiosos\n",
    "print(\"👑 ANÁLISIS DE CLIENTES TOP\")\n",
    "print(\"=\"*50)\n",
    "\n",
    "# Métricas por cliente\n",
    "clientes_metricas = df_clean.groupby('Name').agg({\n",
    "    'Amount': ['sum', 'mean', 'count'],\n",
    "    'Qty': 'sum',\n",
    "    'Date': ['min', 'max']\n",
    "}).round(2)\n",
    "\n",
    "# Aplanar los nombres de columnas\n",
    "clientes_metricas.columns = ['Total_Ventas', 'Ticket_Promedio', 'Num_Transacciones', 'Total_Cantidad', 'Primera_Compra', 'Ultima_Compra']\n",
    "clientes_metricas = clientes_metricas.reset_index()\n",
    "\n",
    "# Calcular días como cliente\n",
    "clientes_metricas['Dias_Como_Cliente'] = (clientes_metricas['Ultima_Compra'] - clientes_metricas['Primera_Compra']).dt.days + 1\n",
    "clientes_metricas['Frecuencia_Compras'] = clientes_metricas['Num_Transacciones'] / clientes_metricas['Dias_Como_Cliente']\n",
    "\n",
    "# Top 15 clientes por valor total\n",
    "top_clientes_valor = clientes_metricas.nlargest(15, 'Total_Ventas')\n",
    "\n",
    "# Gráfico de barras horizontal para top clientes\n",
    "fig_clientes_valor = px.bar(\n",
    "    top_clientes_valor,\n",
    "    x='Total_Ventas',\n",
    "    y='Name',\n",
    "    orientation='h',\n",
    "    title='👑 Top 15 Clientes por Valor Total de Compras - Honduras',\n",
    "    labels={'Total_Ventas': 'Ventas Totales (L)', 'Name': 'Cliente'},\n",
    "    color='Total_Ventas',\n",
    "    color_continuous_scale='viridis'\n",
    ")\n",
    "fig_clientes_valor.update_layout(\n",
    "    height=600,\n",
    "    yaxis={'categoryorder': 'total ascending'}\n",
    ")\n",
    "fig_clientes_valor.show()\n",
    "\n",
    "# Análisis de frecuencia vs valor\n",
    "fig_scatter_clientes = px.scatter(\n",
    "    clientes_metricas,\n",
    "    x='Num_Transacciones',\n",
    "    y='Total_Ventas',\n",
    "    size='Ticket_Promedio',\n",
    "    hover_data=['Name', 'Frecuencia_Compras'],\n",
    "    title='💎 Análisis de Clientes: Frecuencia vs Valor - Honduras',\n",
    "    labels={\n",
    "        'Num_Transacciones': 'Número de Transacciones',\n",
    "        'Total_Ventas': 'Ventas Totales (L)',\n",
    "        'Ticket_Promedio': 'Ticket Promedio (L)'\n",
    "    },\n",
    "    color='Ticket_Promedio',\n",
    "    color_continuous_scale='viridis'\n",
    ")\n",
    "fig_scatter_clientes.update_layout(height=500)\n",
    "fig_scatter_clientes.show()\n",
    "\n",
    "# Top clientes por frecuencia de compras\n",
    "top_clientes_frecuencia = clientes_metricas.nlargest(10, 'Num_Transacciones')\n",
    "\n",
    "fig_clientes_frecuencia = px.bar(\n",
    "    top_clientes_frecuencia,\n",
    "    x='Num_Transacciones',\n",
    "    y='Name',\n",
    "    orientation='h',\n",
    "    title='🔄 Top 10 Clientes por Frecuencia de Compras',\n",
    "    labels={'Num_Transacciones': 'Número de Transacciones', 'Name': 'Cliente'},\n",
    "    color='Num_Transacciones',\n",
    "    color_continuous_scale='plasma'\n",
    ")\n",
    "fig_clientes_frecuencia.update_layout(\n",
    "    height=500,\n",
    "    yaxis={'categoryorder': 'total ascending'}\n",
    ")\n",
    "fig_clientes_frecuencia.show()\n",
    "\n",
    "# Distribución de clientes por rangos de valor\n",
    "clientes_metricas['Rango_Valor'] = pd.cut(\n",
    "    clientes_metricas['Total_Ventas'],\n",
    "    bins=[0, 100, 500, 1000, 2000, float('inf')],\n",
    "    labels=['L 0-100', 'L 100-500', 'L 500-1K', 'L 1K-2K', 'L 2K+']\n",
    ")\n",
    "\n",
    "distribucion_clientes = clientes_metricas['Rango_Valor'].value_counts().reset_index()\n",
    "distribucion_clientes.columns = ['Rango_Valor', 'Cantidad_Clientes']\n",
    "\n",
    "fig_distribucion = px.bar(\n",
    "    distribucion_clientes,\n",
    "    x='Rango_Valor',\n",
    "    y='Cantidad_Clientes',\n",
    "    title='📊 Distribución de Clientes por Rango de Valor - Honduras',\n",
    "    labels={'Cantidad_Clientes': 'Número de Clientes', 'Rango_Valor': 'Rango de Valor'},\n",
    "    color='Cantidad_Clientes',\n",
    "    color_continuous_scale='viridis'\n",
    ")\n",
    "fig_distribucion.update_layout(height=400)\n",
    "fig_distribucion.show()\n",
    "\n",
    "print(\"✅ Análisis de clientes completado!\")"
   ]
  },
  {
   "cell_type": "markdown",
   "id": "fd39fc22",
   "metadata": {},
   "source": [
    "## 8. Dashboard Interactivo"
   ]
  },
  {
   "cell_type": "code",
   "execution_count": null,
   "id": "8e4b7566",
   "metadata": {},
   "outputs": [
    {
     "name": "stdout",
     "output_type": "stream",
     "text": [
      "🎯 DASHBOARD INTERACTIVO DE INTELIGENCIA DE NEGOCIOS\n",
      "============================================================\n"
     ]
    },
    {
     "data": {
      "application/vnd.plotly.v1+json": {
       "config": {
        "plotlyServerURL": "https://plot.ly"
       },
       "data": [
        {
         "line": {
          "color": "#1f77b4"
         },
         "mode": "lines+markers",
         "name": "Ventas Diarias",
         "type": "scatter",
         "x": [
          "2025-01-01T00:00:00.000000000",
          "2025-01-02T00:00:00.000000000",
          "2025-01-03T00:00:00.000000000",
          "2025-01-04T00:00:00.000000000",
          "2025-01-05T00:00:00.000000000",
          "2025-01-06T00:00:00.000000000",
          "2025-01-07T00:00:00.000000000",
          "2025-01-08T00:00:00.000000000",
          "2025-01-09T00:00:00.000000000",
          "2025-01-10T00:00:00.000000000",
          "2025-01-11T00:00:00.000000000",
          "2025-01-12T00:00:00.000000000",
          "2025-01-13T00:00:00.000000000",
          "2025-01-14T00:00:00.000000000",
          "2025-01-15T00:00:00.000000000",
          "2025-01-16T00:00:00.000000000",
          "2025-01-17T00:00:00.000000000",
          "2025-01-18T00:00:00.000000000",
          "2025-01-19T00:00:00.000000000",
          "2025-01-20T00:00:00.000000000",
          "2025-01-21T00:00:00.000000000",
          "2025-01-22T00:00:00.000000000",
          "2025-01-23T00:00:00.000000000",
          "2025-01-24T00:00:00.000000000",
          "2025-01-25T00:00:00.000000000",
          "2025-01-26T00:00:00.000000000",
          "2025-01-27T00:00:00.000000000",
          "2025-01-28T00:00:00.000000000",
          "2025-01-29T00:00:00.000000000",
          "2025-01-30T00:00:00.000000000",
          "2025-01-31T00:00:00.000000000",
          "2025-02-01T00:00:00.000000000",
          "2025-02-02T00:00:00.000000000",
          "2025-02-03T00:00:00.000000000",
          "2025-02-04T00:00:00.000000000",
          "2025-02-05T00:00:00.000000000",
          "2025-02-06T00:00:00.000000000",
          "2025-02-07T00:00:00.000000000",
          "2025-02-08T00:00:00.000000000",
          "2025-02-09T00:00:00.000000000",
          "2025-02-10T00:00:00.000000000",
          "2025-02-11T00:00:00.000000000",
          "2025-02-12T00:00:00.000000000",
          "2025-02-13T00:00:00.000000000",
          "2025-02-14T00:00:00.000000000",
          "2025-02-15T00:00:00.000000000",
          "2025-02-16T00:00:00.000000000",
          "2025-02-17T00:00:00.000000000",
          "2025-02-18T00:00:00.000000000",
          "2025-02-19T00:00:00.000000000",
          "2025-02-20T00:00:00.000000000",
          "2025-02-21T00:00:00.000000000",
          "2025-02-22T00:00:00.000000000",
          "2025-02-23T00:00:00.000000000",
          "2025-02-24T00:00:00.000000000",
          "2025-02-25T00:00:00.000000000",
          "2025-02-26T00:00:00.000000000",
          "2025-02-27T00:00:00.000000000",
          "2025-02-28T00:00:00.000000000",
          "2025-03-01T00:00:00.000000000",
          "2025-03-02T00:00:00.000000000",
          "2025-03-03T00:00:00.000000000",
          "2025-03-04T00:00:00.000000000",
          "2025-03-05T00:00:00.000000000",
          "2025-03-06T00:00:00.000000000",
          "2025-03-07T00:00:00.000000000",
          "2025-03-08T00:00:00.000000000",
          "2025-03-09T00:00:00.000000000",
          "2025-03-10T00:00:00.000000000",
          "2025-03-11T00:00:00.000000000",
          "2025-03-12T00:00:00.000000000",
          "2025-03-13T00:00:00.000000000",
          "2025-03-14T00:00:00.000000000",
          "2025-03-15T00:00:00.000000000",
          "2025-03-16T00:00:00.000000000",
          "2025-03-17T00:00:00.000000000",
          "2025-03-18T00:00:00.000000000",
          "2025-03-19T00:00:00.000000000",
          "2025-03-20T00:00:00.000000000",
          "2025-03-21T00:00:00.000000000",
          "2025-03-22T00:00:00.000000000",
          "2025-03-23T00:00:00.000000000",
          "2025-03-24T00:00:00.000000000",
          "2025-03-25T00:00:00.000000000",
          "2025-03-26T00:00:00.000000000",
          "2025-03-27T00:00:00.000000000",
          "2025-03-28T00:00:00.000000000",
          "2025-03-29T00:00:00.000000000",
          "2025-03-30T00:00:00.000000000",
          "2025-03-31T00:00:00.000000000",
          "2025-04-01T00:00:00.000000000",
          "2025-04-02T00:00:00.000000000",
          "2025-04-03T00:00:00.000000000",
          "2025-04-04T00:00:00.000000000",
          "2025-04-05T00:00:00.000000000",
          "2025-04-06T00:00:00.000000000",
          "2025-04-07T00:00:00.000000000",
          "2025-04-08T00:00:00.000000000",
          "2025-04-09T00:00:00.000000000",
          "2025-04-10T00:00:00.000000000",
          "2025-04-11T00:00:00.000000000",
          "2025-04-12T00:00:00.000000000",
          "2025-04-13T00:00:00.000000000",
          "2025-04-14T00:00:00.000000000",
          "2025-04-15T00:00:00.000000000",
          "2025-04-16T00:00:00.000000000",
          "2025-04-17T00:00:00.000000000",
          "2025-04-18T00:00:00.000000000",
          "2025-04-19T00:00:00.000000000",
          "2025-04-20T00:00:00.000000000",
          "2025-04-21T00:00:00.000000000",
          "2025-04-22T00:00:00.000000000",
          "2025-04-23T00:00:00.000000000",
          "2025-04-24T00:00:00.000000000",
          "2025-04-25T00:00:00.000000000",
          "2025-04-26T00:00:00.000000000",
          "2025-04-27T00:00:00.000000000",
          "2025-04-28T00:00:00.000000000",
          "2025-04-29T00:00:00.000000000",
          "2025-04-30T00:00:00.000000000",
          "2025-05-01T00:00:00.000000000",
          "2025-05-02T00:00:00.000000000",
          "2025-05-03T00:00:00.000000000",
          "2025-05-04T00:00:00.000000000",
          "2025-05-05T00:00:00.000000000",
          "2025-05-06T00:00:00.000000000",
          "2025-05-07T00:00:00.000000000",
          "2025-05-08T00:00:00.000000000",
          "2025-05-09T00:00:00.000000000",
          "2025-05-10T00:00:00.000000000",
          "2025-05-11T00:00:00.000000000",
          "2025-05-12T00:00:00.000000000",
          "2025-05-13T00:00:00.000000000",
          "2025-05-14T00:00:00.000000000",
          "2025-05-15T00:00:00.000000000",
          "2025-05-16T00:00:00.000000000",
          "2025-05-17T00:00:00.000000000",
          "2025-05-18T00:00:00.000000000",
          "2025-05-19T00:00:00.000000000",
          "2025-05-20T00:00:00.000000000",
          "2025-05-21T00:00:00.000000000",
          "2025-05-22T00:00:00.000000000",
          "2025-05-23T00:00:00.000000000",
          "2025-05-24T00:00:00.000000000",
          "2025-05-25T00:00:00.000000000",
          "2025-05-26T00:00:00.000000000",
          "2025-05-27T00:00:00.000000000",
          "2025-05-28T00:00:00.000000000",
          "2025-05-29T00:00:00.000000000",
          "2025-05-30T00:00:00.000000000",
          "2025-05-31T00:00:00.000000000",
          "2025-06-01T00:00:00.000000000",
          "2025-06-02T00:00:00.000000000",
          "2025-06-03T00:00:00.000000000",
          "2025-06-04T00:00:00.000000000",
          "2025-06-05T00:00:00.000000000",
          "2025-06-06T00:00:00.000000000",
          "2025-06-07T00:00:00.000000000",
          "2025-06-08T00:00:00.000000000",
          "2025-06-09T00:00:00.000000000",
          "2025-06-10T00:00:00.000000000",
          "2025-06-11T00:00:00.000000000",
          "2025-06-12T00:00:00.000000000",
          "2025-06-13T00:00:00.000000000",
          "2025-06-14T00:00:00.000000000",
          "2025-06-15T00:00:00.000000000",
          "2025-06-16T00:00:00.000000000",
          "2025-06-17T00:00:00.000000000",
          "2025-06-18T00:00:00.000000000",
          "2025-06-19T00:00:00.000000000",
          "2025-06-20T00:00:00.000000000",
          "2025-06-21T00:00:00.000000000",
          "2025-06-22T00:00:00.000000000",
          "2025-06-23T00:00:00.000000000",
          "2025-06-24T00:00:00.000000000",
          "2025-06-25T00:00:00.000000000",
          "2025-06-26T00:00:00.000000000",
          "2025-06-27T00:00:00.000000000",
          "2025-06-28T00:00:00.000000000",
          "2025-06-29T00:00:00.000000000",
          "2025-06-30T00:00:00.000000000",
          "2025-07-01T00:00:00.000000000",
          "2025-07-02T00:00:00.000000000",
          "2025-07-03T00:00:00.000000000",
          "2025-07-04T00:00:00.000000000",
          "2025-07-05T00:00:00.000000000",
          "2025-07-06T00:00:00.000000000",
          "2025-07-07T00:00:00.000000000",
          "2025-07-08T00:00:00.000000000",
          "2025-07-09T00:00:00.000000000",
          "2025-07-10T00:00:00.000000000",
          "2025-07-11T00:00:00.000000000",
          "2025-07-12T00:00:00.000000000",
          "2025-07-13T00:00:00.000000000",
          "2025-07-14T00:00:00.000000000",
          "2025-07-15T00:00:00.000000000",
          "2025-07-16T00:00:00.000000000",
          "2025-07-17T00:00:00.000000000",
          "2025-07-18T00:00:00.000000000",
          "2025-07-19T00:00:00.000000000",
          "2025-07-20T00:00:00.000000000",
          "2025-07-21T00:00:00.000000000",
          "2025-07-22T00:00:00.000000000",
          "2025-07-23T00:00:00.000000000",
          "2025-07-24T00:00:00.000000000",
          "2025-07-25T00:00:00.000000000",
          "2025-07-26T00:00:00.000000000",
          "2025-07-27T00:00:00.000000000",
          "2025-07-28T00:00:00.000000000",
          "2025-07-29T00:00:00.000000000",
          "2025-07-30T00:00:00.000000000",
          "2025-07-31T00:00:00.000000000",
          "2025-08-01T00:00:00.000000000",
          "2025-08-02T00:00:00.000000000",
          "2025-08-03T00:00:00.000000000",
          "2025-08-04T00:00:00.000000000",
          "2025-08-05T00:00:00.000000000",
          "2025-08-06T00:00:00.000000000",
          "2025-08-07T00:00:00.000000000",
          "2025-08-08T00:00:00.000000000",
          "2025-08-09T00:00:00.000000000",
          "2025-08-10T00:00:00.000000000",
          "2025-08-11T00:00:00.000000000",
          "2025-08-12T00:00:00.000000000",
          "2025-08-13T00:00:00.000000000",
          "2025-08-14T00:00:00.000000000",
          "2025-08-15T00:00:00.000000000",
          "2025-08-16T00:00:00.000000000",
          "2025-08-17T00:00:00.000000000",
          "2025-08-18T00:00:00.000000000",
          "2025-08-19T00:00:00.000000000",
          "2025-08-20T00:00:00.000000000",
          "2025-08-21T00:00:00.000000000",
          "2025-08-22T00:00:00.000000000",
          "2025-08-23T00:00:00.000000000",
          "2025-08-24T00:00:00.000000000",
          "2025-08-25T00:00:00.000000000",
          "2025-08-26T00:00:00.000000000",
          "2025-08-27T00:00:00.000000000",
          "2025-08-28T00:00:00.000000000",
          "2025-08-29T00:00:00.000000000",
          "2025-08-30T00:00:00.000000000",
          "2025-08-31T00:00:00.000000000",
          "2025-09-01T00:00:00.000000000",
          "2025-09-02T00:00:00.000000000",
          "2025-09-03T00:00:00.000000000",
          "2025-09-04T00:00:00.000000000",
          "2025-09-05T00:00:00.000000000",
          "2025-09-06T00:00:00.000000000",
          "2025-09-07T00:00:00.000000000",
          "2025-09-08T00:00:00.000000000",
          "2025-09-09T00:00:00.000000000",
          "2025-09-10T00:00:00.000000000",
          "2025-09-11T00:00:00.000000000"
         ],
         "xaxis": "x",
         "y": {
          "bdata": "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",
          "dtype": "f8"
         },
         "yaxis": "y"
        },
        {
         "marker": {
          "color": "#ff7f0e"
         },
         "name": "Top Productos",
         "orientation": "h",
         "type": "bar",
         "x": {
          "bdata": "AAAAAE2PM0GamZkZPagwQeF6FK4+vS1BzczMTAkRJkEK16Nw6WAjQQ==",
          "dtype": "f8"
         },
         "xaxis": "x2",
         "y": [
          "03 BOTELLONES:Botellon Liquido",
          "04 HIELO:Bolsa 5.5 Lbs",
          "04 HIELO:Tonelada Escarcha",
          "ISV-15%",
          "02 BOTECITOS PAQUETES:BOTE 1 L PAQ"
         ],
         "yaxis": "y2"
        },
        {
         "marker": {
          "color": "#2ca02c"
         },
         "name": "Ventas por Día",
         "type": "bar",
         "x": [
          "Monday",
          "Tuesday",
          "Wednesday",
          "Thursday",
          "Friday",
          "Saturday",
          "Sunday"
         ],
         "xaxis": "x3",
         "y": {
          "bdata": "cT0Klw2MNEFI4XqU0SwxQUjhehQxVy9BMzMz84+0MkHrUbge6DYnQUjhelTamDJBAAAAALqlHEE=",
          "dtype": "f8"
         },
         "yaxis": "y3"
        },
        {
         "marker": {
          "color": "#d62728"
         },
         "name": "Top Clientes",
         "orientation": "h",
         "type": "bar",
         "x": {
          "bdata": "AAAAAPSpJkE9CtejjOUQQQAAAAD8Uw5BMzMzMxX0DUEAAAAATJIJQQ==",
          "dtype": "f8"
         },
         "xaxis": "x4",
         "y": [
          "DURACRETO SA DE CV",
          "IDALIA ZELAYA",
          "NORTH OCEANICA S DE RL:INVERSIONES CANGREJAL",
          "DENNIE BUSH",
          "AZUL INTEREXPORT"
         ],
         "yaxis": "y4"
        },
        {
         "domain": {
          "x": [
           0,
           0.45
          ],
          "y": [
           0,
           0.25333333333333335
          ]
         },
         "labels": [
          "Agua en Bolsa",
          "Botecitos",
          "Botellones",
          "Hielo",
          "Impuestos",
          "Otros"
         ],
         "name": "Categorías",
         "type": "pie",
         "values": {
          "bdata": "mpmZGWmZNEFcj8J1erwuQQAAAADlXzRBpHA9ajjuREHNzMxMCREmQYXrUbjeIc1A",
          "dtype": "f8"
         }
        },
        {
         "cells": {
          "fill": {
           "color": "lightgray"
          },
          "values": [
           [
            "Ventas Totales",
            "Total Transacciones",
            "Ticket Promedio",
            "Clientes Únicos",
            "Productos Únicos"
           ],
           [
            "$7,173,828.55",
            "31,411",
            "$228.39",
            "664",
            "27"
           ]
          ]
         },
         "domain": {
          "x": [
           0.55,
           1
          ],
          "y": [
           0,
           0.25333333333333335
          ]
         },
         "header": {
          "fill": {
           "color": "lightblue"
          },
          "values": [
           "Métrica",
           "Valor"
          ]
         },
         "type": "table"
        }
       ],
       "layout": {
        "annotations": [
         {
          "font": {
           "size": 16
          },
          "showarrow": false,
          "text": "Ventas Diarias",
          "x": 0.225,
          "xanchor": "center",
          "xref": "paper",
          "y": 1,
          "yanchor": "bottom",
          "yref": "paper"
         },
         {
          "font": {
           "size": 16
          },
          "showarrow": false,
          "text": "Top 5 Productos por Ingresos",
          "x": 0.775,
          "xanchor": "center",
          "xref": "paper",
          "y": 1,
          "yanchor": "bottom",
          "yref": "paper"
         },
         {
          "font": {
           "size": 16
          },
          "showarrow": false,
          "text": "Ventas por Día de la Semana",
          "x": 0.225,
          "xanchor": "center",
          "xref": "paper",
          "y": 0.6266666666666667,
          "yanchor": "bottom",
          "yref": "paper"
         },
         {
          "font": {
           "size": 16
          },
          "showarrow": false,
          "text": "Top 5 Clientes",
          "x": 0.775,
          "xanchor": "center",
          "xref": "paper",
          "y": 0.6266666666666667,
          "yanchor": "bottom",
          "yref": "paper"
         },
         {
          "font": {
           "size": 16
          },
          "showarrow": false,
          "text": "Distribución por Categoría",
          "x": 0.225,
          "xanchor": "center",
          "xref": "paper",
          "y": 0.25333333333333335,
          "yanchor": "bottom",
          "yref": "paper"
         },
         {
          "font": {
           "size": 16
          },
          "showarrow": false,
          "text": "Métricas Clave",
          "x": 0.775,
          "xanchor": "center",
          "xref": "paper",
          "y": 0.25333333333333335,
          "yanchor": "bottom",
          "yref": "paper"
         }
        ],
        "height": 1200,
        "showlegend": false,
        "template": {
         "data": {
          "bar": [
           {
            "error_x": {
             "color": "#2a3f5f"
            },
            "error_y": {
             "color": "#2a3f5f"
            },
            "marker": {
             "line": {
              "color": "#E5ECF6",
              "width": 0.5
             },
             "pattern": {
              "fillmode": "overlay",
              "size": 10,
              "solidity": 0.2
             }
            },
            "type": "bar"
           }
          ],
          "barpolar": [
           {
            "marker": {
             "line": {
              "color": "#E5ECF6",
              "width": 0.5
             },
             "pattern": {
              "fillmode": "overlay",
              "size": 10,
              "solidity": 0.2
             }
            },
            "type": "barpolar"
           }
          ],
          "carpet": [
           {
            "aaxis": {
             "endlinecolor": "#2a3f5f",
             "gridcolor": "white",
             "linecolor": "white",
             "minorgridcolor": "white",
             "startlinecolor": "#2a3f5f"
            },
            "baxis": {
             "endlinecolor": "#2a3f5f",
             "gridcolor": "white",
             "linecolor": "white",
             "minorgridcolor": "white",
             "startlinecolor": "#2a3f5f"
            },
            "type": "carpet"
           }
          ],
          "choropleth": [
           {
            "colorbar": {
             "outlinewidth": 0,
             "ticks": ""
            },
            "type": "choropleth"
           }
          ],
          "contour": [
           {
            "colorbar": {
             "outlinewidth": 0,
             "ticks": ""
            },
            "colorscale": [
             [
              0,
              "#0d0887"
             ],
             [
              0.1111111111111111,
              "#46039f"
             ],
             [
              0.2222222222222222,
              "#7201a8"
             ],
             [
              0.3333333333333333,
              "#9c179e"
             ],
             [
              0.4444444444444444,
              "#bd3786"
             ],
             [
              0.5555555555555556,
              "#d8576b"
             ],
             [
              0.6666666666666666,
              "#ed7953"
             ],
             [
              0.7777777777777778,
              "#fb9f3a"
             ],
             [
              0.8888888888888888,
              "#fdca26"
             ],
             [
              1,
              "#f0f921"
             ]
            ],
            "type": "contour"
           }
          ],
          "contourcarpet": [
           {
            "colorbar": {
             "outlinewidth": 0,
             "ticks": ""
            },
            "type": "contourcarpet"
           }
          ],
          "heatmap": [
           {
            "colorbar": {
             "outlinewidth": 0,
             "ticks": ""
            },
            "colorscale": [
             [
              0,
              "#0d0887"
             ],
             [
              0.1111111111111111,
              "#46039f"
             ],
             [
              0.2222222222222222,
              "#7201a8"
             ],
             [
              0.3333333333333333,
              "#9c179e"
             ],
             [
              0.4444444444444444,
              "#bd3786"
             ],
             [
              0.5555555555555556,
              "#d8576b"
             ],
             [
              0.6666666666666666,
              "#ed7953"
             ],
             [
              0.7777777777777778,
              "#fb9f3a"
             ],
             [
              0.8888888888888888,
              "#fdca26"
             ],
             [
              1,
              "#f0f921"
             ]
            ],
            "type": "heatmap"
           }
          ],
          "histogram": [
           {
            "marker": {
             "pattern": {
              "fillmode": "overlay",
              "size": 10,
              "solidity": 0.2
             }
            },
            "type": "histogram"
           }
          ],
          "histogram2d": [
           {
            "colorbar": {
             "outlinewidth": 0,
             "ticks": ""
            },
            "colorscale": [
             [
              0,
              "#0d0887"
             ],
             [
              0.1111111111111111,
              "#46039f"
             ],
             [
              0.2222222222222222,
              "#7201a8"
             ],
             [
              0.3333333333333333,
              "#9c179e"
             ],
             [
              0.4444444444444444,
              "#bd3786"
             ],
             [
              0.5555555555555556,
              "#d8576b"
             ],
             [
              0.6666666666666666,
              "#ed7953"
             ],
             [
              0.7777777777777778,
              "#fb9f3a"
             ],
             [
              0.8888888888888888,
              "#fdca26"
             ],
             [
              1,
              "#f0f921"
             ]
            ],
            "type": "histogram2d"
           }
          ],
          "histogram2dcontour": [
           {
            "colorbar": {
             "outlinewidth": 0,
             "ticks": ""
            },
            "colorscale": [
             [
              0,
              "#0d0887"
             ],
             [
              0.1111111111111111,
              "#46039f"
             ],
             [
              0.2222222222222222,
              "#7201a8"
             ],
             [
              0.3333333333333333,
              "#9c179e"
             ],
             [
              0.4444444444444444,
              "#bd3786"
             ],
             [
              0.5555555555555556,
              "#d8576b"
             ],
             [
              0.6666666666666666,
              "#ed7953"
             ],
             [
              0.7777777777777778,
              "#fb9f3a"
             ],
             [
              0.8888888888888888,
              "#fdca26"
             ],
             [
              1,
              "#f0f921"
             ]
            ],
            "type": "histogram2dcontour"
           }
          ],
          "mesh3d": [
           {
            "colorbar": {
             "outlinewidth": 0,
             "ticks": ""
            },
            "type": "mesh3d"
           }
          ],
          "parcoords": [
           {
            "line": {
             "colorbar": {
              "outlinewidth": 0,
              "ticks": ""
             }
            },
            "type": "parcoords"
           }
          ],
          "pie": [
           {
            "automargin": true,
            "type": "pie"
           }
          ],
          "scatter": [
           {
            "fillpattern": {
             "fillmode": "overlay",
             "size": 10,
             "solidity": 0.2
            },
            "type": "scatter"
           }
          ],
          "scatter3d": [
           {
            "line": {
             "colorbar": {
              "outlinewidth": 0,
              "ticks": ""
             }
            },
            "marker": {
             "colorbar": {
              "outlinewidth": 0,
              "ticks": ""
             }
            },
            "type": "scatter3d"
           }
          ],
          "scattercarpet": [
           {
            "marker": {
             "colorbar": {
              "outlinewidth": 0,
              "ticks": ""
             }
            },
            "type": "scattercarpet"
           }
          ],
          "scattergeo": [
           {
            "marker": {
             "colorbar": {
              "outlinewidth": 0,
              "ticks": ""
             }
            },
            "type": "scattergeo"
           }
          ],
          "scattergl": [
           {
            "marker": {
             "colorbar": {
              "outlinewidth": 0,
              "ticks": ""
             }
            },
            "type": "scattergl"
           }
          ],
          "scattermap": [
           {
            "marker": {
             "colorbar": {
              "outlinewidth": 0,
              "ticks": ""
             }
            },
            "type": "scattermap"
           }
          ],
          "scattermapbox": [
           {
            "marker": {
             "colorbar": {
              "outlinewidth": 0,
              "ticks": ""
             }
            },
            "type": "scattermapbox"
           }
          ],
          "scatterpolar": [
           {
            "marker": {
             "colorbar": {
              "outlinewidth": 0,
              "ticks": ""
             }
            },
            "type": "scatterpolar"
           }
          ],
          "scatterpolargl": [
           {
            "marker": {
             "colorbar": {
              "outlinewidth": 0,
              "ticks": ""
             }
            },
            "type": "scatterpolargl"
           }
          ],
          "scatterternary": [
           {
            "marker": {
             "colorbar": {
              "outlinewidth": 0,
              "ticks": ""
             }
            },
            "type": "scatterternary"
           }
          ],
          "surface": [
           {
            "colorbar": {
             "outlinewidth": 0,
             "ticks": ""
            },
            "colorscale": [
             [
              0,
              "#0d0887"
             ],
             [
              0.1111111111111111,
              "#46039f"
             ],
             [
              0.2222222222222222,
              "#7201a8"
             ],
             [
              0.3333333333333333,
              "#9c179e"
             ],
             [
              0.4444444444444444,
              "#bd3786"
             ],
             [
              0.5555555555555556,
              "#d8576b"
             ],
             [
              0.6666666666666666,
              "#ed7953"
             ],
             [
              0.7777777777777778,
              "#fb9f3a"
             ],
             [
              0.8888888888888888,
              "#fdca26"
             ],
             [
              1,
              "#f0f921"
             ]
            ],
            "type": "surface"
           }
          ],
          "table": [
           {
            "cells": {
             "fill": {
              "color": "#EBF0F8"
             },
             "line": {
              "color": "white"
             }
            },
            "header": {
             "fill": {
              "color": "#C8D4E3"
             },
             "line": {
              "color": "white"
             }
            },
            "type": "table"
           }
          ]
         },
         "layout": {
          "annotationdefaults": {
           "arrowcolor": "#2a3f5f",
           "arrowhead": 0,
           "arrowwidth": 1
          },
          "autotypenumbers": "strict",
          "coloraxis": {
           "colorbar": {
            "outlinewidth": 0,
            "ticks": ""
           }
          },
          "colorscale": {
           "diverging": [
            [
             0,
             "#8e0152"
            ],
            [
             0.1,
             "#c51b7d"
            ],
            [
             0.2,
             "#de77ae"
            ],
            [
             0.3,
             "#f1b6da"
            ],
            [
             0.4,
             "#fde0ef"
            ],
            [
             0.5,
             "#f7f7f7"
            ],
            [
             0.6,
             "#e6f5d0"
            ],
            [
             0.7,
             "#b8e186"
            ],
            [
             0.8,
             "#7fbc41"
            ],
            [
             0.9,
             "#4d9221"
            ],
            [
             1,
             "#276419"
            ]
           ],
           "sequential": [
            [
             0,
             "#0d0887"
            ],
            [
             0.1111111111111111,
             "#46039f"
            ],
            [
             0.2222222222222222,
             "#7201a8"
            ],
            [
             0.3333333333333333,
             "#9c179e"
            ],
            [
             0.4444444444444444,
             "#bd3786"
            ],
            [
             0.5555555555555556,
             "#d8576b"
            ],
            [
             0.6666666666666666,
             "#ed7953"
            ],
            [
             0.7777777777777778,
             "#fb9f3a"
            ],
            [
             0.8888888888888888,
             "#fdca26"
            ],
            [
             1,
             "#f0f921"
            ]
           ],
           "sequentialminus": [
            [
             0,
             "#0d0887"
            ],
            [
             0.1111111111111111,
             "#46039f"
            ],
            [
             0.2222222222222222,
             "#7201a8"
            ],
            [
             0.3333333333333333,
             "#9c179e"
            ],
            [
             0.4444444444444444,
             "#bd3786"
            ],
            [
             0.5555555555555556,
             "#d8576b"
            ],
            [
             0.6666666666666666,
             "#ed7953"
            ],
            [
             0.7777777777777778,
             "#fb9f3a"
            ],
            [
             0.8888888888888888,
             "#fdca26"
            ],
            [
             1,
             "#f0f921"
            ]
           ]
          },
          "colorway": [
           "#636efa",
           "#EF553B",
           "#00cc96",
           "#ab63fa",
           "#FFA15A",
           "#19d3f3",
           "#FF6692",
           "#B6E880",
           "#FF97FF",
           "#FECB52"
          ],
          "font": {
           "color": "#2a3f5f"
          },
          "geo": {
           "bgcolor": "white",
           "lakecolor": "white",
           "landcolor": "#E5ECF6",
           "showlakes": true,
           "showland": true,
           "subunitcolor": "white"
          },
          "hoverlabel": {
           "align": "left"
          },
          "hovermode": "closest",
          "mapbox": {
           "style": "light"
          },
          "paper_bgcolor": "white",
          "plot_bgcolor": "#E5ECF6",
          "polar": {
           "angularaxis": {
            "gridcolor": "white",
            "linecolor": "white",
            "ticks": ""
           },
           "bgcolor": "#E5ECF6",
           "radialaxis": {
            "gridcolor": "white",
            "linecolor": "white",
            "ticks": ""
           }
          },
          "scene": {
           "xaxis": {
            "backgroundcolor": "#E5ECF6",
            "gridcolor": "white",
            "gridwidth": 2,
            "linecolor": "white",
            "showbackground": true,
            "ticks": "",
            "zerolinecolor": "white"
           },
           "yaxis": {
            "backgroundcolor": "#E5ECF6",
            "gridcolor": "white",
            "gridwidth": 2,
            "linecolor": "white",
            "showbackground": true,
            "ticks": "",
            "zerolinecolor": "white"
           },
           "zaxis": {
            "backgroundcolor": "#E5ECF6",
            "gridcolor": "white",
            "gridwidth": 2,
            "linecolor": "white",
            "showbackground": true,
            "ticks": "",
            "zerolinecolor": "white"
           }
          },
          "shapedefaults": {
           "line": {
            "color": "#2a3f5f"
           }
          },
          "ternary": {
           "aaxis": {
            "gridcolor": "white",
            "linecolor": "white",
            "ticks": ""
           },
           "baxis": {
            "gridcolor": "white",
            "linecolor": "white",
            "ticks": ""
           },
           "bgcolor": "#E5ECF6",
           "caxis": {
            "gridcolor": "white",
            "linecolor": "white",
            "ticks": ""
           }
          },
          "title": {
           "x": 0.05
          },
          "xaxis": {
           "automargin": true,
           "gridcolor": "white",
           "linecolor": "white",
           "ticks": "",
           "title": {
            "standoff": 15
           },
           "zerolinecolor": "white",
           "zerolinewidth": 2
          },
          "yaxis": {
           "automargin": true,
           "gridcolor": "white",
           "linecolor": "white",
           "ticks": "",
           "title": {
            "standoff": 15
           },
           "zerolinecolor": "white",
           "zerolinewidth": 2
          }
         }
        },
        "title": {
         "font": {
          "size": 20
         },
         "text": "🎯 Dashboard de Inteligencia de Negocios - Resumen Ejecutivo",
         "x": 0.5
        },
        "xaxis": {
         "anchor": "y",
         "domain": [
          0,
          0.45
         ],
         "title": {
          "text": "Fecha"
         }
        },
        "xaxis2": {
         "anchor": "y2",
         "domain": [
          0.55,
          1
         ],
         "title": {
          "text": "Ingresos ($)"
         }
        },
        "xaxis3": {
         "anchor": "y3",
         "domain": [
          0,
          0.45
         ],
         "title": {
          "text": "Día de la Semana"
         }
        },
        "xaxis4": {
         "anchor": "y4",
         "domain": [
          0.55,
          1
         ],
         "title": {
          "text": "Ventas Totales ($)"
         }
        },
        "yaxis": {
         "anchor": "x",
         "domain": [
          0.7466666666666667,
          1
         ],
         "title": {
          "text": "Ventas ($)"
         }
        },
        "yaxis2": {
         "anchor": "x2",
         "domain": [
          0.7466666666666667,
          1
         ],
         "title": {
          "text": "Producto"
         }
        },
        "yaxis3": {
         "anchor": "x3",
         "domain": [
          0.37333333333333335,
          0.6266666666666667
         ],
         "title": {
          "text": "Ventas ($)"
         }
        },
        "yaxis4": {
         "anchor": "x4",
         "domain": [
          0.37333333333333335,
          0.6266666666666667
         ],
         "title": {
          "text": "Cliente"
         }
        }
       }
      }
     },
     "metadata": {},
     "output_type": "display_data"
    },
    {
     "name": "stdout",
     "output_type": "stream",
     "text": [
      "\n",
      "🎉 ¡Dashboard Interactivo Creado Exitosamente!\n",
      "============================================================\n"
     ]
    }
   ],
   "source": [
    "# Dashboard Interactivo Consolidado\n",
    "print(\"🎯 DASHBOARD INTERACTIVO DE INTELIGENCIA DE NEGOCIOS\")\n",
    "print(\"=\"*60)\n",
    "\n",
    "# Crear un dashboard con múltiples subgráficos\n",
    "from plotly.subplots import make_subplots\n",
    "\n",
    "# Preparar datos para el dashboard\n",
    "dashboard_fig = make_subplots(\n",
    "    rows=3, cols=2,\n",
    "    subplot_titles=('Ventas Diarias', 'Top 5 Productos por Ingresos', \n",
    "                   'Ventas por Día de la Semana', 'Top 5 Clientes',\n",
    "                   'Distribución por Categoría', 'Métricas Clave'),\n",
    "    specs=[[{\"secondary_y\": False}, {\"secondary_y\": False}],\n",
    "           [{\"secondary_y\": False}, {\"secondary_y\": False}],\n",
    "           [{\"type\": \"pie\"}, {\"type\": \"table\"}]],\n",
    "    vertical_spacing=0.12,\n",
    "    horizontal_spacing=0.1\n",
    ")\n",
    "\n",
    "# 1. Ventas diarias (línea)\n",
    "dashboard_fig.add_trace(\n",
    "    go.Scatter(x=ventas_diarias['Fecha'], y=ventas_diarias['Ventas'],\n",
    "              mode='lines+markers', name='Ventas Diarias', line=dict(color='#1f77b4')),\n",
    "    row=1, col=1\n",
    ")\n",
    "\n",
    "# 2. Top 5 productos por ingresos (barras)\n",
    "top_5_productos = top_productos_ingresos.head(5)\n",
    "dashboard_fig.add_trace(\n",
    "    go.Bar(x=top_5_productos['Amount'], y=top_5_productos['Item'],\n",
    "           orientation='h', name='Top Productos', marker_color='#ff7f0e'),\n",
    "    row=1, col=2\n",
    ")\n",
    "\n",
    "# 3. Ventas por día de la semana (barras)\n",
    "dashboard_fig.add_trace(\n",
    "    go.Bar(x=ventas_weekday_df['Weekday'], y=ventas_weekday_df['Amount'],\n",
    "           name='Ventas por Día', marker_color='#2ca02c'),\n",
    "    row=2, col=1\n",
    ")\n",
    "\n",
    "# 4. Top 5 clientes (barras horizontales)\n",
    "top_5_clientes = top_clientes_valor.head(5)\n",
    "dashboard_fig.add_trace(\n",
    "    go.Bar(x=top_5_clientes['Total_Ventas'], y=top_5_clientes['Name'],\n",
    "           orientation='h', name='Top Clientes', marker_color='#d62728'),\n",
    "    row=2, col=2\n",
    ")\n",
    "\n",
    "# 5. Distribución por categoría (pie)\n",
    "dashboard_fig.add_trace(\n",
    "    go.Pie(labels=ventas_categoria['Categoria'], values=ventas_categoria['Amount'],\n",
    "           name=\"Categorías\"),\n",
    "    row=3, col=1\n",
    ")\n",
    "\n",
    "# 6. Tabla de métricas clave\n",
    "metricas_tabla = [\n",
    "    ['Métrica', 'Valor'],\n",
    "    ['Ventas Totales', f'L {total_ventas:,.2f}'],\n",
    "    ['Total Transacciones', f'{total_transacciones:,}'],\n",
    "    ['Ticket Promedio', f'L {ticket_promedio:.2f}'],\n",
    "    ['Clientes Únicos', f'{clientes_unicos}'],\n",
    "    ['Productos Únicos', f'{productos_unicos}']\n",
    "]\n",
    "\n",
    "dashboard_fig.add_trace(\n",
    "    go.Table(\n",
    "        header=dict(values=metricas_tabla[0], fill_color='lightblue'),\n",
    "        cells=dict(values=list(zip(*metricas_tabla[1:])), fill_color='lightgray')\n",
    "    ),\n",
    "    row=3, col=2\n",
    ")\n",
    "\n",
    "# Configurar el layout del dashboard\n",
    "dashboard_fig.update_layout(\n",
    "    height=1200,\n",
    "    title_text=\"🎯 Dashboard de Inteligencia de Negocios - Honduras 2025\",\n",
    "    title_x=0.5,\n",
    "    title_font_size=20,\n",
    "    showlegend=False\n",
    ")\n",
    "\n",
    "# Actualizar ejes\n",
    "dashboard_fig.update_xaxes(title_text=\"Fecha\", row=1, col=1)\n",
    "dashboard_fig.update_yaxes(title_text=\"Ventas (L)\", row=1, col=1)\n",
    "\n",
    "dashboard_fig.update_xaxes(title_text=\"Ingresos (L)\", row=1, col=2)\n",
    "dashboard_fig.update_yaxes(title_text=\"Producto\", row=1, col=2)\n",
    "\n",
    "dashboard_fig.update_xaxes(title_text=\"Día de la Semana\", row=2, col=1)\n",
    "dashboard_fig.update_yaxes(title_text=\"Ventas (L)\", row=2, col=1)\n",
    "\n",
    "dashboard_fig.update_xaxes(title_text=\"Ventas Totales (L)\", row=2, col=2)\n",
    "dashboard_fig.update_yaxes(title_text=\"Cliente\", row=2, col=2)\n",
    "\n",
    "dashboard_fig.show()\n",
    "\n",
    "print(\"\\n🎉 ¡Dashboard Interactivo Creado Exitosamente!\")\n",
    "print(\"=\"*60)"
   ]
  },
  {
   "cell_type": "markdown",
   "id": "2d88b4f5",
   "metadata": {},
   "source": [
    "## 📈 Resumen Ejecutivo y Recomendaciones - Honduras\n",
    "\n",
    "Basándome en el análisis de los datos de ventas de tu negocio en Honduras, aquí están los **insights clave** y **recomendaciones** estratégicas:"
   ]
  },
  {
   "cell_type": "code",
   "execution_count": null,
   "id": "0e84d39d",
   "metadata": {},
   "outputs": [
    {
     "name": "stdout",
     "output_type": "stream",
     "text": [
      "💡 INSIGHTS Y RECOMENDACIONES DE NEGOCIO\n",
      "============================================================\n",
      "\n",
      "🎯 INSIGHTS CLAVE:\n",
      "----------------------------------------\n",
      "📊 Rendimiento por categoría:\n",
      "   Hielo: $2,743,408.83 (Promedio: $401.49)\n",
      "   Agua en Bolsa: $1,349,993.10 (Promedio: $257.24)\n",
      "   Botellones: $1,335,269.00 (Promedio: $331.83)\n",
      "   Botecitos: $1,007,165.23 (Promedio: $573.56)\n",
      "   Impuestos: $723,076.65 (Promedio: $53.37)\n",
      "   Otros: $14,915.74 (Promedio: $7457.87)\n",
      "\n",
      "📅 Mejor mes: 8 ($1,022,417.67)\n",
      "📅 Mes más bajo: 9 ($522,058.84)\n",
      "🗓️ Mejor día de la semana: Monday ($1,346,573.59)\n",
      "🗓️ Día más bajo: Sunday ($469,358.50)\n",
      "\n",
      "👥 Cliente promedio: 47.3 compras, $10803.96 valor total\n",
      "\n",
      "💡 RECOMENDACIONES ESTRATÉGICAS:\n",
      "----------------------------------------\n",
      "🚀 OPORTUNIDADES DE CRECIMIENTO:\n",
      "   1. Impulsar ventas en Sunday: Ofertas especiales o promociones\n",
      "   2. Aprovechar el éxito de Monday: Ampliar inventario\n",
      "   3. Enfocarse en la categoría más rentable: Hielo\n",
      "\n",
      "🎯 ESTRATEGIAS DE RETENCIÓN:\n",
      "   1. 386 clientes frecuentes: Programa de lealtad\n",
      "   2. 5 clientes de una sola compra: Campaña de reactivación\n",
      "\n",
      "📊 OPTIMIZACIÓN DE INVENTARIO:\n",
      "   Priorizar stock de:\n",
      "   1. 03 BOTELLONES:Botellon Liquido ($1,281,869.00 en ventas)\n",
      "   2. 04 HIELO:Bolsa 5.5 Lbs ($1,091,645.10 en ventas)\n",
      "   3. 04 HIELO:Tonelada Escarcha ($974,495.34 en ventas)\n",
      "\n",
      "🔄 PRÓXIMOS PASOS:\n",
      "   1. Implementar sistema de alertas para días de baja venta\n",
      "   2. Desarrollar promociones cruzadas entre categorías\n",
      "   3. Crear dashboard automatizado para monitoreo diario\n",
      "   4. Establecer metas de ventas basadas en datos históricos\n",
      "\n",
      "✅ Análisis completado. ¡Utiliza estos insights para impulsar tu negocio!\n",
      "============================================================\n"
     ]
    }
   ],
   "source": [
    "# Generar recomendaciones basadas en el análisis\n",
    "print(\"💡 INSIGHTS Y RECOMENDACIONES DE NEGOCIO\")\n",
    "print(\"=\"*60)\n",
    "\n",
    "# Análisis de rendimiento por categoría\n",
    "print(\"\\n🎯 INSIGHTS CLAVE:\")\n",
    "print(\"-\" * 40)\n",
    "\n",
    "# 1. Análisis de productos más rentables\n",
    "categoria_performance = df_clean.groupby('Categoria').agg({\n",
    "    'Amount': ['sum', 'mean'],\n",
    "    'Qty': 'sum'\n",
    "}).round(2)\n",
    "categoria_performance.columns = ['Total_Ingresos', 'Ingreso_Promedio', 'Cantidad_Total']\n",
    "categoria_performance = categoria_performance.reset_index().sort_values('Total_Ingresos', ascending=False)\n",
    "\n",
    "print(\"📊 Rendimiento por categoría:\")\n",
    "for _, row in categoria_performance.iterrows():\n",
    "    print(f\"   {row['Categoria']}: L {row['Total_Ingresos']:,.2f} (Promedio: L {row['Ingreso_Promedio']:.2f})\")\n",
    "\n",
    "# 2. Análisis de estacionalidad\n",
    "mes_performance = df_clean.groupby('Month')['Amount'].sum().sort_values(ascending=False)\n",
    "mejor_mes = mes_performance.index[0]\n",
    "peor_mes = mes_performance.index[-1]\n",
    "\n",
    "print(f\"\\n📅 Mejor mes: {mejor_mes} (L {mes_performance.iloc[0]:,.2f})\")\n",
    "print(f\"📅 Mes más bajo: {peor_mes} (L {mes_performance.iloc[-1]:,.2f})\")\n",
    "\n",
    "# 3. Análisis de días de la semana\n",
    "mejor_dia = ventas_weekday.index[0]\n",
    "peor_dia = ventas_weekday.index[-1]\n",
    "\n",
    "print(f\"🗓️ Mejor día de la semana: {mejor_dia} (L {ventas_weekday.iloc[0]:,.2f})\")\n",
    "print(f\"🗓️ Día más bajo: {peor_dia} (L {ventas_weekday.iloc[-1]:,.2f})\")\n",
    "\n",
    "# 4. Análisis de clientes\n",
    "cliente_promedio_compras = clientes_metricas['Num_Transacciones'].mean()\n",
    "cliente_promedio_valor = clientes_metricas['Total_Ventas'].mean()\n",
    "\n",
    "print(f\"\\n👥 Cliente promedio: {cliente_promedio_compras:.1f} compras, L {cliente_promedio_valor:.2f} valor total\")\n",
    "\n",
    "# 5. Recomendaciones estratégicas\n",
    "print(\"\\n💡 RECOMENDACIONES ESTRATÉGICAS:\")\n",
    "print(\"-\" * 40)\n",
    "\n",
    "print(\"🚀 OPORTUNIDADES DE CRECIMIENTO:\")\n",
    "print(f\"   1. Impulsar ventas en {peor_dia}: Ofertas especiales o promociones\")\n",
    "print(f\"   2. Aprovechar el éxito de {mejor_dia}: Ampliar inventario\")\n",
    "print(f\"   3. Enfocarse en la categoría más rentable: {categoria_performance.iloc[0]['Categoria']}\")\n",
    "\n",
    "print(\"\\n🎯 ESTRATEGIAS DE RETENCIÓN:\")\n",
    "clientes_alta_frecuencia = len(clientes_metricas[clientes_metricas['Num_Transacciones'] >= 5])\n",
    "clientes_baja_frecuencia = len(clientes_metricas[clientes_metricas['Num_Transacciones'] == 1])\n",
    "\n",
    "print(f\"   1. {clientes_alta_frecuencia} clientes frecuentes: Programa de lealtad\")\n",
    "print(f\"   2. {clientes_baja_frecuencia} clientes de una sola compra: Campaña de reactivación\")\n",
    "\n",
    "print(\"\\n📊 OPTIMIZACIÓN DE INVENTARIO:\")\n",
    "top_3_productos = top_productos_ingresos.head(3)\n",
    "print(\"   Priorizar stock de:\")\n",
    "for i, (_, row) in enumerate(top_3_productos.iterrows(), 1):\n",
    "    print(f\"   {i}. {row['Item']} (L {row['Amount']:,.2f} en ventas)\")\n",
    "\n",
    "print(\"\\n🔄 PRÓXIMOS PASOS:\")\n",
    "print(\"   1. Implementar sistema de alertas para días de baja venta\")\n",
    "print(\"   2. Desarrollar promociones cruzadas entre categorías\")\n",
    "print(\"   3. Crear dashboard automatizado para monitoreo diario\")\n",
    "print(\"   4. Establecer metas de ventas basadas en datos históricos\")\n",
    "print(\"   5. Considerar factores estacionales típicos de Honduras\")\n",
    "\n",
    "print(\"\\n✅ Análisis completado. ¡Utiliza estos insights para impulsar tu negocio en Honduras!\")\n",
    "print(\"=\"*60)"
   ]
  }
 ],
 "metadata": {
  "kernelspec": {
   "display_name": "Python 3",
   "language": "python",
   "name": "python3"
  },
  "language_info": {
   "codemirror_mode": {
    "name": "ipython",
    "version": 3
   },
   "file_extension": ".py",
   "mimetype": "text/x-python",
   "name": "python",
   "nbconvert_exporter": "python",
   "pygments_lexer": "ipython3",
   "version": "3.13.7"
  }
 },
 "nbformat": 4,
 "nbformat_minor": 5
}
